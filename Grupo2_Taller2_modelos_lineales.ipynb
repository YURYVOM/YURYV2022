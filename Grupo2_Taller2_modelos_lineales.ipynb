{
  "nbformat": 4,
  "nbformat_minor": 0,
  "metadata": {
    "kernelspec": {
      "display_name": "Python 3",
      "language": "python",
      "name": "python3"
    },
    "language_info": {
      "codemirror_mode": {
        "name": "ipython",
        "version": 3
      },
      "file_extension": ".py",
      "mimetype": "text/x-python",
      "name": "python",
      "nbconvert_exporter": "python",
      "pygments_lexer": "ipython3",
      "version": "3.6.7"
    },
    "colab": {
      "provenance": [],
      "collapsed_sections": []
    }
  },
  "cells": [
    {
      "cell_type": "markdown",
      "metadata": {
        "id": "7MfWJaSUrQmo"
      },
      "source": [
        "# Taller modelos lineales\n",
        "\n",
        "\n",
        "# Parte 1 - Regresión lineal\n",
        "\n",
        "Estimar una regresión con los datos de ingresos\n",
        "\n",
        "\n",
        "## Previsión de ingresos\n",
        "\n",
        "Vamos a trabajar con un conjunto de datos del censo de EE.UU. indome ([diccionario de datos](https://archive.ics.uci.edu/ml/datasets/Adult))\n",
        "\n",
        "A muchas empresas les gustaría personalizar su oferta en función de los ingresos del cliente. Los clientes con ingresos elevados podrían, por ejemplo, estar expuestos a productos premium. Como los ingresos de un cliente no siempre se conocen explícitamente, el modelo predictivo podría estimar los ingresos de una persona basándose en otra información.\n",
        "\n",
        "Nuestro objetivo es crear un modelo predictivo que sea capaz de dar una estimación de los ingresos de una persona.\n"
      ]
    },
    {
      "cell_type": "code",
      "metadata": {
        "id": "eK62OxWerQmx",
        "colab": {
          "base_uri": "https://localhost:8080/",
          "height": 250
        },
        "outputId": "aa15c96b-4d57-44c5-9aff-e0a45a80f61e"
      },
      "source": [
        "import pandas as pd\n",
        "import numpy as np\n",
        "import seaborn as sns\n",
        "from sklearn.linear_model import LinearRegression\n",
        "%matplotlib inline\n",
        "import matplotlib.pyplot as plt\n",
        "\n",
        "# read the data and set the datetime as the index\n",
        "income = pd.read_csv('https://github.com/albahnsen/PracticalMachineLearningClass/raw/master/datasets/income.csv.zip', index_col=0)\n",
        "\n",
        "income.head()"
      ],
      "execution_count": 1,
      "outputs": [
        {
          "output_type": "execute_result",
          "data": {
            "text/plain": [
              "   Age         Workclass  fnlwgt  Education  Education-Num  \\\n",
              "0   39         State-gov   77516  Bachelors             13   \n",
              "1   50  Self-emp-not-inc   83311  Bachelors             13   \n",
              "2   38           Private  215646    HS-grad              9   \n",
              "3   53           Private  234721       11th              7   \n",
              "4   28           Private  338409  Bachelors             13   \n",
              "\n",
              "       Martial Status         Occupation   Relationship   Race     Sex  \\\n",
              "0       Never-married       Adm-clerical  Not-in-family  White    Male   \n",
              "1  Married-civ-spouse    Exec-managerial        Husband  White    Male   \n",
              "2            Divorced  Handlers-cleaners  Not-in-family  White    Male   \n",
              "3  Married-civ-spouse  Handlers-cleaners        Husband  Black    Male   \n",
              "4  Married-civ-spouse     Prof-specialty           Wife  Black  Female   \n",
              "\n",
              "   Capital Gain  Capital Loss  Hours per week        Country   Income  \n",
              "0          2174             0              40  United-States  51806.0  \n",
              "1             0             0              13  United-States  68719.0  \n",
              "2             0             0              40  United-States  51255.0  \n",
              "3             0             0              40  United-States  47398.0  \n",
              "4             0             0              40           Cuba  30493.0  "
            ],
            "text/html": [
              "\n",
              "  <div id=\"df-526f8c7c-bdcb-4790-a014-2b7d19e9d55b\">\n",
              "    <div class=\"colab-df-container\">\n",
              "      <div>\n",
              "<style scoped>\n",
              "    .dataframe tbody tr th:only-of-type {\n",
              "        vertical-align: middle;\n",
              "    }\n",
              "\n",
              "    .dataframe tbody tr th {\n",
              "        vertical-align: top;\n",
              "    }\n",
              "\n",
              "    .dataframe thead th {\n",
              "        text-align: right;\n",
              "    }\n",
              "</style>\n",
              "<table border=\"1\" class=\"dataframe\">\n",
              "  <thead>\n",
              "    <tr style=\"text-align: right;\">\n",
              "      <th></th>\n",
              "      <th>Age</th>\n",
              "      <th>Workclass</th>\n",
              "      <th>fnlwgt</th>\n",
              "      <th>Education</th>\n",
              "      <th>Education-Num</th>\n",
              "      <th>Martial Status</th>\n",
              "      <th>Occupation</th>\n",
              "      <th>Relationship</th>\n",
              "      <th>Race</th>\n",
              "      <th>Sex</th>\n",
              "      <th>Capital Gain</th>\n",
              "      <th>Capital Loss</th>\n",
              "      <th>Hours per week</th>\n",
              "      <th>Country</th>\n",
              "      <th>Income</th>\n",
              "    </tr>\n",
              "  </thead>\n",
              "  <tbody>\n",
              "    <tr>\n",
              "      <th>0</th>\n",
              "      <td>39</td>\n",
              "      <td>State-gov</td>\n",
              "      <td>77516</td>\n",
              "      <td>Bachelors</td>\n",
              "      <td>13</td>\n",
              "      <td>Never-married</td>\n",
              "      <td>Adm-clerical</td>\n",
              "      <td>Not-in-family</td>\n",
              "      <td>White</td>\n",
              "      <td>Male</td>\n",
              "      <td>2174</td>\n",
              "      <td>0</td>\n",
              "      <td>40</td>\n",
              "      <td>United-States</td>\n",
              "      <td>51806.0</td>\n",
              "    </tr>\n",
              "    <tr>\n",
              "      <th>1</th>\n",
              "      <td>50</td>\n",
              "      <td>Self-emp-not-inc</td>\n",
              "      <td>83311</td>\n",
              "      <td>Bachelors</td>\n",
              "      <td>13</td>\n",
              "      <td>Married-civ-spouse</td>\n",
              "      <td>Exec-managerial</td>\n",
              "      <td>Husband</td>\n",
              "      <td>White</td>\n",
              "      <td>Male</td>\n",
              "      <td>0</td>\n",
              "      <td>0</td>\n",
              "      <td>13</td>\n",
              "      <td>United-States</td>\n",
              "      <td>68719.0</td>\n",
              "    </tr>\n",
              "    <tr>\n",
              "      <th>2</th>\n",
              "      <td>38</td>\n",
              "      <td>Private</td>\n",
              "      <td>215646</td>\n",
              "      <td>HS-grad</td>\n",
              "      <td>9</td>\n",
              "      <td>Divorced</td>\n",
              "      <td>Handlers-cleaners</td>\n",
              "      <td>Not-in-family</td>\n",
              "      <td>White</td>\n",
              "      <td>Male</td>\n",
              "      <td>0</td>\n",
              "      <td>0</td>\n",
              "      <td>40</td>\n",
              "      <td>United-States</td>\n",
              "      <td>51255.0</td>\n",
              "    </tr>\n",
              "    <tr>\n",
              "      <th>3</th>\n",
              "      <td>53</td>\n",
              "      <td>Private</td>\n",
              "      <td>234721</td>\n",
              "      <td>11th</td>\n",
              "      <td>7</td>\n",
              "      <td>Married-civ-spouse</td>\n",
              "      <td>Handlers-cleaners</td>\n",
              "      <td>Husband</td>\n",
              "      <td>Black</td>\n",
              "      <td>Male</td>\n",
              "      <td>0</td>\n",
              "      <td>0</td>\n",
              "      <td>40</td>\n",
              "      <td>United-States</td>\n",
              "      <td>47398.0</td>\n",
              "    </tr>\n",
              "    <tr>\n",
              "      <th>4</th>\n",
              "      <td>28</td>\n",
              "      <td>Private</td>\n",
              "      <td>338409</td>\n",
              "      <td>Bachelors</td>\n",
              "      <td>13</td>\n",
              "      <td>Married-civ-spouse</td>\n",
              "      <td>Prof-specialty</td>\n",
              "      <td>Wife</td>\n",
              "      <td>Black</td>\n",
              "      <td>Female</td>\n",
              "      <td>0</td>\n",
              "      <td>0</td>\n",
              "      <td>40</td>\n",
              "      <td>Cuba</td>\n",
              "      <td>30493.0</td>\n",
              "    </tr>\n",
              "  </tbody>\n",
              "</table>\n",
              "</div>\n",
              "      <button class=\"colab-df-convert\" onclick=\"convertToInteractive('df-526f8c7c-bdcb-4790-a014-2b7d19e9d55b')\"\n",
              "              title=\"Convert this dataframe to an interactive table.\"\n",
              "              style=\"display:none;\">\n",
              "        \n",
              "  <svg xmlns=\"http://www.w3.org/2000/svg\" height=\"24px\"viewBox=\"0 0 24 24\"\n",
              "       width=\"24px\">\n",
              "    <path d=\"M0 0h24v24H0V0z\" fill=\"none\"/>\n",
              "    <path d=\"M18.56 5.44l.94 2.06.94-2.06 2.06-.94-2.06-.94-.94-2.06-.94 2.06-2.06.94zm-11 1L8.5 8.5l.94-2.06 2.06-.94-2.06-.94L8.5 2.5l-.94 2.06-2.06.94zm10 10l.94 2.06.94-2.06 2.06-.94-2.06-.94-.94-2.06-.94 2.06-2.06.94z\"/><path d=\"M17.41 7.96l-1.37-1.37c-.4-.4-.92-.59-1.43-.59-.52 0-1.04.2-1.43.59L10.3 9.45l-7.72 7.72c-.78.78-.78 2.05 0 2.83L4 21.41c.39.39.9.59 1.41.59.51 0 1.02-.2 1.41-.59l7.78-7.78 2.81-2.81c.8-.78.8-2.07 0-2.86zM5.41 20L4 18.59l7.72-7.72 1.47 1.35L5.41 20z\"/>\n",
              "  </svg>\n",
              "      </button>\n",
              "      \n",
              "  <style>\n",
              "    .colab-df-container {\n",
              "      display:flex;\n",
              "      flex-wrap:wrap;\n",
              "      gap: 12px;\n",
              "    }\n",
              "\n",
              "    .colab-df-convert {\n",
              "      background-color: #E8F0FE;\n",
              "      border: none;\n",
              "      border-radius: 50%;\n",
              "      cursor: pointer;\n",
              "      display: none;\n",
              "      fill: #1967D2;\n",
              "      height: 32px;\n",
              "      padding: 0 0 0 0;\n",
              "      width: 32px;\n",
              "    }\n",
              "\n",
              "    .colab-df-convert:hover {\n",
              "      background-color: #E2EBFA;\n",
              "      box-shadow: 0px 1px 2px rgba(60, 64, 67, 0.3), 0px 1px 3px 1px rgba(60, 64, 67, 0.15);\n",
              "      fill: #174EA6;\n",
              "    }\n",
              "\n",
              "    [theme=dark] .colab-df-convert {\n",
              "      background-color: #3B4455;\n",
              "      fill: #D2E3FC;\n",
              "    }\n",
              "\n",
              "    [theme=dark] .colab-df-convert:hover {\n",
              "      background-color: #434B5C;\n",
              "      box-shadow: 0px 1px 3px 1px rgba(0, 0, 0, 0.15);\n",
              "      filter: drop-shadow(0px 1px 2px rgba(0, 0, 0, 0.3));\n",
              "      fill: #FFFFFF;\n",
              "    }\n",
              "  </style>\n",
              "\n",
              "      <script>\n",
              "        const buttonEl =\n",
              "          document.querySelector('#df-526f8c7c-bdcb-4790-a014-2b7d19e9d55b button.colab-df-convert');\n",
              "        buttonEl.style.display =\n",
              "          google.colab.kernel.accessAllowed ? 'block' : 'none';\n",
              "\n",
              "        async function convertToInteractive(key) {\n",
              "          const element = document.querySelector('#df-526f8c7c-bdcb-4790-a014-2b7d19e9d55b');\n",
              "          const dataTable =\n",
              "            await google.colab.kernel.invokeFunction('convertToInteractive',\n",
              "                                                     [key], {});\n",
              "          if (!dataTable) return;\n",
              "\n",
              "          const docLinkHtml = 'Like what you see? Visit the ' +\n",
              "            '<a target=\"_blank\" href=https://colab.research.google.com/notebooks/data_table.ipynb>data table notebook</a>'\n",
              "            + ' to learn more about interactive tables.';\n",
              "          element.innerHTML = '';\n",
              "          dataTable['output_type'] = 'display_data';\n",
              "          await google.colab.output.renderOutput(dataTable, element);\n",
              "          const docLink = document.createElement('div');\n",
              "          docLink.innerHTML = docLinkHtml;\n",
              "          element.appendChild(docLink);\n",
              "        }\n",
              "      </script>\n",
              "    </div>\n",
              "  </div>\n",
              "  "
            ]
          },
          "metadata": {},
          "execution_count": 1
        }
      ]
    },
    {
      "cell_type": "code",
      "metadata": {
        "id": "ZvEW_YjhrQm2",
        "colab": {
          "base_uri": "https://localhost:8080/"
        },
        "outputId": "6544cf02-62f6-463b-c1c1-442d56ebdbf6"
      },
      "source": [
        "income.shape"
      ],
      "execution_count": 2,
      "outputs": [
        {
          "output_type": "execute_result",
          "data": {
            "text/plain": [
              "(32561, 15)"
            ]
          },
          "metadata": {},
          "execution_count": 2
        }
      ]
    },
    {
      "cell_type": "markdown",
      "metadata": {
        "id": "oHu8-0bSrQm4"
      },
      "source": [
        "## Ejercicio 4.1 \n",
        "\n",
        "¿Cuál es la relación entre la edad y la renta?\n",
        "\n"
      ]
    },
    {
      "cell_type": "code",
      "metadata": {
        "id": "1jJabJiPrQm4",
        "colab": {
          "base_uri": "https://localhost:8080/",
          "height": 297
        },
        "outputId": "6a575938-a078-4ede-9833-e12dfbb9c47a"
      },
      "source": [
        "income.plot(x='Age', y='Income', kind='scatter')"
      ],
      "execution_count": 3,
      "outputs": [
        {
          "output_type": "execute_result",
          "data": {
            "text/plain": [
              "<matplotlib.axes._subplots.AxesSubplot at 0x7fbf90420490>"
            ]
          },
          "metadata": {},
          "execution_count": 3
        },
        {
          "output_type": "display_data",
          "data": {
            "text/plain": [
              "<Figure size 432x288 with 1 Axes>"
            ],
            "image/png": "[encoded data removed]"
          },
          "metadata": {
            "needs_background": "light"
          }
        }
      ]
    },
    {
      "cell_type": "markdown",
      "source": [
        "Como se observa en el gráfico anterior,no hay una relación característica entre las variables Edad e ingreso, es por esto que se vé una nube de puntos sin forma o distribución alguna. "
      ],
      "metadata": {
        "id": "kAnoCsqFE8Av"
      }
    },
    {
      "cell_type": "markdown",
      "metadata": {
        "id": "dHBpky16lKCt"
      },
      "source": [
        "## Ejercicio 4.2\n",
        "Para un aumento del uno por ciento en la edad, ¿cuánto aumenta la renta?\n",
        "Utilizando sklearn estime una regresión lineal y prediga los ingresos cuando la Edad es de 30 y 40 años."
      ]
    },
    {
      "cell_type": "code",
      "source": [
        "mod1 = LinearRegression()\n",
        "y = income['Income']\n",
        "x = income[['Age']]\n",
        "mod1.fit(x,y)"
      ],
      "metadata": {
        "id": "Ca9YvW1dJRzw",
        "colab": {
          "base_uri": "https://localhost:8080/"
        },
        "outputId": "1b45d58e-c1b3-4b55-f271-5df412ecd6de"
      },
      "execution_count": 4,
      "outputs": [
        {
          "output_type": "execute_result",
          "data": {
            "text/plain": [
              "LinearRegression()"
            ]
          },
          "metadata": {},
          "execution_count": 4
        }
      ]
    },
    {
      "cell_type": "code",
      "source": [
        "# Coeficientes del Modelo\n",
        "# Intercepto\n",
        "print(\"Intercepto\",mod1.intercept_)\n",
        "# Beta 1 estimado para la variable Edad\n",
        "print(\"Beta 1 estimado\",mod1.coef_)"
      ],
      "metadata": {
        "id": "_-O2XKEQNDQ1",
        "colab": {
          "base_uri": "https://localhost:8080/"
        },
        "outputId": "9330697f-7005-474c-a3a3-188238bca5e3"
      },
      "execution_count": 5,
      "outputs": [
        {
          "output_type": "stream",
          "name": "stdout",
          "text": [
            "Intercepto 32538.088130868626\n",
            "Beta 1 estimado [542.16765707]\n"
          ]
        }
      ]
    },
    {
      "cell_type": "markdown",
      "source": [
        "#### Modelo: \n",
        "Income = 32538.088 + 542.1676*Age\n",
        "- Cuando la edad aumenta en un 1% el ingreso de la persona aumenta en 542 dólares."
      ],
      "metadata": {
        "id": "ccxDR_xRJ11c"
      }
    },
    {
      "cell_type": "code",
      "source": [
        "Ingresos30 = 32538.088130868626 + 542.16765707*30\n",
        "print(\"Cuando una persona posee 30 años sus ingresos estimados son de:\",Ingresos30)\n",
        "Ingresos40 = 32538.088130868626 + 542.16765707*40\n",
        "print(\"Cuando una persona posee 40 años sus ingresos estimados son de:\",Ingresos40)"
      ],
      "metadata": {
        "colab": {
          "base_uri": "https://localhost:8080/"
        },
        "id": "FsfWZSyVKkPy",
        "outputId": "d460f688-e500-4dc4-f004-e2fdd4cea878"
      },
      "execution_count": 6,
      "outputs": [
        {
          "output_type": "stream",
          "name": "stdout",
          "text": [
            "Cuando una persona posee 30 años sus ingresos estimados son de: 48803.117842968626\n",
            "Cuando una persona posee 40 años sus ingresos estimados son de: 54224.79441366863\n"
          ]
        }
      ]
    },
    {
      "cell_type": "markdown",
      "source": [
        "EL ingresoq ue recibe una persona de 40 años es mayor al que recibe una persona de 30."
      ],
      "metadata": {
        "id": "l-KFNxySvp3L"
      }
    },
    {
      "cell_type": "markdown",
      "metadata": {
        "id": "1lDYrtbArQm7"
      },
      "source": [
        "\n",
        "## Ejercicio 4.3\n",
        "\n",
        "Ejecute un modelo de regresión utilizando como características la Edad y la Edad$^2$ utilizando las ecuaciones OLS. Prediga de nuevo los ingresos cuando la Edad es de 30 y 40 años, y compare con el modelo anterior."
      ]
    },
    {
      "cell_type": "code",
      "metadata": {
        "collapsed": true,
        "id": "9oiQN-TArQm9",
        "colab": {
          "base_uri": "https://localhost:8080/"
        },
        "outputId": "78a3d5c2-10a2-42f3-9752-1da1e4d7b3eb"
      },
      "source": [
        "income['Age2'] = income['Age'] ** 2\n",
        "x = income[['Age','Age2']]\n",
        "y = income['Income']\n",
        "mod2 = LinearRegression()\n",
        "mod2.fit(x,y)"
      ],
      "execution_count": 7,
      "outputs": [
        {
          "output_type": "execute_result",
          "data": {
            "text/plain": [
              "LinearRegression()"
            ]
          },
          "metadata": {},
          "execution_count": 7
        }
      ]
    },
    {
      "cell_type": "code",
      "source": [
        "# Coeficientes del Modelo\n",
        "# Intercepto\n",
        "print(\"Intercepto\",mod2.intercept_)\n",
        "# Beta 1 y Beta 2 estimados para la variable Edad y Edad^2\n",
        "print(\"Betas asociados a las variables\",mod2.coef_)"
      ],
      "metadata": {
        "colab": {
          "base_uri": "https://localhost:8080/"
        },
        "id": "QUH5vozLMi0M",
        "outputId": "20cc36fc-a83d-44b4-f2d7-2e270dff907e"
      },
      "execution_count": null,
      "outputs": [
        {
          "output_type": "stream",
          "name": "stdout",
          "text": [
            "Intercepto -16225.070974074282\n",
            "Betas asociados a las variables [3131.77014151  -30.54341041]\n"
          ]
        }
      ]
    },
    {
      "cell_type": "markdown",
      "source": [
        "#### Modelo\n",
        "Income = -16225.07 + 3131.77 * Age - 30.54 *Age^2\n",
        "- Cuando la edad aumenta en un 1% la variable Ingreso aumenta 3131 dólares; por otro lado el ingreso disminuye 30 dólares cuando el cuadrado de la edad aumenta en un 1%."
      ],
      "metadata": {
        "id": "mMyVOrq8MscC"
      }
    },
    {
      "cell_type": "code",
      "source": [
        "Ingresos230 = -16225.070974074282 +  3131.77014151*30  -30.54341041*30**2\n",
        "print(\"Cuando una persona posee 30 años sus ingresos estimados son de:\",Ingresos230)\n",
        "Ingresos240 = -16225.070974074282 +  3131.77014151*40  -30.54341041*40**2\n",
        "print(\"Cuando una persona posee 40 años sus ingresos estimados son de:\",Ingresos240)"
      ],
      "metadata": {
        "colab": {
          "base_uri": "https://localhost:8080/"
        },
        "id": "RJyFxRdENsvk",
        "outputId": "873d0fea-71be-43d5-fc84-4a4086fb8555"
      },
      "execution_count": 8,
      "outputs": [
        {
          "output_type": "stream",
          "name": "stdout",
          "text": [
            "Cuando una persona posee 30 años sus ingresos estimados son de: 50238.96390222572\n",
            "Cuando una persona posee 40 años sus ingresos estimados son de: 60176.27803032571\n"
          ]
        }
      ]
    },
    {
      "cell_type": "markdown",
      "source": [
        "En comparación con el modelo en donde sólo se considera como variable explicativa a la Edad; el modelo considerando el cuadrado de la Edad estima ingresos más altos para las personas que están en los grupos de edades de 30 y 40 años."
      ],
      "metadata": {
        "id": "TL42MjUvOEbA"
      }
    },
    {
      "cell_type": "markdown",
      "metadata": {
        "id": "tqH5f5bbrQm-"
      },
      "source": [
        "## Ejercicio 4.4\n",
        "Estime una regresión utilizando más características, diga cuáles y por qué las usó. Prediga de nuevo los ingresos cuando la Edad es de 30 y 40 años, y compare con el modelo anterior.\n"
      ]
    },
    {
      "cell_type": "markdown",
      "source": [
        "Con el fin de identificar qué otras variables pueden ser utilizadas como explicativas para la regresión se hará uso de la matriz de correlaciones."
      ],
      "metadata": {
        "id": "-O7YlSalmcJS"
      }
    },
    {
      "cell_type": "code",
      "metadata": {
        "id": "lHhA4XnprQm_",
        "colab": {
          "base_uri": "https://localhost:8080/",
          "height": 372
        },
        "outputId": "d715419a-2406-473b-f584-11eaa534889a"
      },
      "source": [
        "cor =pd.DataFrame(round(income.corr(),2))\n",
        "fig, ax = plt.subplots(nrows=1, ncols=1, figsize=(5, 5))\n",
        "\n",
        "sns.heatmap(\n",
        "    cor,\n",
        "    annot     = True,\n",
        "    cbar      = False,\n",
        "    annot_kws = {\"size\": 8},\n",
        "    vmin      = -1,\n",
        "    vmax      = 1,\n",
        "    center    = 0,\n",
        "    cmap      = sns.diverging_palette(20, 220, n=200),\n",
        "    square    = True,\n",
        "    ax        = ax\n",
        ")\n",
        "\n",
        "ax.set_xticklabels(\n",
        "    ax.get_xticklabels(),\n",
        "    rotation = 45,\n",
        "    horizontalalignment = 'right',\n",
        ")\n",
        "\n",
        "ax.tick_params(labelsize = 10)"
      ],
      "execution_count": 9,
      "outputs": [
        {
          "output_type": "display_data",
          "data": {
            "text/plain": [
              "<Figure size 360x360 with 1 Axes>"
            ],
            "image/png": "[encoded data removed]"
          },
          "metadata": {
            "needs_background": "light"
          }
        }
      ]
    },
    {
      "cell_type": "code",
      "source": [
        "xsex = pd.get_dummies(income[['Sex']]).drop(['Sex_Male'],axis=1) "
      ],
      "metadata": {
        "id": "9POp6iIhoO2F"
      },
      "execution_count": 10,
      "outputs": []
    },
    {
      "cell_type": "markdown",
      "source": [
        "Con base en la matriz anterior se puede concluir que variables como Education-Num y Hours per week también pueden ser incluidas en el modelo ya que poseen una buena correlación con la variable objetivo (Ingreso) teniendo como punto de referencia correlaciones mayores al 25%. Por otro lado con el fin de \"identificar\" una brecha de género se puede incluir la variable sexo en la regresión. "
      ],
      "metadata": {
        "id": "JsLo8tGUpnaH"
      }
    },
    {
      "cell_type": "code",
      "source": [
        "mod3 = LinearRegression()\n",
        "x = income[['Age','Education-Num','Hours per week',]]\n",
        "x = pd.concat([x, xsex], axis=1)\n",
        "y = income['Income']\n",
        "mod3.fit(x,y)\n"
      ],
      "metadata": {
        "id": "sBcJ33QPrgW3",
        "colab": {
          "base_uri": "https://localhost:8080/"
        },
        "outputId": "ef14f12c-e0a4-4841-eea4-cbba0054ca7b"
      },
      "execution_count": 11,
      "outputs": [
        {
          "output_type": "execute_result",
          "data": {
            "text/plain": [
              "LinearRegression()"
            ]
          },
          "metadata": {},
          "execution_count": 11
        }
      ]
    },
    {
      "cell_type": "code",
      "source": [
        "# Coeficientes del Modelo\n",
        "# Intercepto\n",
        "print(\"Intercepto\",mod3.intercept_)\n",
        "# Beta 1, Beta 2 y Beta 3 estimado para la variable Edad Education Num, Hours per week, hombre y mujer .\n",
        "print(\"Betas asociados a las variables\",mod3.coef_)"
      ],
      "metadata": {
        "colab": {
          "base_uri": "https://localhost:8080/"
        },
        "id": "CgTIJdWeRVLR",
        "outputId": "64074aee-4a96-4f0d-87d8-77ba0087f7f5"
      },
      "execution_count": 12,
      "outputs": [
        {
          "output_type": "stream",
          "name": "stdout",
          "text": [
            "Intercepto -6511.607130527584\n",
            "Betas asociados a las variables [   436.06237935   3955.24735797    249.91086352 -20659.13445055]\n"
          ]
        }
      ]
    },
    {
      "cell_type": "markdown",
      "source": [
        "#### Modelo\n",
        "Income = -6511.61 + 436.06*Age + 3955.25*'Education-Num' +249.91'Hours per week'  -20659.13*female\n",
        "- Cuando la edad aumenta en un 1% el ingreso de las personas aumenta en 436 dólares manteniendo las demás variables como constantes. \n",
        "- Por otro aldo cuando la variable Education-Num aumenta en un 1% el ingreso aumenta en 3955 dólares. \n",
        "- Finalmente cuando el sexo de la persona es femenino el ingreso disminuye en 20659 dólares en comparación cuando es masculino."
      ],
      "metadata": {
        "id": "1iHomXIBRn4z"
      }
    },
    {
      "cell_type": "code",
      "source": [
        "print(\"Cuando las demás variables diferentes a Age toman valores de cero se tiene una estimación para el ingreso de:\")\n",
        "Ingresos330 = -6511.607130527584 + 436.06237935*30\n",
        "print(Ingresos330, \"para una persona de 30 años.\")\n",
        "Ingresos340 = -6511.607130527584 + 436.06237935*40\n",
        "print(Ingresos340,\"para una persona de 40 años.\")"
      ],
      "metadata": {
        "colab": {
          "base_uri": "https://localhost:8080/"
        },
        "id": "LW1Q2DXIUaSu",
        "outputId": "9a5fe171-2999-4448-a13b-ed6ca5cda9cb"
      },
      "execution_count": 13,
      "outputs": [
        {
          "output_type": "stream",
          "name": "stdout",
          "text": [
            "Cuando las demás variables diferentes a Age toman valores de cero se tiene una estimación para el ingreso de:\n",
            "6570.264249972417 para una persona de 30 años.\n",
            "10930.888043472416 para una persona de 40 años.\n"
          ]
        }
      ]
    },
    {
      "cell_type": "markdown",
      "source": [
        "## Ejercicio 4.5\n",
        "\n",
        "Utilizando las características seleccionadas en el punto anterior, parta la base en training (90%) y validación (10%). Posterior, con la bases de training (90%) aplique un modelo de regresión lineal usando K fold cross validation:\n",
        "* K = 2\n",
        "* K = 5\n",
        "* K = 10\n",
        "\n",
        "Calcule el MSE de test y el MSE de validación (10% restante) y compare los modelos."
      ],
      "metadata": {
        "id": "zjgkRP11WmnC"
      }
    },
    {
      "cell_type": "code",
      "source": [
        "from sklearn.model_selection import train_test_split\n",
        "from sklearn.model_selection import KFold\n",
        "from sklearn.model_selection import cross_val_score\n",
        "from sklearn.metrics import precision_score\n",
        "xsex = pd.get_dummies(income[['Sex']]).drop(['Sex_Male'], axis=1)\n",
        "x = income[['Age','Education-Num','Hours per week',]]\n",
        "x = pd.concat([x, xsex], axis=1)\n",
        "y = income['Income']\n",
        "mod451 = LinearRegression()\n",
        "mod452 = LinearRegression()\n",
        "mod453 = LinearRegression()"
      ],
      "metadata": {
        "id": "tSpH8VhQWl_s"
      },
      "execution_count": 14,
      "outputs": []
    },
    {
      "cell_type": "code",
      "source": [
        "# Train-validation\n",
        "X_train, X_validation, y_train, y_validation = train_test_split(x, y, test_size=0.1, random_state=123)"
      ],
      "metadata": {
        "id": "30K7MxYHatrA"
      },
      "execution_count": 15,
      "outputs": []
    },
    {
      "cell_type": "code",
      "source": [
        "#K fold cross entrenamiento \n",
        "lrkf2 = KFold(n_splits=2, random_state=123, shuffle=True) # K=2\n",
        "scores2 = cross_val_score(mod451, X_train, y_train,scoring='neg_mean_squared_error', cv=lrkf2, n_jobs=-1)\n",
        "\n",
        "lrkf5 = KFold(n_splits=5, random_state=123, shuffle=True) # K=5\n",
        "scores5 = cross_val_score(mod452, X_train, y_train,scoring='neg_mean_squared_error', cv=lrkf5, n_jobs=-1)\n",
        "\n",
        "lrkf10 = KFold(n_splits=10, random_state=123, shuffle=True) # K=10\n",
        "scores10 = cross_val_score(mod453, X_train, y_train, scoring='neg_mean_squared_error',cv=lrkf10, n_jobs=-1)\n",
        " \n",
        "#MSE entrenamiento\n",
        "print('MSE del entrenamiento k=2:', np.mean(abs(scores2)))\n",
        "print('MSE del entrenamiento k = 5 :', np.mean(abs(scores5)))\n",
        "print('MSE del entrenamiento k = 10:', np.mean(abs(scores10)))"
      ],
      "metadata": {
        "id": "Uyb3paYSavR9",
        "colab": {
          "base_uri": "https://localhost:8080/"
        },
        "outputId": "99bd3869-e42d-425c-d060-f5e74d072a1f"
      },
      "execution_count": 16,
      "outputs": [
        {
          "output_type": "stream",
          "name": "stdout",
          "text": [
            "MSE del entrenamiento k=2: 363168957.59625983\n",
            "MSE del entrenamiento k = 5 : 363217836.75342876\n",
            "MSE del entrenamiento k = 10: 363256783.878748\n"
          ]
        }
      ]
    },
    {
      "cell_type": "markdown",
      "source": [
        "La diferencia entre el MSe cuando k=5 y k=2 es muy pequeña; sin embargo nos quedaremos con el mejor modelo, es decir con el que minimice el MSE que para este caso es utilizando 2 grupos(k=2). "
      ],
      "metadata": {
        "id": "0GE7Mbd6yDCp"
      }
    },
    {
      "cell_type": "code",
      "source": [
        "# Grupo de validación.\n",
        "from sklearn.metrics import mean_squared_error\n",
        "mod452.fit(X_train, y_train)\n",
        "y_predict = mod452.predict(X_validation)\n",
        "print('MSE validación:', mean_squared_error(y_validation, y_predict))"
      ],
      "metadata": {
        "colab": {
          "base_uri": "https://localhost:8080/"
        },
        "id": "ACuAtmWyluxl",
        "outputId": "4e3eef90-647e-41d3-dd0e-05b7252c1b67"
      },
      "execution_count": 17,
      "outputs": [
        {
          "output_type": "stream",
          "name": "stdout",
          "text": [
            "MSE validación: 360853253.3476765\n"
          ]
        }
      ]
    },
    {
      "cell_type": "markdown",
      "source": [
        "Como se puede evidenciar el error cuadrático medio en el grupo de validación es menor en comparación con el grupo del training y test. Esto nos indica que el modelo ajustado funciona adecuadamente para hacer la predicción de Income teniendo como variables explicativas Age, Sex, Education-Num y Hours per week."
      ],
      "metadata": {
        "id": "xagS0DksyDCp"
      }
    },
    {
      "cell_type": "markdown",
      "metadata": {
        "id": "6ZotgUpZrQm_"
      },
      "source": [
        "#Parte 2: Regresión Logística\n",
        "\n",
        "### Customer Churn: \n",
        "La pérdida/abandono de los clientes de la empresa. Especialmente, las industrias que la adquisición de usuarios es costosa, es de crucial importancia para una empresa para reducir e idealmente hacer que la rotación de clientes a 0 para mantener sus ingresos recurrentes. Si se considera que la retención de clientes es siempre más barata que la adquisición de clientes y generalmente depende de los datos del usuario (uso del servicio o producto), plantea un gran/excitante/difícil problema para el aprendizaje automático.\n",
        "\n",
        "### Datos\n",
        "El conjunto de datos procede de un proveedor de servicios de telecomunicaciones en el que se recoge el uso del servicio (plan internacional, plan de buzón de voz, uso diurno, uso nocturno, etc.) y la información demográfica básica (estado y código de área) del usuario. En el caso de las etiquetas, tengo un único punto de datos que indica si el cliente ha sido dado de baja o no.\n"
      ]
    },
    {
      "cell_type": "code",
      "metadata": {
        "id": "TgPh9vh-rQnA"
      },
      "source": [
        "# Download the dataset\n",
        "data = pd.read_csv('https://github.com/ghuiber/churn/raw/master/data/churn.csv')"
      ],
      "execution_count": 18,
      "outputs": []
    },
    {
      "cell_type": "code",
      "metadata": {
        "id": "_upTQFR_rQnA",
        "colab": {
          "base_uri": "https://localhost:8080/",
          "height": 627
        },
        "outputId": "62a3b79e-d96c-435a-d04a-b7dfbe386d85"
      },
      "source": [
        "data.head(n=10)"
      ],
      "execution_count": 19,
      "outputs": [
        {
          "output_type": "execute_result",
          "data": {
            "text/plain": [
              "  State  Account Length  Area Code     Phone Int'l Plan VMail Plan  \\\n",
              "0    KS             128        415  382-4657         no        yes   \n",
              "1    OH             107        415  371-7191         no        yes   \n",
              "2    NJ             137        415  358-1921         no         no   \n",
              "3    OH              84        408  375-9999        yes         no   \n",
              "4    OK              75        415  330-6626        yes         no   \n",
              "5    AL             118        510  391-8027        yes         no   \n",
              "6    MA             121        510  355-9993         no        yes   \n",
              "7    MO             147        415  329-9001        yes         no   \n",
              "8    LA             117        408  335-4719         no         no   \n",
              "9    WV             141        415  330-8173        yes        yes   \n",
              "\n",
              "   VMail Message  Day Mins  Day Calls  Day Charge  ...  Eve Calls  Eve Charge  \\\n",
              "0             25     265.1        110       45.07  ...         99       16.78   \n",
              "1             26     161.6        123       27.47  ...        103       16.62   \n",
              "2              0     243.4        114       41.38  ...        110       10.30   \n",
              "3              0     299.4         71       50.90  ...         88        5.26   \n",
              "4              0     166.7        113       28.34  ...        122       12.61   \n",
              "5              0     223.4         98       37.98  ...        101       18.75   \n",
              "6             24     218.2         88       37.09  ...        108       29.62   \n",
              "7              0     157.0         79       26.69  ...         94        8.76   \n",
              "8              0     184.5         97       31.37  ...         80       29.89   \n",
              "9             37     258.6         84       43.96  ...        111       18.87   \n",
              "\n",
              "   Night Mins  Night Calls  Night Charge  Intl Mins  Intl Calls  Intl Charge  \\\n",
              "0       244.7           91         11.01       10.0           3         2.70   \n",
              "1       254.4          103         11.45       13.7           3         3.70   \n",
              "2       162.6          104          7.32       12.2           5         3.29   \n",
              "3       196.9           89          8.86        6.6           7         1.78   \n",
              "4       186.9          121          8.41       10.1           3         2.73   \n",
              "5       203.9          118          9.18        6.3           6         1.70   \n",
              "6       212.6          118          9.57        7.5           7         2.03   \n",
              "7       211.8           96          9.53        7.1           6         1.92   \n",
              "8       215.8           90          9.71        8.7           4         2.35   \n",
              "9       326.4           97         14.69       11.2           5         3.02   \n",
              "\n",
              "   CustServ Calls  Churn?  \n",
              "0               1  False.  \n",
              "1               1  False.  \n",
              "2               0  False.  \n",
              "3               2  False.  \n",
              "4               3  False.  \n",
              "5               0  False.  \n",
              "6               3  False.  \n",
              "7               0  False.  \n",
              "8               1  False.  \n",
              "9               0  False.  \n",
              "\n",
              "[10 rows x 21 columns]"
            ],
            "text/html": [
              "\n",
              "  <div id=\"df-df90c75a-b121-439b-b555-c35c718ce05d\">\n",
              "    <div class=\"colab-df-container\">\n",
              "      <div>\n",
              "<style scoped>\n",
              "    .dataframe tbody tr th:only-of-type {\n",
              "        vertical-align: middle;\n",
              "    }\n",
              "\n",
              "    .dataframe tbody tr th {\n",
              "        vertical-align: top;\n",
              "    }\n",
              "\n",
              "    .dataframe thead th {\n",
              "        text-align: right;\n",
              "    }\n",
              "</style>\n",
              "<table border=\"1\" class=\"dataframe\">\n",
              "  <thead>\n",
              "    <tr style=\"text-align: right;\">\n",
              "      <th></th>\n",
              "      <th>State</th>\n",
              "      <th>Account Length</th>\n",
              "      <th>Area Code</th>\n",
              "      <th>Phone</th>\n",
              "      <th>Int'l Plan</th>\n",
              "      <th>VMail Plan</th>\n",
              "      <th>VMail Message</th>\n",
              "      <th>Day Mins</th>\n",
              "      <th>Day Calls</th>\n",
              "      <th>Day Charge</th>\n",
              "      <th>...</th>\n",
              "      <th>Eve Calls</th>\n",
              "      <th>Eve Charge</th>\n",
              "      <th>Night Mins</th>\n",
              "      <th>Night Calls</th>\n",
              "      <th>Night Charge</th>\n",
              "      <th>Intl Mins</th>\n",
              "      <th>Intl Calls</th>\n",
              "      <th>Intl Charge</th>\n",
              "      <th>CustServ Calls</th>\n",
              "      <th>Churn?</th>\n",
              "    </tr>\n",
              "  </thead>\n",
              "  <tbody>\n",
              "    <tr>\n",
              "      <th>0</th>\n",
              "      <td>KS</td>\n",
              "      <td>128</td>\n",
              "      <td>415</td>\n",
              "      <td>382-4657</td>\n",
              "      <td>no</td>\n",
              "      <td>yes</td>\n",
              "      <td>25</td>\n",
              "      <td>265.1</td>\n",
              "      <td>110</td>\n",
              "      <td>45.07</td>\n",
              "      <td>...</td>\n",
              "      <td>99</td>\n",
              "      <td>16.78</td>\n",
              "      <td>244.7</td>\n",
              "      <td>91</td>\n",
              "      <td>11.01</td>\n",
              "      <td>10.0</td>\n",
              "      <td>3</td>\n",
              "      <td>2.70</td>\n",
              "      <td>1</td>\n",
              "      <td>False.</td>\n",
              "    </tr>\n",
              "    <tr>\n",
              "      <th>1</th>\n",
              "      <td>OH</td>\n",
              "      <td>107</td>\n",
              "      <td>415</td>\n",
              "      <td>371-7191</td>\n",
              "      <td>no</td>\n",
              "      <td>yes</td>\n",
              "      <td>26</td>\n",
              "      <td>161.6</td>\n",
              "      <td>123</td>\n",
              "      <td>27.47</td>\n",
              "      <td>...</td>\n",
              "      <td>103</td>\n",
              "      <td>16.62</td>\n",
              "      <td>254.4</td>\n",
              "      <td>103</td>\n",
              "      <td>11.45</td>\n",
              "      <td>13.7</td>\n",
              "      <td>3</td>\n",
              "      <td>3.70</td>\n",
              "      <td>1</td>\n",
              "      <td>False.</td>\n",
              "    </tr>\n",
              "    <tr>\n",
              "      <th>2</th>\n",
              "      <td>NJ</td>\n",
              "      <td>137</td>\n",
              "      <td>415</td>\n",
              "      <td>358-1921</td>\n",
              "      <td>no</td>\n",
              "      <td>no</td>\n",
              "      <td>0</td>\n",
              "      <td>243.4</td>\n",
              "      <td>114</td>\n",
              "      <td>41.38</td>\n",
              "      <td>...</td>\n",
              "      <td>110</td>\n",
              "      <td>10.30</td>\n",
              "      <td>162.6</td>\n",
              "      <td>104</td>\n",
              "      <td>7.32</td>\n",
              "      <td>12.2</td>\n",
              "      <td>5</td>\n",
              "      <td>3.29</td>\n",
              "      <td>0</td>\n",
              "      <td>False.</td>\n",
              "    </tr>\n",
              "    <tr>\n",
              "      <th>3</th>\n",
              "      <td>OH</td>\n",
              "      <td>84</td>\n",
              "      <td>408</td>\n",
              "      <td>375-9999</td>\n",
              "      <td>yes</td>\n",
              "      <td>no</td>\n",
              "      <td>0</td>\n",
              "      <td>299.4</td>\n",
              "      <td>71</td>\n",
              "      <td>50.90</td>\n",
              "      <td>...</td>\n",
              "      <td>88</td>\n",
              "      <td>5.26</td>\n",
              "      <td>196.9</td>\n",
              "      <td>89</td>\n",
              "      <td>8.86</td>\n",
              "      <td>6.6</td>\n",
              "      <td>7</td>\n",
              "      <td>1.78</td>\n",
              "      <td>2</td>\n",
              "      <td>False.</td>\n",
              "    </tr>\n",
              "    <tr>\n",
              "      <th>4</th>\n",
              "      <td>OK</td>\n",
              "      <td>75</td>\n",
              "      <td>415</td>\n",
              "      <td>330-6626</td>\n",
              "      <td>yes</td>\n",
              "      <td>no</td>\n",
              "      <td>0</td>\n",
              "      <td>166.7</td>\n",
              "      <td>113</td>\n",
              "      <td>28.34</td>\n",
              "      <td>...</td>\n",
              "      <td>122</td>\n",
              "      <td>12.61</td>\n",
              "      <td>186.9</td>\n",
              "      <td>121</td>\n",
              "      <td>8.41</td>\n",
              "      <td>10.1</td>\n",
              "      <td>3</td>\n",
              "      <td>2.73</td>\n",
              "      <td>3</td>\n",
              "      <td>False.</td>\n",
              "    </tr>\n",
              "    <tr>\n",
              "      <th>5</th>\n",
              "      <td>AL</td>\n",
              "      <td>118</td>\n",
              "      <td>510</td>\n",
              "      <td>391-8027</td>\n",
              "      <td>yes</td>\n",
              "      <td>no</td>\n",
              "      <td>0</td>\n",
              "      <td>223.4</td>\n",
              "      <td>98</td>\n",
              "      <td>37.98</td>\n",
              "      <td>...</td>\n",
              "      <td>101</td>\n",
              "      <td>18.75</td>\n",
              "      <td>203.9</td>\n",
              "      <td>118</td>\n",
              "      <td>9.18</td>\n",
              "      <td>6.3</td>\n",
              "      <td>6</td>\n",
              "      <td>1.70</td>\n",
              "      <td>0</td>\n",
              "      <td>False.</td>\n",
              "    </tr>\n",
              "    <tr>\n",
              "      <th>6</th>\n",
              "      <td>MA</td>\n",
              "      <td>121</td>\n",
              "      <td>510</td>\n",
              "      <td>355-9993</td>\n",
              "      <td>no</td>\n",
              "      <td>yes</td>\n",
              "      <td>24</td>\n",
              "      <td>218.2</td>\n",
              "      <td>88</td>\n",
              "      <td>37.09</td>\n",
              "      <td>...</td>\n",
              "      <td>108</td>\n",
              "      <td>29.62</td>\n",
              "      <td>212.6</td>\n",
              "      <td>118</td>\n",
              "      <td>9.57</td>\n",
              "      <td>7.5</td>\n",
              "      <td>7</td>\n",
              "      <td>2.03</td>\n",
              "      <td>3</td>\n",
              "      <td>False.</td>\n",
              "    </tr>\n",
              "    <tr>\n",
              "      <th>7</th>\n",
              "      <td>MO</td>\n",
              "      <td>147</td>\n",
              "      <td>415</td>\n",
              "      <td>329-9001</td>\n",
              "      <td>yes</td>\n",
              "      <td>no</td>\n",
              "      <td>0</td>\n",
              "      <td>157.0</td>\n",
              "      <td>79</td>\n",
              "      <td>26.69</td>\n",
              "      <td>...</td>\n",
              "      <td>94</td>\n",
              "      <td>8.76</td>\n",
              "      <td>211.8</td>\n",
              "      <td>96</td>\n",
              "      <td>9.53</td>\n",
              "      <td>7.1</td>\n",
              "      <td>6</td>\n",
              "      <td>1.92</td>\n",
              "      <td>0</td>\n",
              "      <td>False.</td>\n",
              "    </tr>\n",
              "    <tr>\n",
              "      <th>8</th>\n",
              "      <td>LA</td>\n",
              "      <td>117</td>\n",
              "      <td>408</td>\n",
              "      <td>335-4719</td>\n",
              "      <td>no</td>\n",
              "      <td>no</td>\n",
              "      <td>0</td>\n",
              "      <td>184.5</td>\n",
              "      <td>97</td>\n",
              "      <td>31.37</td>\n",
              "      <td>...</td>\n",
              "      <td>80</td>\n",
              "      <td>29.89</td>\n",
              "      <td>215.8</td>\n",
              "      <td>90</td>\n",
              "      <td>9.71</td>\n",
              "      <td>8.7</td>\n",
              "      <td>4</td>\n",
              "      <td>2.35</td>\n",
              "      <td>1</td>\n",
              "      <td>False.</td>\n",
              "    </tr>\n",
              "    <tr>\n",
              "      <th>9</th>\n",
              "      <td>WV</td>\n",
              "      <td>141</td>\n",
              "      <td>415</td>\n",
              "      <td>330-8173</td>\n",
              "      <td>yes</td>\n",
              "      <td>yes</td>\n",
              "      <td>37</td>\n",
              "      <td>258.6</td>\n",
              "      <td>84</td>\n",
              "      <td>43.96</td>\n",
              "      <td>...</td>\n",
              "      <td>111</td>\n",
              "      <td>18.87</td>\n",
              "      <td>326.4</td>\n",
              "      <td>97</td>\n",
              "      <td>14.69</td>\n",
              "      <td>11.2</td>\n",
              "      <td>5</td>\n",
              "      <td>3.02</td>\n",
              "      <td>0</td>\n",
              "      <td>False.</td>\n",
              "    </tr>\n",
              "  </tbody>\n",
              "</table>\n",
              "<p>10 rows × 21 columns</p>\n",
              "</div>\n",
              "      <button class=\"colab-df-convert\" onclick=\"convertToInteractive('df-df90c75a-b121-439b-b555-c35c718ce05d')\"\n",
              "              title=\"Convert this dataframe to an interactive table.\"\n",
              "              style=\"display:none;\">\n",
              "        \n",
              "  <svg xmlns=\"http://www.w3.org/2000/svg\" height=\"24px\"viewBox=\"0 0 24 24\"\n",
              "       width=\"24px\">\n",
              "    <path d=\"M0 0h24v24H0V0z\" fill=\"none\"/>\n",
              "    <path d=\"M18.56 5.44l.94 2.06.94-2.06 2.06-.94-2.06-.94-.94-2.06-.94 2.06-2.06.94zm-11 1L8.5 8.5l.94-2.06 2.06-.94-2.06-.94L8.5 2.5l-.94 2.06-2.06.94zm10 10l.94 2.06.94-2.06 2.06-.94-2.06-.94-.94-2.06-.94 2.06-2.06.94z\"/><path d=\"M17.41 7.96l-1.37-1.37c-.4-.4-.92-.59-1.43-.59-.52 0-1.04.2-1.43.59L10.3 9.45l-7.72 7.72c-.78.78-.78 2.05 0 2.83L4 21.41c.39.39.9.59 1.41.59.51 0 1.02-.2 1.41-.59l7.78-7.78 2.81-2.81c.8-.78.8-2.07 0-2.86zM5.41 20L4 18.59l7.72-7.72 1.47 1.35L5.41 20z\"/>\n",
              "  </svg>\n",
              "      </button>\n",
              "      \n",
              "  <style>\n",
              "    .colab-df-container {\n",
              "      display:flex;\n",
              "      flex-wrap:wrap;\n",
              "      gap: 12px;\n",
              "    }\n",
              "\n",
              "    .colab-df-convert {\n",
              "      background-color: #E8F0FE;\n",
              "      border: none;\n",
              "      border-radius: 50%;\n",
              "      cursor: pointer;\n",
              "      display: none;\n",
              "      fill: #1967D2;\n",
              "      height: 32px;\n",
              "      padding: 0 0 0 0;\n",
              "      width: 32px;\n",
              "    }\n",
              "\n",
              "    .colab-df-convert:hover {\n",
              "      background-color: #E2EBFA;\n",
              "      box-shadow: 0px 1px 2px rgba(60, 64, 67, 0.3), 0px 1px 3px 1px rgba(60, 64, 67, 0.15);\n",
              "      fill: #174EA6;\n",
              "    }\n",
              "\n",
              "    [theme=dark] .colab-df-convert {\n",
              "      background-color: #3B4455;\n",
              "      fill: #D2E3FC;\n",
              "    }\n",
              "\n",
              "    [theme=dark] .colab-df-convert:hover {\n",
              "      background-color: #434B5C;\n",
              "      box-shadow: 0px 1px 3px 1px rgba(0, 0, 0, 0.15);\n",
              "      filter: drop-shadow(0px 1px 2px rgba(0, 0, 0, 0.3));\n",
              "      fill: #FFFFFF;\n",
              "    }\n",
              "  </style>\n",
              "\n",
              "      <script>\n",
              "        const buttonEl =\n",
              "          document.querySelector('#df-df90c75a-b121-439b-b555-c35c718ce05d button.colab-df-convert');\n",
              "        buttonEl.style.display =\n",
              "          google.colab.kernel.accessAllowed ? 'block' : 'none';\n",
              "\n",
              "        async function convertToInteractive(key) {\n",
              "          const element = document.querySelector('#df-df90c75a-b121-439b-b555-c35c718ce05d');\n",
              "          const dataTable =\n",
              "            await google.colab.kernel.invokeFunction('convertToInteractive',\n",
              "                                                     [key], {});\n",
              "          if (!dataTable) return;\n",
              "\n",
              "          const docLinkHtml = 'Like what you see? Visit the ' +\n",
              "            '<a target=\"_blank\" href=https://colab.research.google.com/notebooks/data_table.ipynb>data table notebook</a>'\n",
              "            + ' to learn more about interactive tables.';\n",
              "          element.innerHTML = '';\n",
              "          dataTable['output_type'] = 'display_data';\n",
              "          await google.colab.output.renderOutput(dataTable, element);\n",
              "          const docLink = document.createElement('div');\n",
              "          docLink.innerHTML = docLinkHtml;\n",
              "          element.appendChild(docLink);\n",
              "        }\n",
              "      </script>\n",
              "    </div>\n",
              "  </div>\n",
              "  "
            ]
          },
          "metadata": {},
          "execution_count": 19
        }
      ]
    },
    {
      "cell_type": "markdown",
      "metadata": {
        "id": "ka0sMeFdrQnB"
      },
      "source": [
        "# Ejercicio 4.6\n",
        "\n",
        "¿Cuál es la distribución de los churners? Haga la transformación correspondiente para predecir Churn. (0-FAlse, 1-True)\n",
        "\n"
      ]
    },
    {
      "cell_type": "code",
      "source": [
        "for col in data.columns:\n",
        "    num_missing = data[col].isnull().sum()\n",
        "    pct_missing = np.mean(data[col].isnull())\n",
        "    #print(col,\" - \",round(pct_missing*100, 2),\"% - \",num_missing)\n",
        "    print('{} - {}% - {}'.format(col,round(pct_missing*100, 2),num_missing))"
      ],
      "metadata": {
        "colab": {
          "base_uri": "https://localhost:8080/"
        },
        "id": "hZ4W7WHM3zKa",
        "outputId": "da297ea2-0cc7-4586-fd01-b3ee0fd9ec7c"
      },
      "execution_count": 20,
      "outputs": [
        {
          "output_type": "stream",
          "name": "stdout",
          "text": [
            "State - 0.0% - 0\n",
            "Account Length - 0.0% - 0\n",
            "Area Code - 0.0% - 0\n",
            "Phone - 0.0% - 0\n",
            "Int'l Plan - 0.0% - 0\n",
            "VMail Plan - 0.0% - 0\n",
            "VMail Message - 0.0% - 0\n",
            "Day Mins - 0.0% - 0\n",
            "Day Calls - 0.0% - 0\n",
            "Day Charge - 0.0% - 0\n",
            "Eve Mins - 0.0% - 0\n",
            "Eve Calls - 0.0% - 0\n",
            "Eve Charge - 0.0% - 0\n",
            "Night Mins - 0.0% - 0\n",
            "Night Calls - 0.0% - 0\n",
            "Night Charge - 0.0% - 0\n",
            "Intl Mins - 0.0% - 0\n",
            "Intl Calls - 0.0% - 0\n",
            "Intl Charge - 0.0% - 0\n",
            "CustServ Calls - 0.0% - 0\n",
            "Churn? - 0.0% - 0\n"
          ]
        }
      ]
    },
    {
      "cell_type": "markdown",
      "source": [
        "En la base de datos no presenta valores faltantes en ninguna de sus variables."
      ],
      "metadata": {
        "id": "AADZPaAd9CDr"
      }
    },
    {
      "cell_type": "code",
      "source": [
        "!pip install dfply\n",
        "import dfply as dfp\n",
        "plt.style.use('bmh')\n",
        "data['Churn'] = data['Churn?'].map({'False.':0, 'True.':1}).astype(np.int)\n",
        "data[\"Int'l Plan\"] = data[\"Int'l Plan\"].map({'no':0, 'yes':1}).astype(np.int)\n",
        "data[\"VMail Plan\"] = data[\"VMail Plan\"].map({'no':0, 'yes':1}).astype(np.int)\n",
        "plt.hist(data['Churn'], color ='MAGENTA', orientation = 'horizontal')"
      ],
      "metadata": {
        "id": "IMP8Y_r_Wdox",
        "colab": {
          "base_uri": "https://localhost:8080/",
          "height": 629
        },
        "outputId": "b5849b17-a967-42e6-92a1-7a23c51fec97"
      },
      "execution_count": null,
      "outputs": [
        {
          "output_type": "stream",
          "name": "stdout",
          "text": [
            "Looking in indexes: https://pypi.org/simple, https://us-python.pkg.dev/colab-wheels/public/simple/\n",
            "Requirement already satisfied: dfply in /usr/local/lib/python3.7/dist-packages (0.3.3)\n",
            "Requirement already satisfied: pandas in /usr/local/lib/python3.7/dist-packages (from dfply) (1.3.5)\n",
            "Requirement already satisfied: numpy in /usr/local/lib/python3.7/dist-packages (from dfply) (1.21.6)\n",
            "Requirement already satisfied: pytz>=2017.3 in /usr/local/lib/python3.7/dist-packages (from pandas->dfply) (2022.4)\n",
            "Requirement already satisfied: python-dateutil>=2.7.3 in /usr/local/lib/python3.7/dist-packages (from pandas->dfply) (2.8.2)\n",
            "Requirement already satisfied: six>=1.5 in /usr/local/lib/python3.7/dist-packages (from python-dateutil>=2.7.3->pandas->dfply) (1.15.0)\n"
          ]
        },
        {
          "output_type": "stream",
          "name": "stderr",
          "text": [
            "/usr/local/lib/python3.7/dist-packages/ipykernel_launcher.py:4: DeprecationWarning: `np.int` is a deprecated alias for the builtin `int`. To silence this warning, use `int` by itself. Doing this will not modify any behavior and is safe. When replacing `np.int`, you may wish to use e.g. `np.int64` or `np.int32` to specify the precision. If you wish to review your current use, check the release note link for additional information.\n",
            "Deprecated in NumPy 1.20; for more details and guidance: https://numpy.org/devdocs/release/1.20.0-notes.html#deprecations\n",
            "  after removing the cwd from sys.path.\n",
            "/usr/local/lib/python3.7/dist-packages/ipykernel_launcher.py:5: DeprecationWarning: `np.int` is a deprecated alias for the builtin `int`. To silence this warning, use `int` by itself. Doing this will not modify any behavior and is safe. When replacing `np.int`, you may wish to use e.g. `np.int64` or `np.int32` to specify the precision. If you wish to review your current use, check the release note link for additional information.\n",
            "Deprecated in NumPy 1.20; for more details and guidance: https://numpy.org/devdocs/release/1.20.0-notes.html#deprecations\n",
            "  \"\"\"\n",
            "/usr/local/lib/python3.7/dist-packages/ipykernel_launcher.py:6: DeprecationWarning: `np.int` is a deprecated alias for the builtin `int`. To silence this warning, use `int` by itself. Doing this will not modify any behavior and is safe. When replacing `np.int`, you may wish to use e.g. `np.int64` or `np.int32` to specify the precision. If you wish to review your current use, check the release note link for additional information.\n",
            "Deprecated in NumPy 1.20; for more details and guidance: https://numpy.org/devdocs/release/1.20.0-notes.html#deprecations\n",
            "  \n"
          ]
        },
        {
          "output_type": "execute_result",
          "data": {
            "text/plain": [
              "(array([2850.,    0.,    0.,    0.,    0.,    0.,    0.,    0.,    0.,\n",
              "         483.]),\n",
              " array([0. , 0.1, 0.2, 0.3, 0.4, 0.5, 0.6, 0.7, 0.8, 0.9, 1. ]),\n",
              " <a list of 10 Patch objects>)"
            ]
          },
          "metadata": {},
          "execution_count": 61
        },
        {
          "output_type": "display_data",
          "data": {
            "text/plain": [
              "<Figure size 432x288 with 1 Axes>"
            ],
            "image/png": "[encoded data removed]"
          },
          "metadata": {
            "needs_background": "light"
          }
        }
      ]
    },
    {
      "cell_type": "markdown",
      "source": [
        "Como se evidencia en el gráfico anterior, la variable Churn solo puede tomar valores de \"1\" y \"0\", donde \"1\" indica si el cliente ha sido de baja y \"0\" si el cliente no ha sido de baja. Por ende, la distribucción de la variable Churn es una Bernoulli puesto que representa una familia de distribuciones de probabilidad discreta que solo puede tomar valores de 0 y 1."
      ],
      "metadata": {
        "id": "hyypZbynZ5Yy"
      }
    },
    {
      "cell_type": "code",
      "source": [
        "plt.scatter(data['Intl Charge'], data['Churn'])\n",
        "plt.xlabel('Intl Charge')\n",
        "plt.ylabel('Churn')"
      ],
      "metadata": {
        "colab": {
          "base_uri": "https://localhost:8080/",
          "height": 296
        },
        "id": "KrrjUHHB3knh",
        "outputId": "c28e261a-03c4-4814-91bf-98f4891b5eae"
      },
      "execution_count": null,
      "outputs": [
        {
          "output_type": "execute_result",
          "data": {
            "text/plain": [
              "Text(0, 0.5, 'Churn')"
            ]
          },
          "metadata": {},
          "execution_count": 64
        },
        {
          "output_type": "display_data",
          "data": {
            "text/plain": [
              "<Figure size 432x288 with 1 Axes>"
            ],
            "image/png": "[encoded data removed]"
          },
          "metadata": {
            "needs_background": "light"
          }
        }
      ]
    },
    {
      "cell_type": "markdown",
      "source": [
        "Dado que la distribucción de Churn en una bernoulli y si al graficarla con la variable Intl Charge, se observa, la relación entre la variable dependiente (cualitativa dicotómica), y la covariable (continua en este caso), no queda definida por una recta (lo que correspondería un modelo lineal), sino que describe una forma sigmoidea (distribución logística)."
      ],
      "metadata": {
        "id": "bN9u9Yzc3-cn"
      }
    },
    {
      "cell_type": "markdown",
      "metadata": {
        "id": "gnKKbfKZrQnD"
      },
      "source": [
        "# Ejercicio 4.7\n",
        "Entrene una Regresión Logística creando Y y X con la información en IntlCharge.\n"
      ]
    },
    {
      "cell_type": "code",
      "source": [
        "from sklearn.linear_model import LogisticRegression\n",
        "mod2 = LogisticRegression()\n",
        "X = data['Intl Charge']\n",
        "X = pd.DataFrame(X)\n",
        "y = data['Churn']\n",
        "mod2.fit(X, y)"
      ],
      "metadata": {
        "id": "lPbebKN6WfIh",
        "colab": {
          "base_uri": "https://localhost:8080/"
        },
        "outputId": "26645630-8f06-46ac-f9df-758af3177a27"
      },
      "execution_count": null,
      "outputs": [
        {
          "output_type": "execute_result",
          "data": {
            "text/plain": [
              "LogisticRegression()"
            ]
          },
          "metadata": {},
          "execution_count": 12
        }
      ]
    },
    {
      "cell_type": "markdown",
      "metadata": {
        "id": "ErUjHQE5rQnE"
      },
      "source": [
        "# Ejercicio 4.8\n",
        "\n",
        "¿Cuáles son los coeficientes de la regresión logística? Interpretelos para un valor de IntlCharge = 1.\n",
        "\n",
        "\n"
      ]
    },
    {
      "cell_type": "code",
      "source": [
        "mod2.coef_"
      ],
      "metadata": {
        "id": "grKzgyWwWgo4",
        "colab": {
          "base_uri": "https://localhost:8080/"
        },
        "outputId": "79c3dbe8-e3e5-4ae8-955d-3705254047cc"
      },
      "execution_count": null,
      "outputs": [
        {
          "output_type": "execute_result",
          "data": {
            "text/plain": [
              "array([[0.26154394]])"
            ]
          },
          "metadata": {},
          "execution_count": 13
        }
      ]
    },
    {
      "cell_type": "code",
      "source": [
        "mod2.intercept_"
      ],
      "metadata": {
        "colab": {
          "base_uri": "https://localhost:8080/"
        },
        "id": "JayVoabBTX6h",
        "outputId": "4e4cc927-29f1-47c9-80c4-ae6d9518ddd4"
      },
      "execution_count": null,
      "outputs": [
        {
          "output_type": "execute_result",
          "data": {
            "text/plain": [
              "array([-2.51175961])"
            ]
          },
          "metadata": {},
          "execution_count": 14
        }
      ]
    },
    {
      "cell_type": "markdown",
      "source": [
        "$$\\log (cliente\\ dado \\ de \\ baja) = -2.5117 +(0.261543* \\ intelCharge = 1)$$\n",
        "\n",
        "Para un valor de \"intelCharge\" de 0, el logaritmo de las posibilidades de \"Churn\" es de -2.5117. Asimismo, puesto que el coeficiente de \"IntelCharge es positivo y es significativo se puede afirmar que a mayor intlCharge mayor es la probabilidad de que el  cliente haya sido dado de baja."
      ],
      "metadata": {
        "id": "BtL3vf8Nm2iN"
      }
    },
    {
      "cell_type": "markdown",
      "metadata": {
        "id": "Lfvf_pqSkbzI"
      },
      "source": [
        "# Ejercicio 4.9\n",
        "\n",
        "Seleccione 3 variables independientes para entrenar una regresión logística. Interprete cada uno de los valores de los coeficientes en función de la variable churn.\n"
      ]
    },
    {
      "cell_type": "markdown",
      "source": [
        "## Visualización de datos"
      ],
      "metadata": {
        "id": "cbYTcW5Qhqlo"
      }
    },
    {
      "cell_type": "code",
      "source": [
        "from ast import increment_lineno\n",
        "import seaborn as sns\n",
        "import matplotlib.pyplot as plt\n",
        "import plotly.express as px\n",
        "tab = data['Churn']\n",
        "tab2 = data['CustServ Calls']\n",
        "px.box( data ,  tab,  tab2) "
      ],
      "metadata": {
        "id": "-knBiiYbcXwn",
        "colab": {
          "base_uri": "https://localhost:8080/",
          "height": 542
        },
        "outputId": "30eab494-0538-4045-a8c4-8a9ad1caa422"
      },
      "execution_count": null,
      "outputs": [
        {
          "output_type": "display_data",
          "data": {
            "text/html": [
              "<html>\n",
              "<head><meta charset=\"utf-8\" /></head>\n",
              "<body>\n",
              "    <div>            <script src=\"https://cdnjs.cloudflare.com/ajax/libs/mathjax/2.7.5/MathJax.js?config=TeX-AMS-MML_SVG\"></script><script type=\"text/javascript\">if (window.MathJax) {MathJax.Hub.Config({SVG: {font: \"STIX-Web\"}});}</script>                <script type=\"text/javascript\">window.PlotlyConfig = {MathJaxConfig: 'local'};</script>\n",
              "        <script src=\"https://cdn.plot.ly/plotly-2.8.3.min.js\"></script>                <div id=\"6a305e10-0ed1-411e-8104-07752c9f8ba6\" class=\"plotly-graph-div\" style=\"height:525px; width:100%;\"></div>            <script type=\"text/javascript\">                                    window.PLOTLYENV=window.PLOTLYENV || {};                                    if (document.getElementById(\"6a305e10-0ed1-411e-8104-07752c9f8ba6\")) {                    Plotly.newPlot(                        \"6a305e10-0ed1-411e-8104-07752c9f8ba6\",                        [{\"alignmentgroup\":\"True\",\"hovertemplate\":\"Churn=%{x}<br>CustServ Calls=%{y}<extra></extra>\",\"legendgroup\":\"\",\"marker\":{\"color\":\"#636efa\"},\"name\":\"\",\"notched\":false,\"offsetgroup\":\"\",\"orientation\":\"v\",\"showlegend\":false,\"x\":[0,0,0,0,0,0,0,0,0,0,1,0,0,0,0,1,0,0,0,0,0,1,0,0,0,0,0,0,0,0,0,0,0,1,0,0,0,0,0,0,0,1,0,0,0,0,0,0,1,0,0,0,0,0,1,0,0,1,0,0,0,0,0,0,0,0,0,0,0,1,0,0,0,0,0,0,1,1,0,0,0,0,0,0,1,0,1,0,0,1,0,1,0,0,0,0,0,0,1,1,0,0,0,0,0,0,0,0,0,0,0,0,0,0,0,1,0,1,0,0,0,0,0,0,0,0,1,1,0,0,0,0,0,0,0,0,0,0,0,0,0,0,0,0,1,0,0,0,0,0,0,0,0,0,0,0,1,0,0,0,0,0,0,0,0,0,0,0,0,0,0,0,0,0,0,0,0,0,0,0,0,1,0,0,0,0,0,0,0,0,0,0,0,0,0,0,0,1,1,0,0,0,0,0,0,0,0,0,0,0,0,0,0,0,1,0,0,0,1,0,0,0,0,0,0,0,0,0,0,0,1,0,0,0,0,1,0,0,0,0,0,1,0,0,1,0,0,0,0,0,1,0,0,0,0,0,0,0,1,0,0,0,0,0,0,0,0,0,0,0,0,0,0,0,0,0,0,1,0,0,0,0,0,0,0,0,0,0,0,1,0,0,0,1,0,0,0,0,0,0,0,1,1,0,0,0,1,1,0,0,1,0,0,0,0,0,0,0,0,1,0,0,0,0,0,0,0,0,0,0,0,1,1,0,0,0,0,0,0,0,1,0,0,0,0,0,0,0,0,1,0,0,0,0,1,0,0,0,0,0,1,0,0,0,0,1,0,0,0,0,0,0,1,0,0,0,0,0,1,0,0,0,0,0,0,0,0,0,0,0,0,0,0,0,1,0,0,1,0,1,0,0,0,0,0,0,0,1,0,0,0,0,0,0,0,1,1,0,0,0,0,0,0,0,0,0,0,0,0,0,1,0,0,0,0,0,0,1,0,0,0,0,0,0,0,0,0,0,0,0,0,0,0,0,1,1,0,0,0,0,0,0,0,0,0,1,1,0,0,0,0,0,0,1,0,0,0,0,0,0,0,0,0,0,0,0,0,0,0,0,0,1,1,0,0,0,0,0,1,0,0,0,1,0,0,0,0,1,0,1,0,0,0,0,1,0,0,0,0,0,0,1,0,0,0,0,0,0,0,0,0,0,0,0,0,0,0,0,0,0,0,0,1,0,0,0,1,1,0,0,1,0,1,0,0,0,0,0,1,0,0,0,0,0,0,0,0,0,0,1,0,0,0,0,1,0,0,0,0,0,1,0,0,0,1,0,0,0,1,0,0,0,0,0,0,0,0,0,0,0,0,1,0,0,0,1,0,0,0,0,0,0,0,1,0,0,0,0,0,1,0,0,0,0,0,0,1,0,0,1,0,0,0,0,0,0,0,0,0,0,0,0,0,0,0,0,0,0,0,1,0,0,0,0,0,1,0,0,0,0,1,0,0,0,0,0,0,0,0,0,0,0,0,0,0,0,0,0,0,1,0,0,0,0,0,0,0,0,0,0,0,0,0,0,0,0,0,0,0,0,0,0,0,0,0,0,0,0,0,0,0,0,0,0,0,1,0,0,0,0,0,1,0,0,0,0,0,0,0,0,1,0,0,0,0,0,1,1,0,0,0,0,0,0,0,0,0,0,0,0,0,0,0,0,0,0,0,0,0,0,0,0,0,0,0,0,1,0,0,0,0,1,0,1,0,0,0,0,0,0,0,0,0,0,0,0,0,1,0,0,0,0,1,0,0,0,0,1,0,0,0,0,0,0,0,0,0,0,0,0,0,0,0,0,0,1,0,0,0,0,0,0,0,0,0,0,0,0,0,0,1,0,1,0,0,0,0,0,0,0,0,0,0,0,0,0,1,0,0,0,0,1,0,0,0,0,0,0,0,1,0,0,0,0,0,0,0,0,0,0,0,1,0,0,0,0,0,0,0,0,0,0,0,0,0,0,0,0,0,0,0,0,1,0,1,0,0,0,0,0,0,1,0,0,1,1,0,0,0,0,0,1,0,0,1,0,0,0,0,0,0,0,0,0,0,0,0,0,0,0,0,0,0,1,0,0,0,0,0,0,0,0,0,0,1,0,1,0,0,0,0,0,0,0,0,0,0,0,0,0,0,0,0,0,0,0,1,0,1,0,0,0,0,0,0,1,0,1,1,0,0,0,0,0,0,1,0,1,0,0,0,0,0,0,0,0,0,0,0,0,1,0,0,0,0,0,0,0,0,0,0,0,0,0,0,0,0,0,1,0,0,0,0,0,0,0,0,1,0,0,1,0,0,0,0,0,0,0,1,0,0,0,0,0,0,0,0,0,0,0,0,0,0,0,0,0,0,0,0,0,0,0,0,0,0,0,0,0,0,0,0,0,0,0,0,0,0,1,1,0,0,0,0,0,0,0,0,0,0,0,0,0,0,0,0,0,0,0,0,0,0,0,1,0,0,1,0,0,0,0,0,0,0,0,0,1,0,0,0,0,0,1,1,0,0,0,0,0,0,0,0,0,0,1,0,0,1,0,0,0,0,0,1,0,0,0,0,0,0,0,1,0,0,0,0,1,0,0,0,0,0,0,0,0,0,0,0,0,0,0,0,0,0,0,0,0,0,0,0,0,0,0,1,0,0,0,0,0,0,0,0,0,1,1,0,0,0,0,0,0,0,0,0,0,1,0,0,0,0,0,0,0,0,0,0,0,0,0,0,0,0,0,0,0,0,0,0,0,0,0,0,1,1,0,0,0,0,0,0,0,1,0,0,0,0,0,0,0,0,0,0,0,0,0,1,0,0,0,0,0,0,0,0,1,0,0,0,0,0,1,0,0,0,1,0,0,1,0,1,0,1,0,0,0,1,0,0,0,0,0,0,0,0,0,0,0,0,0,0,1,0,0,1,0,0,0,1,0,0,0,1,0,0,0,0,0,0,0,0,0,0,0,1,0,0,1,0,1,0,0,0,0,0,0,1,0,0,1,0,1,0,0,0,0,1,1,1,0,0,0,1,0,0,0,0,0,0,0,0,1,0,0,0,0,1,0,0,0,0,0,0,0,0,1,0,0,1,0,0,0,0,0,0,0,0,0,0,0,0,0,0,0,1,0,0,0,0,0,0,0,0,0,0,0,0,1,0,1,0,0,0,0,0,0,0,0,0,0,0,0,1,0,0,0,0,0,0,0,0,0,0,0,0,0,0,1,0,0,0,0,0,0,1,0,0,0,0,0,0,0,0,0,0,0,1,0,0,0,0,0,0,0,0,0,0,0,0,1,0,0,0,0,1,0,0,0,0,0,0,0,0,0,0,0,1,0,0,0,0,0,0,0,0,1,0,0,0,0,0,0,0,0,0,0,0,0,0,0,0,0,0,0,0,0,0,0,1,0,0,0,0,0,0,0,0,0,0,0,1,0,1,1,1,1,1,0,0,1,1,0,0,0,0,0,0,0,0,0,0,0,0,1,0,0,0,0,0,0,0,0,0,0,0,0,0,0,0,0,0,0,0,0,0,0,0,0,0,0,0,0,0,0,0,0,0,1,0,0,0,0,0,0,0,1,0,0,0,0,0,0,0,1,0,0,0,0,0,0,0,0,0,0,0,0,1,0,0,0,0,1,0,0,0,0,0,0,0,0,0,0,0,0,0,0,0,1,0,0,1,0,0,0,0,0,0,0,1,0,0,0,0,1,0,1,0,0,0,0,0,0,0,0,1,0,0,0,0,0,0,0,0,0,0,0,1,0,0,0,0,1,0,0,0,0,0,0,0,0,0,0,0,1,1,0,1,0,0,0,0,0,0,1,1,0,1,0,0,1,0,0,0,0,0,1,0,0,0,0,1,0,0,0,0,0,0,0,0,0,0,0,0,1,0,0,0,0,1,0,0,1,0,0,0,0,0,0,1,0,0,0,1,0,1,0,1,0,0,0,0,0,0,0,0,0,1,1,0,0,1,0,0,0,0,0,0,0,0,1,0,0,0,0,0,0,1,0,0,0,0,0,0,0,0,0,1,0,0,0,0,0,0,0,0,0,1,0,0,0,0,0,0,0,0,0,0,0,0,0,0,0,0,0,0,0,0,0,0,0,0,0,0,0,0,0,0,0,0,1,0,0,0,0,1,0,1,1,0,0,0,1,1,1,0,0,0,0,0,1,0,0,0,1,1,0,0,1,1,0,0,1,0,0,0,0,0,0,0,0,1,0,1,1,0,0,0,0,0,1,0,1,0,0,1,1,0,0,0,0,1,0,0,0,0,1,1,0,0,0,0,0,0,0,1,0,0,0,0,0,0,1,0,0,0,0,0,0,0,0,0,0,0,0,0,1,1,1,0,0,0,1,0,0,0,0,0,0,0,0,0,0,1,0,0,0,1,0,0,0,0,0,0,0,0,0,0,1,0,0,0,0,0,0,0,0,1,0,0,1,1,0,0,0,0,0,1,0,0,0,0,0,0,0,0,0,0,0,0,0,0,0,0,1,0,0,0,0,0,0,0,0,0,0,0,0,0,0,0,0,0,0,0,0,0,0,0,0,0,0,1,1,0,0,0,1,0,0,0,0,1,0,0,0,0,0,0,0,0,0,0,0,0,0,0,0,0,0,0,0,0,1,0,0,0,0,0,0,0,0,0,1,0,0,0,0,0,0,1,0,0,0,0,0,0,0,0,0,0,0,0,0,0,0,0,0,0,0,0,0,0,1,0,0,0,1,0,0,1,1,0,0,0,0,1,1,0,1,0,0,1,1,0,0,0,0,0,0,0,0,0,0,0,0,0,0,0,0,0,0,0,1,0,0,1,0,0,0,0,1,0,0,1,0,0,0,0,1,0,0,1,0,1,0,0,0,1,0,0,0,0,0,0,0,0,1,0,0,0,0,0,0,0,0,0,0,0,0,1,1,0,0,0,0,0,0,0,0,0,0,0,0,0,0,0,1,0,0,0,0,0,0,1,0,0,1,0,1,0,0,1,0,0,0,0,0,0,0,0,0,0,0,0,0,0,0,0,0,0,1,1,0,0,0,0,0,0,0,0,0,0,0,0,0,0,0,0,0,0,0,1,0,0,0,0,0,0,0,0,1,0,0,0,0,0,0,0,0,0,0,0,0,0,0,0,1,0,0,0,0,0,0,1,0,0,0,0,0,0,0,0,0,0,0,0,0,0,0,0,0,0,0,0,0,0,0,0,0,0,0,0,0,0,0,0,0,1,1,0,1,0,0,0,0,0,0,0,1,0,0,0,0,0,0,0,1,0,0,0,1,0,0,0,0,0,0,1,0,1,1,0,0,0,0,0,0,0,0,0,0,0,1,0,0,0,0,0,0,1,1,0,0,1,0,0,0,0,0,1,1,1,1,0,0,0,0,0,0,0,1,0,0,0,1,1,0,0,1,0,1,0,0,0,0,1,0,0,1,0,0,0,1,1,1,0,0,0,0,0,0,1,0,0,0,1,0,0,0,0,1,0,0,0,0,0,0,0,0,0,0,0,0,0,1,0,0,0,0,0,0,0,0,0,0,0,0,0,0,0,0,1,0,0,0,1,0,0,0,0,0,0,1,0,0,0,0,0,0,0,0,0,1,0,0,0,1,0,0,0,0,0,0,0,0,0,0,0,0,0,0,0,0,0,0,0,0,0,1,0,0,0,0,0,0,0,0,0,0,1,0,0,0,0,0,0,1,0,1,1,0,0,1,0,0,1,0,0,0,0,0,0,0,0,0,0,0,0,0,0,0,0,0,0,0,0,0,0,0,0,1,0,0,0,0,1,1,0,1,0,0,0,0,0,1,0,0,0,0,0,0,0,0,0,1,0,0,1,1,0,0,0,1,0,0,1,0,0,0,1,0,0,0,0,0,0,0,1,0,0,0,0,1,0,0,0,0,1,0,0,0,0,1,0,0,0,0,0,0,0,0,0,0,0,0,0,0,0,1,0,1,0,0,0,0,0,0,0,0,0,0,0,0,1,0,1,0,1,0,1,0,0,0,0,0,1,1,0,0,0,1,0,0,0,1,0,0,0,0,0,1,0,0,0,0,0,0,1,0,1,0,0,0,1,0,0,0,0,0,0,0,1,0,1,0,0,0,0,0,0,0,0,0,0,0,0,0,1,0,0,0,0,0,0,1,1,0,0,1,0,0,0,0,0,0,0,0,0,1,0,1,0,0,0,0,0,0,0,0,0,0,0,0,1,0,0,0,0,0,0,0,0,0,0,0,1,1,1,0,0,0,0,0,0,0,0,0,1,1,1,0,0,0,0,0,0,0,1,0,0,0,0,0,1,0,0,0,0,0,0,0,0,0,0,0,0,0,0,0,1,0,0,1,0,0,0,0,1,0,0,1,1,0,0,0,0,0,0,0,0,0,0,1,0,0,0,0,0,0,0,0,0,0,0,0,0,0,0,0,0,0,0,0,0,0,0,0,0,1,0,0,1,0,0,0,0,0,1,0,0,0,0,0,0,0,1,0,1,0,0,0,0,1,0,0,0,0,0,0,0,0,0,0,1,1,0,0,0,0,0,0,1,0,0,0,0,0,0,0,0,0,0,0,0,0,0,0,1,1,1,0,0,0,0,0,0,0,1,0,1,0,0,0,0,0,1,0,0,0,0,1,0,0,1,0,1,0,0,0,0,0,1,0,1,1,0,0,1,0,0,0,1,0,0,1,1,0,0,0,0,0,0,1,1,0,0,0,0,0,0,1,0,1,0,0,0,0,1,0,0,0,0,0,0,0,1,0,0,0,0,0,0,0,0,0,0,0,0,0,0,0,0,1,0,0,0,1,0,0,0,0,0,0,0,0,0,0,0,1,0,0,0,0,0,0,0,0,0,1,0,0,0,0,1,0,0,0,0,0,0,0,0,0,0,0,0,0,1,0,0,0,0,0,1,0,1,0,0,0,0,0,0,1,0,0,0,0,0,0,0,0,0,0,0,0,0,1,0,0,0,0,0,0,0,0,0,0,0,0,0,0,0,0,0,0,1,1,0,0,0,0,0,0,0,0,0,0,0,1,0,1,0,0,0,0,1,0,0,0,0,0,0,0,0,0,0,0,1,0,0,0,1,0,0,1,0,0,0,0,0,1,0,0,0,0,0,0,0,0,1,0,1,1,0,0,0,0,0,0,0,0,0,0,0,0,0,0,0,0,0,0,0,1,1,1,0,0,0,0,0,0,0,0,0,0,0,0,0,1,0,0,0,1,0,0,0,0,0,0,0,0,0,0,0,0,0,0,1,0,1,0,0,0,0,0,0,0,0,0,0,0,1,0,0,1,0,1,0,0,1,1,0,0,0,0,0,0,0,1,0,0,0,0,0,0,0,0,0,1,0,0,1,0,0,0,1,0,0,0,0,0,0,0,1,0,0,0,0,0,0,1,0,0,0,1,0,0,0,0,0,0,0,0,0,1,0,0,1,0,0,0,0,0,0,0,0,0,0,0,0,0,0,0,1,0,1,1,0,0,0,0,0,0,0,0,0],\"x0\":\" \",\"xaxis\":\"x\",\"y\":[1,1,0,2,3,0,3,0,1,0,4,0,1,3,4,4,1,3,1,1,0,5,0,2,0,3,0,3,0,1,2,1,3,1,0,3,0,1,3,1,3,0,2,3,1,2,3,2,5,1,3,1,2,2,5,1,1,3,3,1,1,2,2,3,2,2,0,0,1,4,3,0,3,1,0,1,0,4,2,1,1,3,3,1,2,0,4,1,2,1,1,0,1,3,3,1,0,4,1,2,4,0,0,1,1,4,2,1,1,3,1,2,4,1,1,0,1,1,2,2,1,0,3,1,2,1,4,4,2,3,3,1,1,4,1,3,5,3,1,2,1,0,3,1,2,3,1,1,1,2,1,1,1,1,5,0,0,0,1,1,0,0,3,1,1,2,1,1,1,0,1,2,3,1,0,2,0,2,3,3,4,5,2,2,3,1,1,2,1,1,0,1,2,0,1,1,0,2,4,0,3,2,3,2,1,1,2,3,3,3,1,0,1,1,2,3,0,3,1,0,3,1,1,2,2,1,3,2,4,0,0,1,3,0,1,5,2,3,0,1,0,2,1,3,0,0,0,0,4,2,4,4,3,0,0,4,1,1,1,1,1,1,1,1,2,1,4,3,0,2,0,1,3,3,1,3,0,2,2,3,2,2,1,1,3,2,2,2,0,1,0,0,1,5,1,1,2,0,4,1,2,1,0,1,1,2,1,4,0,3,1,1,0,0,0,1,2,3,3,2,0,1,0,1,3,0,1,1,0,0,3,1,7,0,1,1,0,2,2,0,1,1,0,2,1,3,1,1,3,4,4,4,1,2,2,1,1,2,1,1,1,0,1,2,0,1,4,1,1,0,1,2,0,2,2,0,2,1,1,2,3,1,0,1,2,4,3,1,1,3,1,0,5,2,0,0,0,1,1,1,1,0,1,1,4,0,0,4,1,2,2,2,0,3,0,2,1,0,1,2,2,1,0,3,1,1,1,1,3,2,2,1,1,2,0,1,1,0,1,2,1,0,1,1,2,0,3,2,1,4,0,0,0,1,1,1,2,2,3,0,1,3,1,0,0,3,3,1,3,2,1,3,1,4,0,3,1,3,1,2,1,1,0,2,3,0,0,0,1,1,0,1,2,2,1,2,2,2,4,1,3,1,1,0,0,1,2,3,1,5,1,3,2,0,0,1,2,2,1,3,1,4,7,2,1,2,0,0,2,0,2,2,2,1,4,1,1,0,0,2,1,0,9,3,3,1,2,5,0,4,4,2,3,2,2,2,0,1,2,2,1,0,1,1,2,3,2,2,2,2,1,2,1,3,2,1,3,2,1,1,1,3,1,1,0,1,1,1,5,1,2,1,2,2,2,1,3,2,1,0,2,0,1,3,1,2,0,1,0,3,3,1,4,1,2,1,2,3,1,0,1,1,2,3,0,3,0,4,1,0,0,0,3,2,2,5,1,0,1,0,2,1,0,0,1,3,0,1,0,3,2,1,3,3,1,5,0,2,0,1,1,1,0,3,1,2,2,0,1,0,1,2,0,3,1,1,0,1,0,1,1,0,3,1,3,1,3,1,3,1,2,1,4,3,6,1,1,0,0,0,0,0,1,1,3,1,1,3,2,2,3,4,2,2,2,1,2,1,1,2,0,6,1,3,1,2,1,1,2,0,3,2,2,2,1,3,5,2,1,1,1,0,5,1,1,1,1,1,1,1,3,0,3,2,1,2,2,1,2,2,1,2,1,0,0,2,0,2,3,1,1,5,0,1,1,1,0,2,6,2,2,1,1,3,1,3,0,2,2,3,0,2,1,2,1,1,1,1,2,1,1,1,0,1,0,0,0,1,0,1,1,0,1,0,1,2,1,2,1,1,2,0,1,1,2,1,1,0,2,2,3,2,2,0,3,1,0,0,1,1,3,5,2,1,1,1,1,1,0,2,0,3,3,3,2,2,1,1,1,3,2,1,3,1,3,4,0,1,0,2,0,4,1,1,5,1,1,1,1,4,1,3,1,1,2,2,0,1,2,0,0,1,1,2,4,2,2,0,1,1,0,2,7,0,1,4,0,1,6,0,0,5,2,1,0,2,2,0,1,1,1,1,1,1,1,1,0,0,2,1,0,1,1,1,1,4,0,2,1,2,0,2,0,1,4,2,2,1,1,1,1,4,3,2,2,0,2,0,3,2,3,0,3,1,1,0,2,0,1,0,1,3,1,0,6,0,0,4,4,0,3,1,1,1,1,1,1,1,3,1,0,2,1,0,3,1,0,2,0,0,2,1,2,0,1,2,2,1,2,3,0,2,2,1,0,0,1,2,1,1,2,1,0,2,1,1,2,1,1,0,2,1,1,2,2,2,3,0,5,2,4,0,0,3,4,4,0,0,0,1,2,0,1,2,1,1,0,1,0,1,1,1,1,1,2,0,0,1,0,1,1,1,1,1,2,0,1,4,0,1,0,1,3,3,3,2,3,1,0,2,0,2,1,2,0,1,1,1,1,3,1,2,4,0,4,2,3,3,3,0,2,0,0,1,1,1,3,1,3,3,1,5,1,2,1,2,2,0,2,2,1,1,1,5,1,2,1,1,1,2,1,1,6,0,2,0,1,0,3,2,5,0,1,1,1,4,1,1,1,0,0,3,0,1,2,0,3,1,1,1,0,1,2,1,1,0,4,3,3,1,0,1,3,2,2,3,0,2,1,0,0,2,4,5,1,1,1,4,2,1,1,2,0,1,1,1,0,2,3,0,1,1,1,1,2,1,3,4,3,1,2,2,3,1,1,1,2,0,1,2,1,0,0,0,2,4,0,3,3,2,4,5,3,1,1,2,5,1,0,2,1,3,2,4,2,0,2,1,2,2,3,3,4,1,1,1,0,1,0,4,0,1,4,6,0,2,1,1,0,2,0,0,4,2,5,4,1,2,1,0,0,1,0,1,1,0,2,2,1,2,3,3,1,1,3,2,3,3,0,2,1,1,1,2,3,2,2,2,2,3,2,1,2,0,2,6,2,2,1,2,2,3,3,1,1,0,3,0,2,4,1,1,2,0,0,4,1,0,1,2,0,1,0,0,2,3,1,3,0,1,2,1,3,3,1,1,3,1,4,1,1,1,1,4,0,0,4,1,1,3,1,1,2,2,3,0,0,1,4,1,1,3,3,0,1,0,4,1,1,4,3,0,1,0,3,4,1,6,1,0,1,1,1,0,1,0,3,1,2,2,3,0,1,1,0,2,2,2,2,1,1,1,0,1,2,0,1,4,2,0,1,1,1,1,3,1,2,0,4,4,0,2,2,2,2,1,1,1,1,0,3,0,2,1,3,1,0,0,3,0,1,0,1,1,0,3,0,1,2,1,0,2,3,1,3,1,0,0,2,2,1,1,1,4,2,0,3,1,0,3,1,0,8,2,2,1,2,1,3,3,1,1,1,2,1,2,1,1,2,2,2,3,1,2,2,1,2,0,0,3,1,4,0,2,1,2,0,4,5,0,3,3,0,1,1,2,1,1,1,1,2,0,2,0,1,2,0,2,2,2,0,2,0,1,1,0,2,0,1,0,2,1,1,1,1,1,3,1,2,2,0,1,1,0,1,2,1,1,1,1,1,2,3,1,3,3,0,2,2,1,0,0,3,2,3,1,0,3,2,0,4,0,2,3,1,2,0,0,1,4,0,0,1,1,2,0,1,2,1,2,2,2,0,0,2,4,1,2,6,2,3,1,1,3,1,3,0,1,0,0,1,1,1,1,1,3,1,2,2,0,3,1,5,1,2,3,2,0,1,1,1,2,2,5,1,0,2,1,1,0,2,1,1,2,2,3,2,3,3,1,1,2,1,1,7,2,1,1,0,4,2,2,4,2,1,3,1,5,4,3,2,0,4,5,3,0,1,1,2,2,1,1,1,2,1,2,1,1,4,2,2,0,3,0,1,0,1,0,0,2,0,3,1,1,0,0,1,1,1,3,1,1,0,2,2,1,1,2,0,0,2,1,0,1,0,4,2,2,2,2,0,2,1,1,1,0,0,3,2,1,1,1,1,1,0,2,0,1,1,0,2,1,0,1,1,1,1,0,1,1,0,2,5,1,0,3,0,3,3,1,0,3,1,0,0,0,2,2,3,0,1,1,2,2,1,3,3,2,2,1,1,7,1,2,0,4,0,1,1,1,2,2,0,2,4,2,1,2,2,2,1,5,1,0,1,2,1,1,0,0,0,0,0,1,0,7,2,0,3,1,0,0,2,1,2,1,1,1,1,2,4,0,2,1,2,1,3,0,2,1,4,3,0,2,3,0,1,1,2,1,1,1,1,1,4,2,1,2,2,0,0,4,8,2,3,1,1,2,1,6,1,3,4,1,1,2,2,3,1,0,1,1,1,1,0,3,2,1,1,2,1,1,2,0,1,1,1,0,1,0,4,1,1,0,0,0,3,1,3,2,0,3,3,0,1,1,1,3,1,1,5,1,2,5,5,2,1,2,3,1,4,1,0,3,3,2,0,0,1,2,2,1,2,0,0,1,1,3,2,0,3,1,3,1,4,1,3,3,3,0,0,3,1,2,3,0,3,3,1,1,2,1,1,1,2,2,1,1,1,0,1,5,2,2,1,3,3,1,1,1,2,2,1,3,0,4,1,3,3,2,1,1,2,0,1,1,3,2,0,3,0,0,1,2,2,1,0,4,1,0,1,2,3,1,2,2,4,0,1,2,0,1,0,3,2,1,1,4,2,1,2,2,2,0,0,0,0,2,1,3,0,0,2,2,2,0,0,2,0,3,2,0,4,2,3,0,1,4,0,0,1,1,0,1,3,1,1,3,2,2,1,1,3,2,1,0,1,0,3,3,4,2,1,3,1,1,0,3,1,0,2,2,1,2,2,2,3,2,0,1,1,0,1,1,3,2,2,1,1,0,0,1,0,0,1,3,2,2,0,2,2,1,0,3,1,1,3,4,2,3,1,1,2,2,2,1,0,2,0,2,1,2,1,4,2,3,1,0,1,3,0,4,1,0,1,0,2,2,5,3,3,2,0,6,2,1,1,2,2,2,2,3,0,1,2,1,2,4,1,2,0,1,2,2,1,2,1,0,5,3,1,1,1,1,1,0,1,1,1,3,1,4,1,1,3,0,1,2,0,0,3,1,2,2,4,0,3,0,1,1,2,0,3,5,2,1,0,3,0,1,3,0,2,1,0,0,1,2,1,0,0,2,2,2,0,3,1,3,1,0,3,1,0,3,3,2,1,3,0,3,1,1,5,1,4,2,0,6,1,1,1,1,1,2,3,3,1,4,2,1,0,0,2,1,1,0,2,1,2,0,0,2,0,1,2,2,2,1,0,1,2,3,3,0,0,1,1,3,1,4,4,1,2,0,0,2,1,1,3,2,9,1,0,2,0,0,2,6,1,0,0,2,1,0,3,4,2,1,1,1,0,1,5,2,1,1,2,1,1,2,0,1,1,0,0,5,2,2,0,2,2,4,2,0,1,2,1,2,6,2,0,1,4,2,0,1,1,4,2,1,0,1,3,0,5,1,2,1,3,3,1,2,1,1,1,1,4,1,1,4,2,0,2,2,1,3,0,1,1,3,3,0,1,0,0,1,1,1,1,3,3,1,2,2,0,1,0,0,0,4,1,2,0,5,1,1,1,2,1,1,1,0,2,2,1,3,1,0,2,2,2,3,0,2,0,5,2,0,2,2,1,1,2,3,1,0,0,2,3,2,2,1,2,2,1,2,0,3,1,3,1,2,1,1,3,0,2,2,1,2,1,1,1,6,2,2,2,0,0,1,1,1,1,1,1,0,2,2,3,3,1,2,1,1,1,1,2,2,0,1,0,4,2,1,3,3,1,3,2,1,3,1,5,0,1,1,1,2,1,0,1,1,2,2,3,2,1,3,4,1,1,0,2,1,0,1,0,2,1,3,1,4,4,2,0,2,2,1,4,1,2,2,1,0,2,1,2,3,2,1,3,1,1,3,0,2,5,0,1,1,2,3,0,1,1,1,2,3,0,2,4,0,2,2,1,3,1,3,0,2,2,2,0,3,0,0,0,4,2,1,2,0,0,1,2,3,2,1,1,0,3,2,1,3,0,2,3,0,1,0,3,3,1,1,2,4,0,2,1,0,0,1,0,2,1,1,2,0,1,1,1,1,2,2,2,0,2,0,2,2,1,0,5,2,1,0,3,1,1,0,0,1,2,2,1,2,3,0,2,1,1,0,3,2,1,0,2,2,0,1,0,1,3,3,2,1,1,3,1,1,2,1,4,2,0,1,0,2,1,0,3,2,3,1,3,5,6,1,0,2,0,0,1,2,0,1,0,2,1,3,0,4,2,3,1,1,2,2,1,1,0,2,2,3,1,2,1,1,1,0,4,0,0,2,0,2,2,5,4,1,1,1,3,2,1,3,2,1,2,2,0,0,0,1,1,0,1,0,0,1,2,2,1,2,1,1,0,1,1,0,2,4,0,3,0,2,2,1,0,1,2,2,2,2,0,3,3,2,0,1,1,1,2,1,1,1,1,2,1,1,0,0,1,0,3,0,1,0,2,1,1,4,2,5,2,3,1,0,2,2,2,1,0,1,4,4,2,0,4,0,1,2,2,2,1,2,4,1,2,3,1,2,1,1,2,0,0,0,1,0,1,4,1,0,0,0,1,1,1,2,0,2,5,7,3,1,1,1,6,1,5,6,1,0,3,1,1,0,1,2,1,0,2,0,1,0,1,0,1,7,3,1,2,1,1,3,2,3,3,2,1,1,1,1,1,2,1,0,0,1,3,1,3,1,1,2,1,3,0,5,2,1,1,2,0,2,1,5,2,3,1,0,0,4,1,2,6,4,1,0,3,3,1,1,1,4,3,0,2,1,0,0,0,1,1,2,1,2,0,3,4,1,2,0,0,2,2,1,3,2,3,2,0,1,4,3,3,0,2,1,3,1,0,2,1,2,2,0,1,5,0,6,3,0,2,3,3,0,1,3,1,1,0,2,1,1,3,2,0,0,0,1,3,2,0,0,1,1,2,0,1,1,7,2,0,4,1,2,1,0,2,1,3,0,3,4,0,4,3,2,3,5,2,2,3,1,1,3,2,2,5,1,2,3,5,3,1,4,0,1,2,0,1,2,2,2,3,4,3,1,0,2,0,2,1,1,2,1,1,4,0,1,3,3,2,0,0,1,0,1,1,5,3,2,0,0,3,1,1,0,6,0,2,1,0,2,1,0,2,1,1,1,3,1,1,1,1,0,2,3,1,2,0,1,3,1,0,1,2,2,0,1,3,2,3,2,2,0,5,1,1,1,1,0,1,3,0,1,3,2,1,1,0,5,1,3,0,4,0,0,0,2,0,1,1,2,3,2,2,1,1,1,1,2,0,3,3,1,2,1,2,2,2,3,1,1,1,2,2,2,4,1,3,3,1,0,0,4,1,1,0,1,1,0,1,1,1,1,1,2,1,0,1,2,4,2,1,4,1,4,2,2,2,1,1,0,0,1,2,3,4,3,4,5,1,2,1,2,2,3,2,2,0],\"y0\":\" \",\"yaxis\":\"y\",\"type\":\"box\"}],                        {\"template\":{\"data\":{\"bar\":[{\"error_x\":{\"color\":\"#2a3f5f\"},\"error_y\":{\"color\":\"#2a3f5f\"},\"marker\":{\"line\":{\"color\":\"#E5ECF6\",\"width\":0.5},\"pattern\":{\"fillmode\":\"overlay\",\"size\":10,\"solidity\":0.2}},\"type\":\"bar\"}],\"barpolar\":[{\"marker\":{\"line\":{\"color\":\"#E5ECF6\",\"width\":0.5},\"pattern\":{\"fillmode\":\"overlay\",\"size\":10,\"solidity\":0.2}},\"type\":\"barpolar\"}],\"carpet\":[{\"aaxis\":{\"endlinecolor\":\"#2a3f5f\",\"gridcolor\":\"white\",\"linecolor\":\"white\",\"minorgridcolor\":\"white\",\"startlinecolor\":\"#2a3f5f\"},\"baxis\":{\"endlinecolor\":\"#2a3f5f\",\"gridcolor\":\"white\",\"linecolor\":\"white\",\"minorgridcolor\":\"white\",\"startlinecolor\":\"#2a3f5f\"},\"type\":\"carpet\"}],\"choropleth\":[{\"colorbar\":{\"outlinewidth\":0,\"ticks\":\"\"},\"type\":\"choropleth\"}],\"contour\":[{\"colorbar\":{\"outlinewidth\":0,\"ticks\":\"\"},\"colorscale\":[[0.0,\"#0d0887\"],[0.1111111111111111,\"#46039f\"],[0.2222222222222222,\"#7201a8\"],[0.3333333333333333,\"#9c179e\"],[0.4444444444444444,\"#bd3786\"],[0.5555555555555556,\"#d8576b\"],[0.6666666666666666,\"#ed7953\"],[0.7777777777777778,\"#fb9f3a\"],[0.8888888888888888,\"#fdca26\"],[1.0,\"#f0f921\"]],\"type\":\"contour\"}],\"contourcarpet\":[{\"colorbar\":{\"outlinewidth\":0,\"ticks\":\"\"},\"type\":\"contourcarpet\"}],\"heatmap\":[{\"colorbar\":{\"outlinewidth\":0,\"ticks\":\"\"},\"colorscale\":[[0.0,\"#0d0887\"],[0.1111111111111111,\"#46039f\"],[0.2222222222222222,\"#7201a8\"],[0.3333333333333333,\"#9c179e\"],[0.4444444444444444,\"#bd3786\"],[0.5555555555555556,\"#d8576b\"],[0.6666666666666666,\"#ed7953\"],[0.7777777777777778,\"#fb9f3a\"],[0.8888888888888888,\"#fdca26\"],[1.0,\"#f0f921\"]],\"type\":\"heatmap\"}],\"heatmapgl\":[{\"colorbar\":{\"outlinewidth\":0,\"ticks\":\"\"},\"colorscale\":[[0.0,\"#0d0887\"],[0.1111111111111111,\"#46039f\"],[0.2222222222222222,\"#7201a8\"],[0.3333333333333333,\"#9c179e\"],[0.4444444444444444,\"#bd3786\"],[0.5555555555555556,\"#d8576b\"],[0.6666666666666666,\"#ed7953\"],[0.7777777777777778,\"#fb9f3a\"],[0.8888888888888888,\"#fdca26\"],[1.0,\"#f0f921\"]],\"type\":\"heatmapgl\"}],\"histogram\":[{\"marker\":{\"pattern\":{\"fillmode\":\"overlay\",\"size\":10,\"solidity\":0.2}},\"type\":\"histogram\"}],\"histogram2d\":[{\"colorbar\":{\"outlinewidth\":0,\"ticks\":\"\"},\"colorscale\":[[0.0,\"#0d0887\"],[0.1111111111111111,\"#46039f\"],[0.2222222222222222,\"#7201a8\"],[0.3333333333333333,\"#9c179e\"],[0.4444444444444444,\"#bd3786\"],[0.5555555555555556,\"#d8576b\"],[0.6666666666666666,\"#ed7953\"],[0.7777777777777778,\"#fb9f3a\"],[0.8888888888888888,\"#fdca26\"],[1.0,\"#f0f921\"]],\"type\":\"histogram2d\"}],\"histogram2dcontour\":[{\"colorbar\":{\"outlinewidth\":0,\"ticks\":\"\"},\"colorscale\":[[0.0,\"#0d0887\"],[0.1111111111111111,\"#46039f\"],[0.2222222222222222,\"#7201a8\"],[0.3333333333333333,\"#9c179e\"],[0.4444444444444444,\"#bd3786\"],[0.5555555555555556,\"#d8576b\"],[0.6666666666666666,\"#ed7953\"],[0.7777777777777778,\"#fb9f3a\"],[0.8888888888888888,\"#fdca26\"],[1.0,\"#f0f921\"]],\"type\":\"histogram2dcontour\"}],\"mesh3d\":[{\"colorbar\":{\"outlinewidth\":0,\"ticks\":\"\"},\"type\":\"mesh3d\"}],\"parcoords\":[{\"line\":{\"colorbar\":{\"outlinewidth\":0,\"ticks\":\"\"}},\"type\":\"parcoords\"}],\"pie\":[{\"automargin\":true,\"type\":\"pie\"}],\"scatter\":[{\"marker\":{\"colorbar\":{\"outlinewidth\":0,\"ticks\":\"\"}},\"type\":\"scatter\"}],\"scatter3d\":[{\"line\":{\"colorbar\":{\"outlinewidth\":0,\"ticks\":\"\"}},\"marker\":{\"colorbar\":{\"outlinewidth\":0,\"ticks\":\"\"}},\"type\":\"scatter3d\"}],\"scattercarpet\":[{\"marker\":{\"colorbar\":{\"outlinewidth\":0,\"ticks\":\"\"}},\"type\":\"scattercarpet\"}],\"scattergeo\":[{\"marker\":{\"colorbar\":{\"outlinewidth\":0,\"ticks\":\"\"}},\"type\":\"scattergeo\"}],\"scattergl\":[{\"marker\":{\"colorbar\":{\"outlinewidth\":0,\"ticks\":\"\"}},\"type\":\"scattergl\"}],\"scattermapbox\":[{\"marker\":{\"colorbar\":{\"outlinewidth\":0,\"ticks\":\"\"}},\"type\":\"scattermapbox\"}],\"scatterpolar\":[{\"marker\":{\"colorbar\":{\"outlinewidth\":0,\"ticks\":\"\"}},\"type\":\"scatterpolar\"}],\"scatterpolargl\":[{\"marker\":{\"colorbar\":{\"outlinewidth\":0,\"ticks\":\"\"}},\"type\":\"scatterpolargl\"}],\"scatterternary\":[{\"marker\":{\"colorbar\":{\"outlinewidth\":0,\"ticks\":\"\"}},\"type\":\"scatterternary\"}],\"surface\":[{\"colorbar\":{\"outlinewidth\":0,\"ticks\":\"\"},\"colorscale\":[[0.0,\"#0d0887\"],[0.1111111111111111,\"#46039f\"],[0.2222222222222222,\"#7201a8\"],[0.3333333333333333,\"#9c179e\"],[0.4444444444444444,\"#bd3786\"],[0.5555555555555556,\"#d8576b\"],[0.6666666666666666,\"#ed7953\"],[0.7777777777777778,\"#fb9f3a\"],[0.8888888888888888,\"#fdca26\"],[1.0,\"#f0f921\"]],\"type\":\"surface\"}],\"table\":[{\"cells\":{\"fill\":{\"color\":\"#EBF0F8\"},\"line\":{\"color\":\"white\"}},\"header\":{\"fill\":{\"color\":\"#C8D4E3\"},\"line\":{\"color\":\"white\"}},\"type\":\"table\"}]},\"layout\":{\"annotationdefaults\":{\"arrowcolor\":\"#2a3f5f\",\"arrowhead\":0,\"arrowwidth\":1},\"autotypenumbers\":\"strict\",\"coloraxis\":{\"colorbar\":{\"outlinewidth\":0,\"ticks\":\"\"}},\"colorscale\":{\"diverging\":[[0,\"#8e0152\"],[0.1,\"#c51b7d\"],[0.2,\"#de77ae\"],[0.3,\"#f1b6da\"],[0.4,\"#fde0ef\"],[0.5,\"#f7f7f7\"],[0.6,\"#e6f5d0\"],[0.7,\"#b8e186\"],[0.8,\"#7fbc41\"],[0.9,\"#4d9221\"],[1,\"#276419\"]],\"sequential\":[[0.0,\"#0d0887\"],[0.1111111111111111,\"#46039f\"],[0.2222222222222222,\"#7201a8\"],[0.3333333333333333,\"#9c179e\"],[0.4444444444444444,\"#bd3786\"],[0.5555555555555556,\"#d8576b\"],[0.6666666666666666,\"#ed7953\"],[0.7777777777777778,\"#fb9f3a\"],[0.8888888888888888,\"#fdca26\"],[1.0,\"#f0f921\"]],\"sequentialminus\":[[0.0,\"#0d0887\"],[0.1111111111111111,\"#46039f\"],[0.2222222222222222,\"#7201a8\"],[0.3333333333333333,\"#9c179e\"],[0.4444444444444444,\"#bd3786\"],[0.5555555555555556,\"#d8576b\"],[0.6666666666666666,\"#ed7953\"],[0.7777777777777778,\"#fb9f3a\"],[0.8888888888888888,\"#fdca26\"],[1.0,\"#f0f921\"]]},\"colorway\":[\"#636efa\",\"#EF553B\",\"#00cc96\",\"#ab63fa\",\"#FFA15A\",\"#19d3f3\",\"#FF6692\",\"#B6E880\",\"#FF97FF\",\"#FECB52\"],\"font\":{\"color\":\"#2a3f5f\"},\"geo\":{\"bgcolor\":\"white\",\"lakecolor\":\"white\",\"landcolor\":\"#E5ECF6\",\"showlakes\":true,\"showland\":true,\"subunitcolor\":\"white\"},\"hoverlabel\":{\"align\":\"left\"},\"hovermode\":\"closest\",\"mapbox\":{\"style\":\"light\"},\"paper_bgcolor\":\"white\",\"plot_bgcolor\":\"#E5ECF6\",\"polar\":{\"angularaxis\":{\"gridcolor\":\"white\",\"linecolor\":\"white\",\"ticks\":\"\"},\"bgcolor\":\"#E5ECF6\",\"radialaxis\":{\"gridcolor\":\"white\",\"linecolor\":\"white\",\"ticks\":\"\"}},\"scene\":{\"xaxis\":{\"backgroundcolor\":\"#E5ECF6\",\"gridcolor\":\"white\",\"gridwidth\":2,\"linecolor\":\"white\",\"showbackground\":true,\"ticks\":\"\",\"zerolinecolor\":\"white\"},\"yaxis\":{\"backgroundcolor\":\"#E5ECF6\",\"gridcolor\":\"white\",\"gridwidth\":2,\"linecolor\":\"white\",\"showbackground\":true,\"ticks\":\"\",\"zerolinecolor\":\"white\"},\"zaxis\":{\"backgroundcolor\":\"#E5ECF6\",\"gridcolor\":\"white\",\"gridwidth\":2,\"linecolor\":\"white\",\"showbackground\":true,\"ticks\":\"\",\"zerolinecolor\":\"white\"}},\"shapedefaults\":{\"line\":{\"color\":\"#2a3f5f\"}},\"ternary\":{\"aaxis\":{\"gridcolor\":\"white\",\"linecolor\":\"white\",\"ticks\":\"\"},\"baxis\":{\"gridcolor\":\"white\",\"linecolor\":\"white\",\"ticks\":\"\"},\"bgcolor\":\"#E5ECF6\",\"caxis\":{\"gridcolor\":\"white\",\"linecolor\":\"white\",\"ticks\":\"\"}},\"title\":{\"x\":0.05},\"xaxis\":{\"automargin\":true,\"gridcolor\":\"white\",\"linecolor\":\"white\",\"ticks\":\"\",\"title\":{\"standoff\":15},\"zerolinecolor\":\"white\",\"zerolinewidth\":2},\"yaxis\":{\"automargin\":true,\"gridcolor\":\"white\",\"linecolor\":\"white\",\"ticks\":\"\",\"title\":{\"standoff\":15},\"zerolinecolor\":\"white\",\"zerolinewidth\":2}}},\"xaxis\":{\"anchor\":\"y\",\"domain\":[0.0,1.0],\"title\":{\"text\":\"Churn\"}},\"yaxis\":{\"anchor\":\"x\",\"domain\":[0.0,1.0],\"title\":{\"text\":\"CustServ Calls\"}},\"legend\":{\"tracegroupgap\":0},\"margin\":{\"t\":60},\"boxmode\":\"group\"},                        {\"responsive\": true}                    ).then(function(){\n",
              "                            \n",
              "var gd = document.getElementById('6a305e10-0ed1-411e-8104-07752c9f8ba6');\n",
              "var x = new MutationObserver(function (mutations, observer) {{\n",
              "        var display = window.getComputedStyle(gd).display;\n",
              "        if (!display || display === 'none') {{\n",
              "            console.log([gd, 'removed!']);\n",
              "            Plotly.purge(gd);\n",
              "            observer.disconnect();\n",
              "        }}\n",
              "}});\n",
              "\n",
              "// Listen for the removal of the full notebook cells\n",
              "var notebookContainer = gd.closest('#notebook-container');\n",
              "if (notebookContainer) {{\n",
              "    x.observe(notebookContainer, {childList: true});\n",
              "}}\n",
              "\n",
              "// Listen for the clearing of the current output cell\n",
              "var outputEl = gd.closest('.output');\n",
              "if (outputEl) {{\n",
              "    x.observe(outputEl, {childList: true});\n",
              "}}\n",
              "\n",
              "                        })                };                            </script>        </div>\n",
              "</body>\n",
              "</html>"
            ]
          },
          "metadata": {}
        }
      ]
    },
    {
      "cell_type": "code",
      "source": [
        "pd.crosstab(data['Churn'], data['VMail Plan'], normalize = 'index')"
      ],
      "metadata": {
        "colab": {
          "base_uri": "https://localhost:8080/",
          "height": 143
        },
        "id": "QY7NDtazsQek",
        "outputId": "1abb8e88-e9d2-47a5-b59b-05a1608abcb9"
      },
      "execution_count": null,
      "outputs": [
        {
          "output_type": "execute_result",
          "data": {
            "text/plain": [
              "VMail Plan         0         1\n",
              "Churn                         \n",
              "0           0.704561  0.295439\n",
              "1           0.834369  0.165631"
            ],
            "text/html": [
              "\n",
              "  <div id=\"df-02302d5d-9250-4e0a-8b7c-08a57816219a\">\n",
              "    <div class=\"colab-df-container\">\n",
              "      <div>\n",
              "<style scoped>\n",
              "    .dataframe tbody tr th:only-of-type {\n",
              "        vertical-align: middle;\n",
              "    }\n",
              "\n",
              "    .dataframe tbody tr th {\n",
              "        vertical-align: top;\n",
              "    }\n",
              "\n",
              "    .dataframe thead th {\n",
              "        text-align: right;\n",
              "    }\n",
              "</style>\n",
              "<table border=\"1\" class=\"dataframe\">\n",
              "  <thead>\n",
              "    <tr style=\"text-align: right;\">\n",
              "      <th>VMail Plan</th>\n",
              "      <th>0</th>\n",
              "      <th>1</th>\n",
              "    </tr>\n",
              "    <tr>\n",
              "      <th>Churn</th>\n",
              "      <th></th>\n",
              "      <th></th>\n",
              "    </tr>\n",
              "  </thead>\n",
              "  <tbody>\n",
              "    <tr>\n",
              "      <th>0</th>\n",
              "      <td>0.704561</td>\n",
              "      <td>0.295439</td>\n",
              "    </tr>\n",
              "    <tr>\n",
              "      <th>1</th>\n",
              "      <td>0.834369</td>\n",
              "      <td>0.165631</td>\n",
              "    </tr>\n",
              "  </tbody>\n",
              "</table>\n",
              "</div>\n",
              "      <button class=\"colab-df-convert\" onclick=\"convertToInteractive('df-02302d5d-9250-4e0a-8b7c-08a57816219a')\"\n",
              "              title=\"Convert this dataframe to an interactive table.\"\n",
              "              style=\"display:none;\">\n",
              "        \n",
              "  <svg xmlns=\"http://www.w3.org/2000/svg\" height=\"24px\"viewBox=\"0 0 24 24\"\n",
              "       width=\"24px\">\n",
              "    <path d=\"M0 0h24v24H0V0z\" fill=\"none\"/>\n",
              "    <path d=\"M18.56 5.44l.94 2.06.94-2.06 2.06-.94-2.06-.94-.94-2.06-.94 2.06-2.06.94zm-11 1L8.5 8.5l.94-2.06 2.06-.94-2.06-.94L8.5 2.5l-.94 2.06-2.06.94zm10 10l.94 2.06.94-2.06 2.06-.94-2.06-.94-.94-2.06-.94 2.06-2.06.94z\"/><path d=\"M17.41 7.96l-1.37-1.37c-.4-.4-.92-.59-1.43-.59-.52 0-1.04.2-1.43.59L10.3 9.45l-7.72 7.72c-.78.78-.78 2.05 0 2.83L4 21.41c.39.39.9.59 1.41.59.51 0 1.02-.2 1.41-.59l7.78-7.78 2.81-2.81c.8-.78.8-2.07 0-2.86zM5.41 20L4 18.59l7.72-7.72 1.47 1.35L5.41 20z\"/>\n",
              "  </svg>\n",
              "      </button>\n",
              "      \n",
              "  <style>\n",
              "    .colab-df-container {\n",
              "      display:flex;\n",
              "      flex-wrap:wrap;\n",
              "      gap: 12px;\n",
              "    }\n",
              "\n",
              "    .colab-df-convert {\n",
              "      background-color: #E8F0FE;\n",
              "      border: none;\n",
              "      border-radius: 50%;\n",
              "      cursor: pointer;\n",
              "      display: none;\n",
              "      fill: #1967D2;\n",
              "      height: 32px;\n",
              "      padding: 0 0 0 0;\n",
              "      width: 32px;\n",
              "    }\n",
              "\n",
              "    .colab-df-convert:hover {\n",
              "      background-color: #E2EBFA;\n",
              "      box-shadow: 0px 1px 2px rgba(60, 64, 67, 0.3), 0px 1px 3px 1px rgba(60, 64, 67, 0.15);\n",
              "      fill: #174EA6;\n",
              "    }\n",
              "\n",
              "    [theme=dark] .colab-df-convert {\n",
              "      background-color: #3B4455;\n",
              "      fill: #D2E3FC;\n",
              "    }\n",
              "\n",
              "    [theme=dark] .colab-df-convert:hover {\n",
              "      background-color: #434B5C;\n",
              "      box-shadow: 0px 1px 3px 1px rgba(0, 0, 0, 0.15);\n",
              "      filter: drop-shadow(0px 1px 2px rgba(0, 0, 0, 0.3));\n",
              "      fill: #FFFFFF;\n",
              "    }\n",
              "  </style>\n",
              "\n",
              "      <script>\n",
              "        const buttonEl =\n",
              "          document.querySelector('#df-02302d5d-9250-4e0a-8b7c-08a57816219a button.colab-df-convert');\n",
              "        buttonEl.style.display =\n",
              "          google.colab.kernel.accessAllowed ? 'block' : 'none';\n",
              "\n",
              "        async function convertToInteractive(key) {\n",
              "          const element = document.querySelector('#df-02302d5d-9250-4e0a-8b7c-08a57816219a');\n",
              "          const dataTable =\n",
              "            await google.colab.kernel.invokeFunction('convertToInteractive',\n",
              "                                                     [key], {});\n",
              "          if (!dataTable) return;\n",
              "\n",
              "          const docLinkHtml = 'Like what you see? Visit the ' +\n",
              "            '<a target=\"_blank\" href=https://colab.research.google.com/notebooks/data_table.ipynb>data table notebook</a>'\n",
              "            + ' to learn more about interactive tables.';\n",
              "          element.innerHTML = '';\n",
              "          dataTable['output_type'] = 'display_data';\n",
              "          await google.colab.output.renderOutput(dataTable, element);\n",
              "          const docLink = document.createElement('div');\n",
              "          docLink.innerHTML = docLinkHtml;\n",
              "          element.appendChild(docLink);\n",
              "        }\n",
              "      </script>\n",
              "    </div>\n",
              "  </div>\n",
              "  "
            ]
          },
          "metadata": {},
          "execution_count": 23
        }
      ]
    },
    {
      "cell_type": "code",
      "source": [
        "pd.crosstab(data['Churn'], data[\"Int'l Plan\"], normalize = 'index')"
      ],
      "metadata": {
        "colab": {
          "base_uri": "https://localhost:8080/",
          "height": 143
        },
        "id": "yloguPBLuCu0",
        "outputId": "8ee4a211-948a-4b3f-d0e3-c009d5fbdaac"
      },
      "execution_count": null,
      "outputs": [
        {
          "output_type": "execute_result",
          "data": {
            "text/plain": [
              "Int'l Plan         0         1\n",
              "Churn                         \n",
              "0           0.934737  0.065263\n",
              "1           0.716356  0.283644"
            ],
            "text/html": [
              "\n",
              "  <div id=\"df-c5c316ac-5dc9-4e0e-bcfe-d12ec7116be0\">\n",
              "    <div class=\"colab-df-container\">\n",
              "      <div>\n",
              "<style scoped>\n",
              "    .dataframe tbody tr th:only-of-type {\n",
              "        vertical-align: middle;\n",
              "    }\n",
              "\n",
              "    .dataframe tbody tr th {\n",
              "        vertical-align: top;\n",
              "    }\n",
              "\n",
              "    .dataframe thead th {\n",
              "        text-align: right;\n",
              "    }\n",
              "</style>\n",
              "<table border=\"1\" class=\"dataframe\">\n",
              "  <thead>\n",
              "    <tr style=\"text-align: right;\">\n",
              "      <th>Int'l Plan</th>\n",
              "      <th>0</th>\n",
              "      <th>1</th>\n",
              "    </tr>\n",
              "    <tr>\n",
              "      <th>Churn</th>\n",
              "      <th></th>\n",
              "      <th></th>\n",
              "    </tr>\n",
              "  </thead>\n",
              "  <tbody>\n",
              "    <tr>\n",
              "      <th>0</th>\n",
              "      <td>0.934737</td>\n",
              "      <td>0.065263</td>\n",
              "    </tr>\n",
              "    <tr>\n",
              "      <th>1</th>\n",
              "      <td>0.716356</td>\n",
              "      <td>0.283644</td>\n",
              "    </tr>\n",
              "  </tbody>\n",
              "</table>\n",
              "</div>\n",
              "      <button class=\"colab-df-convert\" onclick=\"convertToInteractive('df-c5c316ac-5dc9-4e0e-bcfe-d12ec7116be0')\"\n",
              "              title=\"Convert this dataframe to an interactive table.\"\n",
              "              style=\"display:none;\">\n",
              "        \n",
              "  <svg xmlns=\"http://www.w3.org/2000/svg\" height=\"24px\"viewBox=\"0 0 24 24\"\n",
              "       width=\"24px\">\n",
              "    <path d=\"M0 0h24v24H0V0z\" fill=\"none\"/>\n",
              "    <path d=\"M18.56 5.44l.94 2.06.94-2.06 2.06-.94-2.06-.94-.94-2.06-.94 2.06-2.06.94zm-11 1L8.5 8.5l.94-2.06 2.06-.94-2.06-.94L8.5 2.5l-.94 2.06-2.06.94zm10 10l.94 2.06.94-2.06 2.06-.94-2.06-.94-.94-2.06-.94 2.06-2.06.94z\"/><path d=\"M17.41 7.96l-1.37-1.37c-.4-.4-.92-.59-1.43-.59-.52 0-1.04.2-1.43.59L10.3 9.45l-7.72 7.72c-.78.78-.78 2.05 0 2.83L4 21.41c.39.39.9.59 1.41.59.51 0 1.02-.2 1.41-.59l7.78-7.78 2.81-2.81c.8-.78.8-2.07 0-2.86zM5.41 20L4 18.59l7.72-7.72 1.47 1.35L5.41 20z\"/>\n",
              "  </svg>\n",
              "      </button>\n",
              "      \n",
              "  <style>\n",
              "    .colab-df-container {\n",
              "      display:flex;\n",
              "      flex-wrap:wrap;\n",
              "      gap: 12px;\n",
              "    }\n",
              "\n",
              "    .colab-df-convert {\n",
              "      background-color: #E8F0FE;\n",
              "      border: none;\n",
              "      border-radius: 50%;\n",
              "      cursor: pointer;\n",
              "      display: none;\n",
              "      fill: #1967D2;\n",
              "      height: 32px;\n",
              "      padding: 0 0 0 0;\n",
              "      width: 32px;\n",
              "    }\n",
              "\n",
              "    .colab-df-convert:hover {\n",
              "      background-color: #E2EBFA;\n",
              "      box-shadow: 0px 1px 2px rgba(60, 64, 67, 0.3), 0px 1px 3px 1px rgba(60, 64, 67, 0.15);\n",
              "      fill: #174EA6;\n",
              "    }\n",
              "\n",
              "    [theme=dark] .colab-df-convert {\n",
              "      background-color: #3B4455;\n",
              "      fill: #D2E3FC;\n",
              "    }\n",
              "\n",
              "    [theme=dark] .colab-df-convert:hover {\n",
              "      background-color: #434B5C;\n",
              "      box-shadow: 0px 1px 3px 1px rgba(0, 0, 0, 0.15);\n",
              "      filter: drop-shadow(0px 1px 2px rgba(0, 0, 0, 0.3));\n",
              "      fill: #FFFFFF;\n",
              "    }\n",
              "  </style>\n",
              "\n",
              "      <script>\n",
              "        const buttonEl =\n",
              "          document.querySelector('#df-c5c316ac-5dc9-4e0e-bcfe-d12ec7116be0 button.colab-df-convert');\n",
              "        buttonEl.style.display =\n",
              "          google.colab.kernel.accessAllowed ? 'block' : 'none';\n",
              "\n",
              "        async function convertToInteractive(key) {\n",
              "          const element = document.querySelector('#df-c5c316ac-5dc9-4e0e-bcfe-d12ec7116be0');\n",
              "          const dataTable =\n",
              "            await google.colab.kernel.invokeFunction('convertToInteractive',\n",
              "                                                     [key], {});\n",
              "          if (!dataTable) return;\n",
              "\n",
              "          const docLinkHtml = 'Like what you see? Visit the ' +\n",
              "            '<a target=\"_blank\" href=https://colab.research.google.com/notebooks/data_table.ipynb>data table notebook</a>'\n",
              "            + ' to learn more about interactive tables.';\n",
              "          element.innerHTML = '';\n",
              "          dataTable['output_type'] = 'display_data';\n",
              "          await google.colab.output.renderOutput(dataTable, element);\n",
              "          const docLink = document.createElement('div');\n",
              "          docLink.innerHTML = docLinkHtml;\n",
              "          element.appendChild(docLink);\n",
              "        }\n",
              "      </script>\n",
              "    </div>\n",
              "  </div>\n",
              "  "
            ]
          },
          "metadata": {},
          "execution_count": 46
        }
      ]
    },
    {
      "cell_type": "markdown",
      "source": [
        "Para escoger las variables explicativas se analizaron cada uno de las variables en función de la variable respuesta \"Churn\" para saber cual de ellas eran más significativas para dicha variable, donde, para las variables categoricás se utilizó tablas de contigencia y para las variables continuas boxplot. Las variables explicativas para entrenar el modelo de regresión logistica son:\n",
        "\n",
        "\n",
        "*   \"CustServ Calls\" que indica cuantas veces llamo la persona a atención al cliente.\n",
        "*   \"VMail Plan\" que indica si el cliente cuenta con plan de correo virtual o no.\n",
        "*   \"Int'l Plan\" que indica si el cliente cuenta con plan intercional o no.\n",
        "\n",
        "\n",
        "\n",
        "\n"
      ],
      "metadata": {
        "id": "oQ28c8Zhx9cl"
      }
    },
    {
      "cell_type": "code",
      "source": [
        "mod = LogisticRegression(fit_intercept = True)\n",
        "X1 = data[[\"Int'l Plan\",\"VMail Plan\", \"CustServ Calls\"]]\n",
        "X1 = pd.DataFrame(X1)\n",
        "y1 = data['Churn']\n",
        "mod.fit(X1, y1)"
      ],
      "metadata": {
        "colab": {
          "base_uri": "https://localhost:8080/"
        },
        "id": "o0pBpIhB1ZPS",
        "outputId": "53b28c76-0ec3-420b-9502-cbd63d28b7b3"
      },
      "execution_count": null,
      "outputs": [
        {
          "output_type": "execute_result",
          "data": {
            "text/plain": [
              "LogisticRegression()"
            ]
          },
          "metadata": {},
          "execution_count": 16
        }
      ]
    },
    {
      "cell_type": "code",
      "source": [
        "mod.coef_"
      ],
      "metadata": {
        "colab": {
          "base_uri": "https://localhost:8080/"
        },
        "id": "WM7R32bmQd7L",
        "outputId": "c1209247-49cd-4523-fa30-3cbca321fddf"
      },
      "execution_count": null,
      "outputs": [
        {
          "output_type": "execute_result",
          "data": {
            "text/plain": [
              "array([[ 1.91098799, -0.81792038,  0.44133477]])"
            ]
          },
          "metadata": {},
          "execution_count": 56
        }
      ]
    },
    {
      "cell_type": "code",
      "source": [
        "mod.intercept_"
      ],
      "metadata": {
        "colab": {
          "base_uri": "https://localhost:8080/"
        },
        "id": "GTXUhjRKTOEQ",
        "outputId": "7f3d1fcf-169f-4eba-f96d-253541b84b63"
      },
      "execution_count": null,
      "outputs": [
        {
          "output_type": "execute_result",
          "data": {
            "text/plain": [
              "array([-2.68408922])"
            ]
          },
          "metadata": {},
          "execution_count": 57
        }
      ]
    },
    {
      "cell_type": "markdown",
      "source": [
        "$$\\log (cliente\\ dado \\ de \\ baja) = -2.684089 +0.261543\\ Int'l_Plan   -081792038  \\ VMail_Plan + 0.44133477 \\ CustServ_Calls $$"
      ],
      "metadata": {
        "id": "OZKlFAj736XE"
      }
    },
    {
      "cell_type": "markdown",
      "source": [
        "Si las variables explicativas \"Intplan\", \"VMailplan\" y \"CustServcalls\" son iguales a 0 el el logaritmo de las posibilidades de \"Churn\" es de -2,68 unidades .Por otro lado, al aumentar una unidad a \"Int'plan\" aumenta a las las probabilidades logarítmicas de \"Churn\" un 0.4615 unidades, es decir, que al tener el cliente un plan internacional es más probable de que el cliente haya sido de baja. Por lo contratio, la variable \"VMailplan\" al aumentar en una unidad disminuye la probabilidad logaritmicas de \"Churn\", dicho de otra manera, si el cliente cuenta con plan de correo virtual disminuye la probabilidad logaritmica de que vaya a ser dado de baja y la variable \"CustSercalls\" al aumentar en una unidad aumenta la probabilidad logaritmica de la variable \"Churn\" en un 0.4413 unidades.\n"
      ],
      "metadata": {
        "id": "UXcvsyUdLUg1"
      }
    },
    {
      "cell_type": "markdown",
      "source": [
        "## Ejercicio 4.10\n",
        "\n",
        "Utilizando las 3 variables independientes del punto anterior, particione la base en training (90%) y validación (10%). Posterior, con la bases de training (90%) aplique un modelo de regresión logística usando K fold cross validation:\n",
        "* K = 2\n",
        "* K = 5\n",
        "* K = 10\n",
        "\n",
        "Calcule la precisión de test y la precisión de validación(10% restante) y compare los modelos."
      ],
      "metadata": {
        "id": "zb0Zb0Akb1Ry"
      }
    },
    {
      "cell_type": "code",
      "metadata": {
        "id": "QUslBeW1lABj",
        "colab": {
          "base_uri": "https://localhost:8080/"
        },
        "outputId": "709a2c67-0b5a-4e05-b660-c49422b8cf8c"
      },
      "source": [
        "from sklearn.model_selection import train_test_split\n",
        "from sklearn.model_selection import KFold\n",
        "from sklearn.model_selection import cross_val_score\n",
        "from sklearn.metrics import precision_score\n",
        "feature_cols = [\"Int'l Plan\",\"VMail Plan\",'CustServ Calls']\n",
        "X = data[feature_cols]\n",
        "y = data['Churn']\n",
        "mod1 = LogisticRegression(fit_intercept = True)\n",
        "mod5 = LogisticRegression(fit_intercept = True)\n",
        "mod10 = LogisticRegression(fit_intercept = True)\n",
        "\n",
        "# Train-validation\n",
        "X_train, X_validation, y_train, y_validation = train_test_split(X, y, test_size=0.1, random_state=123)\n",
        "\n",
        "#K fold cross entrenamiento k=2\n",
        "cv = KFold(n_splits=2, random_state=123, shuffle=True)\n",
        "scores = cross_val_score(mod1, X_train, y_train, scoring='precision', cv=cv, n_jobs=-1)# le paso mi modelo, mis x y y, toca meter que parametro quiero usar con el scoring \n",
        "\n",
        "#K fold cross entrenamiento k=5\n",
        "cv1 = KFold(n_splits=5, random_state=123, shuffle=True)\n",
        "scores1 = cross_val_score(mod5, X_train, y_train, scoring='precision', cv=cv1, n_jobs=-1)# le paso mi modelo, mis x y y, toca meter que parametro quiero usar con el scoring \n",
        " \n",
        "#K fold cross entrenamiento k=10\n",
        "cv2 = KFold(n_splits=10, random_state=123, shuffle=True)\n",
        "scores2 = cross_val_score(mod10, X_train, y_train, scoring='precision', cv=cv2, n_jobs=-1)# le paso mi modelo, mis x y y, toca meter que parametro quiero usar con el scoring \n",
        " \n",
        "#Precisión entrenamiento\n",
        "print('Precisión del entrenamiento k=2:', np.mean(abs(scores)))\n",
        "print('Precisión del entrenamiento k = 5 :', np.mean(abs(scores1)))\n",
        "print('Precisión del entrenamiento k = 10:', np.mean(abs(scores2)))"
      ],
      "execution_count": null,
      "outputs": [
        {
          "output_type": "stream",
          "name": "stdout",
          "text": [
            "Precisión del entrenamiento k=2: 0.4983314794215795\n",
            "Precisión del entrenamiento k = 5 : 0.45581932773109246\n",
            "Precisión del entrenamiento k = 10: 0.485551948051948\n"
          ]
        }
      ]
    },
    {
      "cell_type": "markdown",
      "source": [
        "Según la precisión que responde a la pregunta: ¿qué proporción de los positivos predichos es realmente positiva?, nos quedamos con el k = 2 puesto que es el modelo que presenta una precisión mayor."
      ],
      "metadata": {
        "id": "kCi5DmsX9-Za"
      }
    },
    {
      "cell_type": "code",
      "source": [
        "from sklearn import metrics\n",
        "mod2.fit(X_train, y_train)\n",
        "y_predict = mod2.predict(X_validation)\n",
        "print('Precisión validación:', metrics.precision_score(y_validation, y_predict))"
      ],
      "metadata": {
        "colab": {
          "base_uri": "https://localhost:8080/"
        },
        "id": "62HJhNuG-hOB",
        "outputId": "cd96f2f2-eb43-4c43-b5f2-25441f5e1740"
      },
      "execution_count": null,
      "outputs": [
        {
          "output_type": "stream",
          "name": "stdout",
          "text": [
            "Precisión validación: 0.5833333333333334\n"
          ]
        }
      ]
    },
    {
      "cell_type": "markdown",
      "source": [
        "La precisión de la validación nos indica que el 58.33% de los positivos predichos son realmente positivos y si la comparamos con la precisión del entrenamiento la cual fue del 49,83% podemos concluir que el modelo propuesto se adapta de buena manera a la predicción de la variable \"Churn\" datos los datos no observados de las variables xplicativas \"\"CustServ Calls\",\"VMail Plan\" y \"Int'l Plan\"."
      ],
      "metadata": {
        "id": "mVysTXWhE2PY"
      }
    },
    {
      "cell_type": "code",
      "source": [],
      "metadata": {
        "id": "ba-J3Zou6ihe"
      },
      "execution_count": null,
      "outputs": []
    }
  ]
}