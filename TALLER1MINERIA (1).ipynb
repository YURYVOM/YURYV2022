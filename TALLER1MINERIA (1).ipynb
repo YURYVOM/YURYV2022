{
 "cells": [
  {
   "cell_type": "code",
   "execution_count": 1,
   "id": "81cd1267",
   "metadata": {},
   "outputs": [
    {
     "name": "stdout",
     "output_type": "stream",
     "text": [
      "Introduce la contraseña: 12\n",
      "Contraseña inválida, recuerde que la contraseña debe contener al menos una mayúscula, un carácter numérico y  un carácter especial *, _ , !, $, % \n"
     ]
    }
   ],
   "source": [
    "#EJERCICIO 2 <- Escribir un programa que almacene la cadena de caracteres contraseña en una variable,\n",
    "#pregunte al usuario por la contraseña e imprima por pantalla si el valor es correcto o no en función\n",
    "#de los siguientes aspectos:\n",
    "#1. Falta al menos un carácter numérico\n",
    "#2. Falta al menos uno de los siguientes carácter especiales : *, _ , !, $, %\n",
    "#3. Falta al menos una mayúscula\n",
    "\n",
    "password = list(input(\"Introduce la contraseña: \"))\n",
    "w=0\n",
    "f=0\n",
    "t=0\n",
    "for i in range(len(password)):\n",
    "    if password[i].isupper() == True:\n",
    "        w+=1\n",
    "    elif password[i].isnumeric()== True:\n",
    "        t+=1\n",
    "    elif password[i] == \"*\" or password[i] == \"_\" or password[i] == \"$\" or password[i] == \"%\" or password[i]  == \"!\":\n",
    "        f+=1\n",
    "    else:\n",
    "        w+=0;t+=0;f+=0\n",
    "        \n",
    "if w == 0 or t == 0 or f == 0:\n",
    "    print(\"Contraseña inválida, recuerde que la contraseña debe contener al menos una mayúscula, un carácter numérico y  un carácter especial *, _ , !, $, % \")\n",
    "else:\n",
    "    print(\"Contraseña válida\")"
   ]
  },
  {
   "cell_type": "code",
   "execution_count": 4,
   "id": "62fe08d9",
   "metadata": {},
   "outputs": [
    {
     "name": "stdout",
     "output_type": "stream",
     "text": [
      "Ingrese los grados  Fahrenheit32\n",
      "32 grados Fahrenheit son 0 grados centigrados\n"
     ]
    }
   ],
   "source": [
    "#EJERCICIO 1 <- Cree una función que transforme grados Fahrenheit a grados centígrados\n",
    "Fah = int(input(\"Ingrese los grados  Fahrenheit\"))\n",
    "def Conver(Fah):\n",
    "    Cent = int((Fah-32)/1.8)\n",
    "    print(Fah , \"grados Fahrenheit son\" , Cent, \"grados centigrados\")\n",
    "Conver(Fah)\n"
   ]
  },
  {
   "cell_type": "code",
   "execution_count": 79,
   "id": "5f1b3a6a",
   "metadata": {},
   "outputs": [
    {
     "name": "stdout",
     "output_type": "stream",
     "text": [
      "  Combinaciones 1 Combinaciones 2  Precio\n",
      "0       (1, 2, 3)       (4, 5, 6)  270000\n",
      "1       (1, 2, 4)       (3, 5, 6)  260000\n",
      "2       (1, 2, 5)       (3, 4, 6)  270000\n",
      "3       (1, 2, 6)       (3, 4, 5)  270000\n",
      "4       (1, 3, 4)       (2, 5, 6)  270000\n",
      "5       (1, 3, 5)       (2, 4, 6)  250000\n",
      "6       (1, 3, 6)       (2, 4, 5)  260000\n",
      "7       (1, 4, 5)       (2, 3, 6)  270000\n",
      "8       (1, 4, 6)       (2, 3, 5)  270000\n",
      "9       (1, 5, 6)       (2, 3, 4)  260000\n",
      "Analizando las combinaciones posibles se determina que si Laura y Sebastian realizan dos commpras, en donde la primera agrupen los libros 1,3 y 5 y en la segunda 2,4 y 6 garantizarán obtener el mejor precio posible y el mayor porcentaje de ahorro, pagando un total de 250.000 por los 6 libros \n"
     ]
    }
   ],
   "source": [
    "#EJERCICIO 3 <- Laura y Sebastián vieron una promoción en Buscalibre dónde por la compra de 2 libros te llevas el\n",
    "#tercero de menor valor. Ellos quieren analizar si hay una forma de adquirir 6 libros en dónde\n",
    "#puedan sacar la mayor ganancia posible. Las opciones de libros son los siguientes:\n",
    "#• Libro 1 por $50.000\n",
    "#• Libro 2 por $30.000\n",
    "#• Libro 3 por $80.000\n",
    "#• Libro 4 por $20.000\n",
    "#• Libro 5 por $100.000\n",
    "#• Libro 6 por $40.000\n",
    "\n",
    "import itertools \n",
    "import pandas as pd\n",
    "\n",
    "Combinaciones = list(itertools.combinations((1,2,3,4,5,6),3)) #la funcion itertools.combinations crea Tuplas de longitud r, en orden ordenado, sin elementos repetidos \n",
    "Combinaciones\n",
    "precios = list(itertools.combinations((50000, 30000,80000, 20000, 100000, 40000),3))\n",
    "precios\n",
    "precio_final = list(map(lambda x: sum(x) ,precios))\n",
    "descuento = list(map(lambda x: min(x), precios))\n",
    "\n",
    "precio_pagar=list()\n",
    "for i in range (len(precio_final)):\n",
    "    valor = precio_final[i]-min_precio[i]\n",
    "    precio_pagar.append(valor)\n",
    "    \n",
    "data_1 = {'Libros' : Combinaciones,\n",
    "          'Precios' : precios, 'Precio sin descuento':precio_final, 'Descuento': descuento,'Precio_Pagar' : precio_pagar}\n",
    "df_1 = pd.DataFrame(data_1)\n",
    "df_1\n",
    "\n",
    "precio_f = list()\n",
    "for i in range (int(len(df_1)/2)):\n",
    "    v = precio_pagar[i]+precio_pagar[20-i-1]\n",
    "    precio_f.append(v)\n",
    "  \n",
    "comb_final = list()\n",
    "for i in range (int(len(df_1)/2)):\n",
    "    y = Combinaciones[i]\n",
    "    comb_final.append(y)\n",
    "comb_final\n",
    "\n",
    "combs_final = list()\n",
    "for i in range (int(len(df_1)/2)):\n",
    "    y = Combinaciones[20-i-1]\n",
    "    combs_final.append(y)\n",
    "combs_final\n",
    "\n",
    "data_2 = {'Combinaciones 1': comb_final, 'Combinaciones 2': combs_final, 'Precio': precio_f}\n",
    "data = pd.DataFrame(data_2)\n",
    "print(data)\n",
    "print(\"Analizando las combinaciones posibles se determina que si Laura y Sebastian realizan dos commpras, en donde la primera agrupen los libros 1,3 y 5 y en la segunda 2,4 y 6 garantizarán obtener el mejor precio posible y el mayor porcentaje de ahorro, pagando un total de 250.000 por los 6 libros \")\n"
   ]
  },
  {
   "cell_type": "code",
   "execution_count": null,
   "id": "b85ec282",
   "metadata": {},
   "outputs": [],
   "source": []
  }
 ],
 "metadata": {
  "kernelspec": {
   "display_name": "Python 3 (ipykernel)",
   "language": "python",
   "name": "python3"
  },
  "language_info": {
   "codemirror_mode": {
    "name": "ipython",
    "version": 3
   },
   "file_extension": ".py",
   "mimetype": "text/x-python",
   "name": "python",
   "nbconvert_exporter": "python",
   "pygments_lexer": "ipython3",
   "version": "3.9.12"
  }
 },
 "nbformat": 4,
 "nbformat_minor": 5
}
