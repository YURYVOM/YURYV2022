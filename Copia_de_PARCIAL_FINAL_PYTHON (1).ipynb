{
  "nbformat": 4,
  "nbformat_minor": 0,
  "metadata": {
    "colab": {
      "provenance": [],
      "collapsed_sections": []
    },
    "kernelspec": {
      "name": "python3",
      "display_name": "Python 3"
    },
    "language_info": {
      "name": "python"
    }
  },
  "cells": [
    {
      "cell_type": "markdown",
      "source": [
        "# 1. INTRODUCCIÓN\n",
        "\n",
        "\n",
        "---\n",
        "\n",
        "En el siguiente escrito se analizará de manera exploratoria y se implementará un modelo de regresión lógistica a la base de datos \"portugues.csv\" que contiene 33 variables, 5 cuantitativas y 28 categóricas para seiscientas cuarenta y nueva observaciones. Se estimará si el estudiante paso o no la materia teniendo en cuenta que si la nota es mayor o igual a 12 pasa, sino, pierde la materia."
      ],
      "metadata": {
        "id": "b9lX7M5iaHtj"
      }
    },
    {
      "cell_type": "markdown",
      "source": [
        "# 2 PREPROCESAMIENTO DE DATOS\n",
        "\n",
        "---\n",
        "\n"
      ],
      "metadata": {
        "id": "UvqcYlnTw7zH"
      }
    },
    {
      "cell_type": "markdown",
      "source": [
        "Para el preprocesamiento de datos se encontró que habían valores faltantes en las variables \"sex\", \"famsize\", \"Pstatus \", \"Fjob\", \"Fjob\", \"nursery\" y \"higher\" la cuales tuvieron 2,2,2,1,2,2,1,1 datos faltantes respectivamente, se decidió eliminar estas variables puesto que imputar estos datos no era muy coherente, se eliminaron 13 datos de 649 que tenia la base original y se realizará los demás procesos con 636 individuos sin ningún dato faltante en las 33 variables las cuales son 16 númericas y 17 ded tipo objeto .\n",
        "También se verifico que la base de datos no tuviera datos duplicados y se normalizo las variables cuantitaivas por si se opta por incluirlas.\n",
        "Además, se categorizó la variable G3 puesto que se desea predecir si el estudiante paso o no la materia de portugues dado que era númerica se  baso en como califican en portugal lo cual dio como resultado que si el estudiante sacaba 12 o más pasaban la materia (1) y si sacaban menos de 14 la perdían (0).\n",
        "Se eliminó el individuo 67 puesto que en la variable 'Pstatus' puso la variable B teniendo en cuenta que solo se puede poner la letra A o T.\n"
      ],
      "metadata": {
        "id": "WNOc2qVWxlNE"
      }
    },
    {
      "cell_type": "markdown",
      "source": [
        "\n",
        "#  3. ANÁLISIS EXPLORATORIO\n",
        "\n",
        "\n",
        "---\n",
        "\n"
      ],
      "metadata": {
        "id": "UlK6sc5JbrOe"
      }
    },
    {
      "cell_type": "markdown",
      "source": [
        "###2.1 SELECCIÓN DE VARIABLES\n",
        "\n",
        "Para el análisis de las variables categoricas se optó por realizar tablas de contigencia entre cada variable categorica con la variable a predecir \"G3\" que indica si el estudiante paso o no, además, se baso en la PRUEBA DE INDEPENDENCIA DE CHI-CUADRADo:\n",
        "\n",
        "$$ HO : Las \\ variables \\ son \\ independientes. $$\n",
        "$$ H1 : Las \\ variables \\ son \\ dependientes. $$\n",
        "\n",
        "\n",
        "Solo las variables \"gouut\", \"famrel\" \"romantic\", \"nursey\", \"activities\", \"famsup\", \"guardian\", \"famsize\" y \"Pstatus\" a un nivel de significancia del 5% rechazan la hipótesis nula de que son independientes con la variable \"G3\", es decir, dichas variables dependen significativamente de la variables a predecir \"G3\".\n",
        "\n",
        "Para el análisis de las variables continuas se optó por realizar un matriz de correlaciones para verificar que entre ellas tengan poco correlación.\n",
        "\n",
        "![image.png](data:image/png;base64,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)\n",
        "\n",
        "Como se evidencia en el gráfico anterior las variables G2 Y G3 tienen una alta correlación entre ellas, por ende, se descartan para la estimación del modelo, por otro lado, las variables \"absences\" y \"age\" tienen baja relación entre ellas, sin embargo, para verificar si se pueden incluir o no estas dos variables continuas se optó por realizar dos diagramas de caja con la variable a predecir \"G3\".\n",
        "\n",
        "![image.png](data:image/png;base64,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)\n",
        "\n",
        "![image.png](data:image/png;base64,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)\n",
        "\n",
        "Como se observa en los gráficos anterior, las variable \"age\" y la variable \"absences\" no afecta significativamen la variable a predecir si el estudiante paso o no la materia.\n",
        "\n",
        "En efeto, se decide crear el modelo con variables explicativas \"Pdstatus\",\"famsize\", \"famsup\", \"romantic\" y \"activities\", cabe destacar que dichas variables son categoricas y se hará la respectiva transformación a variables dummies."
      ],
      "metadata": {
        "id": "qBC2TeYOb1f0"
      }
    },
    {
      "cell_type": "markdown",
      "source": [
        "#4. MODELAMIENTO VARIABLE RESPUESTA\n",
        "\n",
        "---\n",
        "\n"
      ],
      "metadata": {
        "id": "qF4H_gqtxDis"
      }
    },
    {
      "cell_type": "markdown",
      "source": [
        "### 4.1 BASE DE DATOS COMPLETA\n",
        "\n",
        "| Modelo                                      | Precisión | Eficacia |\n",
        "|---------------------------------------------|-----------|----------|\n",
        "| C = 0.0001, liblinear y por regresión lazzo | 0%        | 45.98%   |\n",
        "| C = 0.5 y newton-cg y por regresión rigde   | 56.34%    | 55.59%   |\n",
        "| C = 0.8 y sag                               | 56.21%    | 55.27%   |\n",
        "\n"
      ],
      "metadata": {
        "id": "Q46GZdzG0LWI"
      }
    },
    {
      "cell_type": "markdown",
      "source": [
        "### 4.2 PARTICIONANDO BASE DE DATOS EN (80%) ENTRENAMIENTO Y 20% TEST.\n",
        "| Modelo                                      | Precisión | Eficacia |\n",
        "|---------------------------------------------|-----------|----------|\n",
        "| C = 0.0001, liblinear y por regresión lazzo | 0%        | 43.30%   |\n",
        "| C = 0.5 y newton-cg y por regresión rigde   | 59.18%    | 57.48%   |\n",
        "| C = 0.8 y sag                               | 59.18%    | 57.48%   |"
      ],
      "metadata": {
        "id": "rD_Vaiyy0VgC"
      }
    },
    {
      "cell_type": "markdown",
      "source": [
        "### 4.3 K FOLD CROSS VALIDATION\n",
        "\n",
        "| Modelo  | Precisión | Eficacia |\n",
        "|---------|-----------|----------|\n",
        "| K = 5   | 59.18%    | 57.48%   |\n",
        "| K=10    | 59.18%    | 57.48%   |"
      ],
      "metadata": {
        "id": "Qpd2JAFAG9sb"
      }
    },
    {
      "cell_type": "markdown",
      "source": [
        "Como se evidencia en las tablas anteriores, para la estimación de si el individuo pasa o no la materia portugues el mejor método a utilizar es usando el kfolds o particionando la base de datos en 80% y 20% y usando los parámetros (C = 0.5 - newton-cg - regresión rigde) o (C = 0.8 - sag) puesto que dichos modelos tienes una eficacia del 57.48% que indica la proporción de resultados verdaderos entre el número total de casos examinados y una proporción del 59.18% que indica la proporción de los positivos predichos es realmente positiva"
      ],
      "metadata": {
        "id": "g23aco3kI4mI"
      }
    },
    {
      "cell_type": "markdown",
      "source": [
        "# 5. ANEXOS \n",
        "\n",
        "---\n",
        "\n",
        "\n"
      ],
      "metadata": {
        "id": "sCXqGxwVmcDS"
      }
    },
    {
      "cell_type": "markdown",
      "source": [
        "### 5.1 IMPORTACIÓN BASE DE DATOS Y LIBRERIAS"
      ],
      "metadata": {
        "id": "a7jdH8mn03B1"
      }
    },
    {
      "cell_type": "code",
      "source": [
        "!pip install -U -q PyDrive"
      ],
      "metadata": {
        "id": "3acAa4ALLauo"
      },
      "execution_count": null,
      "outputs": []
    },
    {
      "cell_type": "code",
      "source": [
        "import pandas as pd\n",
        "import matplotlib.pyplot as plt\n",
        "import seaborn\n",
        "import cv2\n",
        "from sklearn import metrics\n",
        "from sklearn.model_selection import cross_val_score\n",
        "from sklearn.model_selection import KFold\n",
        "import numpy as np\n",
        "import seaborn as sns\n",
        "from google.colab import drive\n",
        "from matplotlib import cm\n",
        "import altair as alt\n",
        "import scipy.stats as stats\n",
        "from ast import increment_lineno\n",
        "from sklearn.model_selection import train_test_split\n",
        "import seaborn as sns\n",
        "import plotly.express as px\n",
        "drive.mount('/content/drive')"
      ],
      "metadata": {
        "colab": {
          "base_uri": "https://localhost:8080/"
        },
        "id": "f3OUHd0QLcUP",
        "outputId": "2b3e33cc-dd63-4c2e-8187-4ef461fab54e"
      },
      "execution_count": null,
      "outputs": [
        {
          "output_type": "stream",
          "name": "stdout",
          "text": [
            "Drive already mounted at /content/drive; to attempt to forcibly remount, call drive.mount(\"/content/drive\", force_remount=True).\n"
          ]
        }
      ]
    },
    {
      "cell_type": "code",
      "source": [
        "portugues = pd.read_csv('/content/drive/MyDrive/student-por (1).csv', \n",
        "                 sep = ';',\n",
        "                 error_bad_lines=False,\n",
        "                 )\n",
        "portugues.head()\n",
        "portugues['G3'] = np.where(portugues.G3 >= 12, 1, 0)\n",
        "portugues.head()"
      ],
      "metadata": {
        "id": "1S745EtnKd43",
        "colab": {
          "base_uri": "https://localhost:8080/",
          "height": 369
        },
        "outputId": "9123aafc-f6b3-48fc-ae97-1d805174989d"
      },
      "execution_count": null,
      "outputs": [
        {
          "output_type": "stream",
          "name": "stderr",
          "text": [
            "/usr/local/lib/python3.7/dist-packages/IPython/core/interactiveshell.py:3326: FutureWarning: The error_bad_lines argument has been deprecated and will be removed in a future version.\n",
            "\n",
            "\n",
            "  exec(code_obj, self.user_global_ns, self.user_ns)\n"
          ]
        },
        {
          "output_type": "execute_result",
          "data": {
            "text/plain": [
              "  school sex  age address famsize Pstatus  Medu  Fedu     Mjob      Fjob  ...  \\\n",
              "0     GP   F   18       U     GT3       A     4     4  at_home   teacher  ...   \n",
              "1     GP   F   17       U     GT3       T     1     1  at_home     other  ...   \n",
              "2     GP   F   15       U     LE3       T     1     1  at_home     other  ...   \n",
              "3     GP   F   15       U     GT3       T     4     2   health  services  ...   \n",
              "4     GP   F   16       U     GT3       T     3     3    other     other  ...   \n",
              "\n",
              "  famrel freetime  goout  Dalc  Walc health absences  G1  G2 G3  \n",
              "0      4        3      4     1     1      3        4   0  11  0  \n",
              "1      5        3      3     1     1      3        2   9  11  0  \n",
              "2      4        3      2     2     3      3        6  12  13  1  \n",
              "3      3        2      2     1     1      5        0  14  14  1  \n",
              "4      4        3      2     1     2      5        0  11  13  1  \n",
              "\n",
              "[5 rows x 33 columns]"
            ],
            "text/html": [
              "\n",
              "  <div id=\"df-eb974036-a0c1-4d48-90b0-7a3ef87b1b3e\">\n",
              "    <div class=\"colab-df-container\">\n",
              "      <div>\n",
              "<style scoped>\n",
              "    .dataframe tbody tr th:only-of-type {\n",
              "        vertical-align: middle;\n",
              "    }\n",
              "\n",
              "    .dataframe tbody tr th {\n",
              "        vertical-align: top;\n",
              "    }\n",
              "\n",
              "    .dataframe thead th {\n",
              "        text-align: right;\n",
              "    }\n",
              "</style>\n",
              "<table border=\"1\" class=\"dataframe\">\n",
              "  <thead>\n",
              "    <tr style=\"text-align: right;\">\n",
              "      <th></th>\n",
              "      <th>school</th>\n",
              "      <th>sex</th>\n",
              "      <th>age</th>\n",
              "      <th>address</th>\n",
              "      <th>famsize</th>\n",
              "      <th>Pstatus</th>\n",
              "      <th>Medu</th>\n",
              "      <th>Fedu</th>\n",
              "      <th>Mjob</th>\n",
              "      <th>Fjob</th>\n",
              "      <th>...</th>\n",
              "      <th>famrel</th>\n",
              "      <th>freetime</th>\n",
              "      <th>goout</th>\n",
              "      <th>Dalc</th>\n",
              "      <th>Walc</th>\n",
              "      <th>health</th>\n",
              "      <th>absences</th>\n",
              "      <th>G1</th>\n",
              "      <th>G2</th>\n",
              "      <th>G3</th>\n",
              "    </tr>\n",
              "  </thead>\n",
              "  <tbody>\n",
              "    <tr>\n",
              "      <th>0</th>\n",
              "      <td>GP</td>\n",
              "      <td>F</td>\n",
              "      <td>18</td>\n",
              "      <td>U</td>\n",
              "      <td>GT3</td>\n",
              "      <td>A</td>\n",
              "      <td>4</td>\n",
              "      <td>4</td>\n",
              "      <td>at_home</td>\n",
              "      <td>teacher</td>\n",
              "      <td>...</td>\n",
              "      <td>4</td>\n",
              "      <td>3</td>\n",
              "      <td>4</td>\n",
              "      <td>1</td>\n",
              "      <td>1</td>\n",
              "      <td>3</td>\n",
              "      <td>4</td>\n",
              "      <td>0</td>\n",
              "      <td>11</td>\n",
              "      <td>0</td>\n",
              "    </tr>\n",
              "    <tr>\n",
              "      <th>1</th>\n",
              "      <td>GP</td>\n",
              "      <td>F</td>\n",
              "      <td>17</td>\n",
              "      <td>U</td>\n",
              "      <td>GT3</td>\n",
              "      <td>T</td>\n",
              "      <td>1</td>\n",
              "      <td>1</td>\n",
              "      <td>at_home</td>\n",
              "      <td>other</td>\n",
              "      <td>...</td>\n",
              "      <td>5</td>\n",
              "      <td>3</td>\n",
              "      <td>3</td>\n",
              "      <td>1</td>\n",
              "      <td>1</td>\n",
              "      <td>3</td>\n",
              "      <td>2</td>\n",
              "      <td>9</td>\n",
              "      <td>11</td>\n",
              "      <td>0</td>\n",
              "    </tr>\n",
              "    <tr>\n",
              "      <th>2</th>\n",
              "      <td>GP</td>\n",
              "      <td>F</td>\n",
              "      <td>15</td>\n",
              "      <td>U</td>\n",
              "      <td>LE3</td>\n",
              "      <td>T</td>\n",
              "      <td>1</td>\n",
              "      <td>1</td>\n",
              "      <td>at_home</td>\n",
              "      <td>other</td>\n",
              "      <td>...</td>\n",
              "      <td>4</td>\n",
              "      <td>3</td>\n",
              "      <td>2</td>\n",
              "      <td>2</td>\n",
              "      <td>3</td>\n",
              "      <td>3</td>\n",
              "      <td>6</td>\n",
              "      <td>12</td>\n",
              "      <td>13</td>\n",
              "      <td>1</td>\n",
              "    </tr>\n",
              "    <tr>\n",
              "      <th>3</th>\n",
              "      <td>GP</td>\n",
              "      <td>F</td>\n",
              "      <td>15</td>\n",
              "      <td>U</td>\n",
              "      <td>GT3</td>\n",
              "      <td>T</td>\n",
              "      <td>4</td>\n",
              "      <td>2</td>\n",
              "      <td>health</td>\n",
              "      <td>services</td>\n",
              "      <td>...</td>\n",
              "      <td>3</td>\n",
              "      <td>2</td>\n",
              "      <td>2</td>\n",
              "      <td>1</td>\n",
              "      <td>1</td>\n",
              "      <td>5</td>\n",
              "      <td>0</td>\n",
              "      <td>14</td>\n",
              "      <td>14</td>\n",
              "      <td>1</td>\n",
              "    </tr>\n",
              "    <tr>\n",
              "      <th>4</th>\n",
              "      <td>GP</td>\n",
              "      <td>F</td>\n",
              "      <td>16</td>\n",
              "      <td>U</td>\n",
              "      <td>GT3</td>\n",
              "      <td>T</td>\n",
              "      <td>3</td>\n",
              "      <td>3</td>\n",
              "      <td>other</td>\n",
              "      <td>other</td>\n",
              "      <td>...</td>\n",
              "      <td>4</td>\n",
              "      <td>3</td>\n",
              "      <td>2</td>\n",
              "      <td>1</td>\n",
              "      <td>2</td>\n",
              "      <td>5</td>\n",
              "      <td>0</td>\n",
              "      <td>11</td>\n",
              "      <td>13</td>\n",
              "      <td>1</td>\n",
              "    </tr>\n",
              "  </tbody>\n",
              "</table>\n",
              "<p>5 rows × 33 columns</p>\n",
              "</div>\n",
              "      <button class=\"colab-df-convert\" onclick=\"convertToInteractive('df-eb974036-a0c1-4d48-90b0-7a3ef87b1b3e')\"\n",
              "              title=\"Convert this dataframe to an interactive table.\"\n",
              "              style=\"display:none;\">\n",
              "        \n",
              "  <svg xmlns=\"http://www.w3.org/2000/svg\" height=\"24px\"viewBox=\"0 0 24 24\"\n",
              "       width=\"24px\">\n",
              "    <path d=\"M0 0h24v24H0V0z\" fill=\"none\"/>\n",
              "    <path d=\"M18.56 5.44l.94 2.06.94-2.06 2.06-.94-2.06-.94-.94-2.06-.94 2.06-2.06.94zm-11 1L8.5 8.5l.94-2.06 2.06-.94-2.06-.94L8.5 2.5l-.94 2.06-2.06.94zm10 10l.94 2.06.94-2.06 2.06-.94-2.06-.94-.94-2.06-.94 2.06-2.06.94z\"/><path d=\"M17.41 7.96l-1.37-1.37c-.4-.4-.92-.59-1.43-.59-.52 0-1.04.2-1.43.59L10.3 9.45l-7.72 7.72c-.78.78-.78 2.05 0 2.83L4 21.41c.39.39.9.59 1.41.59.51 0 1.02-.2 1.41-.59l7.78-7.78 2.81-2.81c.8-.78.8-2.07 0-2.86zM5.41 20L4 18.59l7.72-7.72 1.47 1.35L5.41 20z\"/>\n",
              "  </svg>\n",
              "      </button>\n",
              "      \n",
              "  <style>\n",
              "    .colab-df-container {\n",
              "      display:flex;\n",
              "      flex-wrap:wrap;\n",
              "      gap: 12px;\n",
              "    }\n",
              "\n",
              "    .colab-df-convert {\n",
              "      background-color: #E8F0FE;\n",
              "      border: none;\n",
              "      border-radius: 50%;\n",
              "      cursor: pointer;\n",
              "      display: none;\n",
              "      fill: #1967D2;\n",
              "      height: 32px;\n",
              "      padding: 0 0 0 0;\n",
              "      width: 32px;\n",
              "    }\n",
              "\n",
              "    .colab-df-convert:hover {\n",
              "      background-color: #E2EBFA;\n",
              "      box-shadow: 0px 1px 2px rgba(60, 64, 67, 0.3), 0px 1px 3px 1px rgba(60, 64, 67, 0.15);\n",
              "      fill: #174EA6;\n",
              "    }\n",
              "\n",
              "    [theme=dark] .colab-df-convert {\n",
              "      background-color: #3B4455;\n",
              "      fill: #D2E3FC;\n",
              "    }\n",
              "\n",
              "    [theme=dark] .colab-df-convert:hover {\n",
              "      background-color: #434B5C;\n",
              "      box-shadow: 0px 1px 3px 1px rgba(0, 0, 0, 0.15);\n",
              "      filter: drop-shadow(0px 1px 2px rgba(0, 0, 0, 0.3));\n",
              "      fill: #FFFFFF;\n",
              "    }\n",
              "  </style>\n",
              "\n",
              "      <script>\n",
              "        const buttonEl =\n",
              "          document.querySelector('#df-eb974036-a0c1-4d48-90b0-7a3ef87b1b3e button.colab-df-convert');\n",
              "        buttonEl.style.display =\n",
              "          google.colab.kernel.accessAllowed ? 'block' : 'none';\n",
              "\n",
              "        async function convertToInteractive(key) {\n",
              "          const element = document.querySelector('#df-eb974036-a0c1-4d48-90b0-7a3ef87b1b3e');\n",
              "          const dataTable =\n",
              "            await google.colab.kernel.invokeFunction('convertToInteractive',\n",
              "                                                     [key], {});\n",
              "          if (!dataTable) return;\n",
              "\n",
              "          const docLinkHtml = 'Like what you see? Visit the ' +\n",
              "            '<a target=\"_blank\" href=https://colab.research.google.com/notebooks/data_table.ipynb>data table notebook</a>'\n",
              "            + ' to learn more about interactive tables.';\n",
              "          element.innerHTML = '';\n",
              "          dataTable['output_type'] = 'display_data';\n",
              "          await google.colab.output.renderOutput(dataTable, element);\n",
              "          const docLink = document.createElement('div');\n",
              "          docLink.innerHTML = docLinkHtml;\n",
              "          element.appendChild(docLink);\n",
              "        }\n",
              "      </script>\n",
              "    </div>\n",
              "  </div>\n",
              "  "
            ]
          },
          "metadata": {},
          "execution_count": 134
        }
      ]
    },
    {
      "cell_type": "markdown",
      "source": [
        "### 5.2  PREPROCESAMIENTO DE LA BASE DE DATOS"
      ],
      "metadata": {
        "id": "qpaUcnpemlc_"
      }
    },
    {
      "cell_type": "code",
      "source": [
        "print('portugues')\n",
        "print('Filas: ', portugues.shape[0])\n",
        "print('Columnas: ', portugues.shape[1])"
      ],
      "metadata": {
        "colab": {
          "base_uri": "https://localhost:8080/"
        },
        "id": "zUVlOVaF5Ply",
        "outputId": "65a2261f-dada-49b1-f58d-8ee5d23327f7"
      },
      "execution_count": null,
      "outputs": [
        {
          "output_type": "stream",
          "name": "stdout",
          "text": [
            "portugues\n",
            "Filas:  649\n",
            "Columnas:  33\n"
          ]
        }
      ]
    },
    {
      "cell_type": "code",
      "source": [
        "# Atributos y tipos de atributo\n",
        "portugues.dtypes"
      ],
      "metadata": {
        "colab": {
          "base_uri": "https://localhost:8080/"
        },
        "id": "DoI6hliLl5gm",
        "outputId": "16f24a7d-32c3-47a6-943e-e20f61102c2c"
      },
      "execution_count": null,
      "outputs": [
        {
          "output_type": "execute_result",
          "data": {
            "text/plain": [
              "school        object\n",
              "sex           object\n",
              "age            int64\n",
              "address       object\n",
              "famsize       object\n",
              "Pstatus       object\n",
              "Medu           int64\n",
              "Fedu           int64\n",
              "Mjob          object\n",
              "Fjob          object\n",
              "reason        object\n",
              "guardian      object\n",
              "traveltime     int64\n",
              "studytime      int64\n",
              "failures       int64\n",
              "schoolsup     object\n",
              "famsup        object\n",
              "paid          object\n",
              "activities    object\n",
              "nursery       object\n",
              "higher        object\n",
              "internet      object\n",
              "romantic      object\n",
              "famrel         int64\n",
              "freetime       int64\n",
              "goout          int64\n",
              "Dalc           int64\n",
              "Walc           int64\n",
              "health         int64\n",
              "absences       int64\n",
              "G1             int64\n",
              "G2             int64\n",
              "G3             int64\n",
              "dtype: object"
            ]
          },
          "metadata": {},
          "execution_count": 136
        }
      ]
    },
    {
      "cell_type": "code",
      "source": [
        "#DATOS FALTANTES\n",
        "portugues.isnull().sum()"
      ],
      "metadata": {
        "colab": {
          "base_uri": "https://localhost:8080/"
        },
        "id": "Wsb9P8XxmSrS",
        "outputId": "9e5ad669-66c8-40f2-975b-10a310184d68"
      },
      "execution_count": null,
      "outputs": [
        {
          "output_type": "execute_result",
          "data": {
            "text/plain": [
              "school        0\n",
              "sex           2\n",
              "age           0\n",
              "address       0\n",
              "famsize       2\n",
              "Pstatus       2\n",
              "Medu          0\n",
              "Fedu          0\n",
              "Mjob          0\n",
              "Fjob          1\n",
              "reason        0\n",
              "guardian      2\n",
              "traveltime    0\n",
              "studytime     0\n",
              "failures      0\n",
              "schoolsup     0\n",
              "famsup        2\n",
              "paid          0\n",
              "activities    0\n",
              "nursery       1\n",
              "higher        1\n",
              "internet      0\n",
              "romantic      0\n",
              "famrel        0\n",
              "freetime      0\n",
              "goout         0\n",
              "Dalc          0\n",
              "Walc          0\n",
              "health        0\n",
              "absences      0\n",
              "G1            0\n",
              "G2            0\n",
              "G3            0\n",
              "dtype: int64"
            ]
          },
          "metadata": {},
          "execution_count": 137
        }
      ]
    },
    {
      "cell_type": "code",
      "source": [
        "#ELIMINACIÓN DATOS FALTANTES\n",
        "portugues1 = portugues.dropna()\n",
        "portugues1.isnull().sum()\n",
        "portugues1.reset_index(inplace=True)\n"
      ],
      "metadata": {
        "id": "iEyX-j509-nq"
      },
      "execution_count": null,
      "outputs": []
    },
    {
      "cell_type": "code",
      "source": [
        "#DATOS DUPLICADOS\n",
        "portugues1.duplicated()\n",
        "\n"
      ],
      "metadata": {
        "colab": {
          "base_uri": "https://localhost:8080/"
        },
        "id": "iIHaCtIU4hMZ",
        "outputId": "702bc64e-407f-4e61-9d7f-4e96b6228186"
      },
      "execution_count": null,
      "outputs": [
        {
          "output_type": "execute_result",
          "data": {
            "text/plain": [
              "0      False\n",
              "1      False\n",
              "2      False\n",
              "3      False\n",
              "4      False\n",
              "       ...  \n",
              "631    False\n",
              "632    False\n",
              "633    False\n",
              "634    False\n",
              "635    False\n",
              "Length: 636, dtype: bool"
            ]
          },
          "metadata": {},
          "execution_count": 139
        }
      ]
    },
    {
      "cell_type": "code",
      "source": [
        "from sklearn import preprocessing\n",
        "\n",
        "x = portugues1[['age','absences']].values #returns a numpy array\n",
        "min_max_scaler = preprocessing.MinMaxScaler()\n",
        "x_scaled = min_max_scaler.fit_transform(x)\n",
        "portuguesnormal = pd.DataFrame(x_scaled, columns= ['aget','absencest'])\n",
        "portuguesnormal.shape[0]"
      ],
      "metadata": {
        "colab": {
          "base_uri": "https://localhost:8080/"
        },
        "id": "Unw-46RrDfGG",
        "outputId": "0abb1a0c-9c95-4dd2-c2a8-1ccb66935e33"
      },
      "execution_count": null,
      "outputs": [
        {
          "output_type": "execute_result",
          "data": {
            "text/plain": [
              "636"
            ]
          },
          "metadata": {},
          "execution_count": 140
        }
      ]
    },
    {
      "cell_type": "code",
      "source": [
        "df=pd.DataFrame(portugues1).join(portuguesnormal)\n",
        "print(df)\n"
      ],
      "metadata": {
        "colab": {
          "base_uri": "https://localhost:8080/"
        },
        "id": "fsc0e6VqIroT",
        "outputId": "d5e8beef-1b5e-441c-a9a2-3ff450838ea2"
      },
      "execution_count": null,
      "outputs": [
        {
          "output_type": "stream",
          "name": "stdout",
          "text": [
            "     index school sex  age address famsize Pstatus  Medu  Fedu      Mjob  ...  \\\n",
            "0        0     GP   F   18       U     GT3       A     4     4   at_home  ...   \n",
            "1        1     GP   F   17       U     GT3       T     1     1   at_home  ...   \n",
            "2        2     GP   F   15       U     LE3       T     1     1   at_home  ...   \n",
            "3        3     GP   F   15       U     GT3       T     4     2    health  ...   \n",
            "4        4     GP   F   16       U     GT3       T     3     3     other  ...   \n",
            "..     ...    ...  ..  ...     ...     ...     ...   ...   ...       ...  ...   \n",
            "631    644     MS   F   19       R     GT3       T     2     3  services  ...   \n",
            "632    645     MS   F   18       U     LE3       T     3     1   teacher  ...   \n",
            "633    646     MS   F   18       U     GT3       T     1     1     other  ...   \n",
            "634    647     MS   M   17       U     LE3       T     3     1  services  ...   \n",
            "635    648     MS   M   18       R     LE3       T     3     2  services  ...   \n",
            "\n",
            "    goout Dalc Walc  health  absences  G1  G2 G3      aget absencest  \n",
            "0       4    1    1       3         4   0  11  0  0.428571    0.1250  \n",
            "1       3    1    1       3         2   9  11  0  0.285714    0.0625  \n",
            "2       2    2    3       3         6  12  13  1  0.000000    0.1875  \n",
            "3       2    1    1       5         0  14  14  1  0.000000    0.0000  \n",
            "4       2    1    2       5         0  11  13  1  0.142857    0.0000  \n",
            "..    ...  ...  ...     ...       ...  ..  .. ..       ...       ...  \n",
            "631     2    1    2       5         4  10  11  0  0.571429    0.1250  \n",
            "632     4    1    1       1         4  15  15  1  0.428571    0.1250  \n",
            "633     1    1    1       5         6  11  12  0  0.428571    0.1875  \n",
            "634     5    3    4       2         6  10  10  0  0.285714    0.1875  \n",
            "635     1    3    4       5         4  10  11  0  0.428571    0.1250  \n",
            "\n",
            "[636 rows x 36 columns]\n"
          ]
        }
      ]
    },
    {
      "cell_type": "code",
      "source": [
        "#CONSISTENCIA\n",
        "portugues1['Pstatus'].value_counts()"
      ],
      "metadata": {
        "colab": {
          "base_uri": "https://localhost:8080/"
        },
        "id": "CIHNxdTIy0cY",
        "outputId": "66b56a03-de0a-440e-8203-99a7a3b124c4"
      },
      "execution_count": null,
      "outputs": [
        {
          "output_type": "execute_result",
          "data": {
            "text/plain": [
              "T    558\n",
              "A     77\n",
              "B      1\n",
              "Name: Pstatus, dtype: int64"
            ]
          },
          "metadata": {},
          "execution_count": 142
        }
      ]
    },
    {
      "cell_type": "code",
      "source": [
        "portugues1[portugues1.Pstatus == 'B']\n",
        "df1 = portugues1.drop([67],axis=0)\n",
        "df1['Pstatus'].value_counts()"
      ],
      "metadata": {
        "colab": {
          "base_uri": "https://localhost:8080/"
        },
        "id": "0zXbRCnCuH1n",
        "outputId": "54f779e8-0e07-4b59-e220-ee89eeb6b646"
      },
      "execution_count": null,
      "outputs": [
        {
          "output_type": "execute_result",
          "data": {
            "text/plain": [
              "T    558\n",
              "A     77\n",
              "Name: Pstatus, dtype: int64"
            ]
          },
          "metadata": {},
          "execution_count": 143
        }
      ]
    },
    {
      "cell_type": "code",
      "source": [
        "df1['activities'].value_counts()\n",
        "df1['activities']= df1['activities'].str.lower() \n",
        "df1['activities'].value_counts()"
      ],
      "metadata": {
        "colab": {
          "base_uri": "https://localhost:8080/"
        },
        "id": "gzS1FC8Vs1o6",
        "outputId": "4715f60f-7ff6-4152-f035-6f18d528474f"
      },
      "execution_count": null,
      "outputs": [
        {
          "output_type": "execute_result",
          "data": {
            "text/plain": [
              "no     325\n",
              "yes    310\n",
              "Name: activities, dtype: int64"
            ]
          },
          "metadata": {},
          "execution_count": 144
        }
      ]
    },
    {
      "cell_type": "code",
      "source": [
        "df1['nursery'].value_counts()\n",
        "df1['nursery']= df1['nursery'].str.lower() \n",
        "df1['nursery'].value_counts()"
      ],
      "metadata": {
        "colab": {
          "base_uri": "https://localhost:8080/"
        },
        "id": "plbZRwLqt2T2",
        "outputId": "8bf88675-6684-4d45-e229-ef311adcdea2"
      },
      "execution_count": null,
      "outputs": [
        {
          "output_type": "execute_result",
          "data": {
            "text/plain": [
              "yes    509\n",
              "no     126\n",
              "Name: nursery, dtype: int64"
            ]
          },
          "metadata": {},
          "execution_count": 145
        }
      ]
    },
    {
      "cell_type": "code",
      "source": [
        "df1['famsup'].value_counts\n",
        "df1['famsup']= df1['famsup'].str.lower() \n",
        "df1['famsup'].value_counts()"
      ],
      "metadata": {
        "colab": {
          "base_uri": "https://localhost:8080/"
        },
        "id": "eFbsDbGQuAAZ",
        "outputId": "b1bde193-5338-4e4a-82fd-58fe070b8d8d"
      },
      "execution_count": null,
      "outputs": [
        {
          "output_type": "execute_result",
          "data": {
            "text/plain": [
              "yes    391\n",
              "no     244\n",
              "Name: famsup, dtype: int64"
            ]
          },
          "metadata": {},
          "execution_count": 146
        }
      ]
    },
    {
      "cell_type": "code",
      "source": [
        "df1['romantic'].value_counts\n",
        "df1['romantic']= df1['romantic'].str.lower() \n",
        "df1['romantic'].value_counts()"
      ],
      "metadata": {
        "colab": {
          "base_uri": "https://localhost:8080/"
        },
        "outputId": "cba023cd-0aa4-4171-c462-1aa9336bd0bf",
        "id": "ARBvJa4Q33jx"
      },
      "execution_count": null,
      "outputs": [
        {
          "output_type": "execute_result",
          "data": {
            "text/plain": [
              "no     401\n",
              "yes    234\n",
              "Name: romantic, dtype: int64"
            ]
          },
          "metadata": {},
          "execution_count": 147
        }
      ]
    },
    {
      "cell_type": "code",
      "source": [
        "#VOLVER VARIABLES DUMMIES\n",
        "df1['romantic'] = df1['romantic'].map({'no':0, 'yes':1}).astype(np.int)\n",
        "df1['nursery'] = df1['nursery'].map({'no':0, 'yes':1}).astype(np.int)\n"
      ],
      "metadata": {
        "colab": {
          "base_uri": "https://localhost:8080/"
        },
        "id": "hZmzmoJsoC82",
        "outputId": "75c81f88-4291-4c15-f014-b3512f233ffb"
      },
      "execution_count": null,
      "outputs": [
        {
          "output_type": "stream",
          "name": "stderr",
          "text": [
            "/usr/local/lib/python3.7/dist-packages/ipykernel_launcher.py:2: DeprecationWarning: `np.int` is a deprecated alias for the builtin `int`. To silence this warning, use `int` by itself. Doing this will not modify any behavior and is safe. When replacing `np.int`, you may wish to use e.g. `np.int64` or `np.int32` to specify the precision. If you wish to review your current use, check the release note link for additional information.\n",
            "Deprecated in NumPy 1.20; for more details and guidance: https://numpy.org/devdocs/release/1.20.0-notes.html#deprecations\n",
            "  \n",
            "/usr/local/lib/python3.7/dist-packages/ipykernel_launcher.py:3: DeprecationWarning: `np.int` is a deprecated alias for the builtin `int`. To silence this warning, use `int` by itself. Doing this will not modify any behavior and is safe. When replacing `np.int`, you may wish to use e.g. `np.int64` or `np.int32` to specify the precision. If you wish to review your current use, check the release note link for additional information.\n",
            "Deprecated in NumPy 1.20; for more details and guidance: https://numpy.org/devdocs/release/1.20.0-notes.html#deprecations\n",
            "  This is separate from the ipykernel package so we can avoid doing imports until\n"
          ]
        }
      ]
    },
    {
      "cell_type": "code",
      "source": [
        "df1['activities'] = df1['activities'].map({'no':0, 'yes':1}).astype(np.int)\n"
      ],
      "metadata": {
        "colab": {
          "base_uri": "https://localhost:8080/"
        },
        "id": "SwtICByR5Nxt",
        "outputId": "b57e0f01-f37a-428b-e8a9-f15c4c7549b7"
      },
      "execution_count": null,
      "outputs": [
        {
          "output_type": "stream",
          "name": "stderr",
          "text": [
            "/usr/local/lib/python3.7/dist-packages/ipykernel_launcher.py:1: DeprecationWarning: `np.int` is a deprecated alias for the builtin `int`. To silence this warning, use `int` by itself. Doing this will not modify any behavior and is safe. When replacing `np.int`, you may wish to use e.g. `np.int64` or `np.int32` to specify the precision. If you wish to review your current use, check the release note link for additional information.\n",
            "Deprecated in NumPy 1.20; for more details and guidance: https://numpy.org/devdocs/release/1.20.0-notes.html#deprecations\n",
            "  \"\"\"Entry point for launching an IPython kernel.\n"
          ]
        }
      ]
    },
    {
      "cell_type": "code",
      "source": [
        "df1['famsup'] = df1['famsup'].map({'no':0, 'yes':1}).astype(np.int)\n"
      ],
      "metadata": {
        "colab": {
          "base_uri": "https://localhost:8080/"
        },
        "id": "2lwEzVK65Plm",
        "outputId": "92ad2e04-0589-425c-803b-10f2039ef1c5"
      },
      "execution_count": null,
      "outputs": [
        {
          "output_type": "stream",
          "name": "stderr",
          "text": [
            "/usr/local/lib/python3.7/dist-packages/ipykernel_launcher.py:1: DeprecationWarning: `np.int` is a deprecated alias for the builtin `int`. To silence this warning, use `int` by itself. Doing this will not modify any behavior and is safe. When replacing `np.int`, you may wish to use e.g. `np.int64` or `np.int32` to specify the precision. If you wish to review your current use, check the release note link for additional information.\n",
            "Deprecated in NumPy 1.20; for more details and guidance: https://numpy.org/devdocs/release/1.20.0-notes.html#deprecations\n",
            "  \"\"\"Entry point for launching an IPython kernel.\n"
          ]
        }
      ]
    },
    {
      "cell_type": "code",
      "source": [
        "df1['Pstatus'] = df1['Pstatus'].map({'A':0, 'T':1}).astype(np.int)"
      ],
      "metadata": {
        "colab": {
          "base_uri": "https://localhost:8080/"
        },
        "id": "EV7MVTDk5Rj7",
        "outputId": "af6fdaea-c1dc-4677-d415-9c2bc126cdbe"
      },
      "execution_count": null,
      "outputs": [
        {
          "output_type": "stream",
          "name": "stderr",
          "text": [
            "/usr/local/lib/python3.7/dist-packages/ipykernel_launcher.py:1: DeprecationWarning: `np.int` is a deprecated alias for the builtin `int`. To silence this warning, use `int` by itself. Doing this will not modify any behavior and is safe. When replacing `np.int`, you may wish to use e.g. `np.int64` or `np.int32` to specify the precision. If you wish to review your current use, check the release note link for additional information.\n",
            "Deprecated in NumPy 1.20; for more details and guidance: https://numpy.org/devdocs/release/1.20.0-notes.html#deprecations\n",
            "  \"\"\"Entry point for launching an IPython kernel.\n"
          ]
        }
      ]
    },
    {
      "cell_type": "code",
      "source": [
        "df1.describe"
      ],
      "metadata": {
        "id": "A5-D4-xOYyHp",
        "outputId": "91d9566a-17cb-4948-e86a-be2a9a443a16",
        "colab": {
          "base_uri": "https://localhost:8080/"
        }
      },
      "execution_count": null,
      "outputs": [
        {
          "output_type": "execute_result",
          "data": {
            "text/plain": [
              "<bound method NDFrame.describe of      index school sex  age address famsize  Pstatus  Medu  Fedu      Mjob  \\\n",
              "0        0     GP   F   18       U     GT3        0     4     4   at_home   \n",
              "1        1     GP   F   17       U     GT3        1     1     1   at_home   \n",
              "2        2     GP   F   15       U     LE3        1     1     1   at_home   \n",
              "3        3     GP   F   15       U     GT3        1     4     2    health   \n",
              "4        4     GP   F   16       U     GT3        1     3     3     other   \n",
              "..     ...    ...  ..  ...     ...     ...      ...   ...   ...       ...   \n",
              "631    644     MS   F   19       R     GT3        1     2     3  services   \n",
              "632    645     MS   F   18       U     LE3        1     3     1   teacher   \n",
              "633    646     MS   F   18       U     GT3        1     1     1     other   \n",
              "634    647     MS   M   17       U     LE3        1     3     1  services   \n",
              "635    648     MS   M   18       R     LE3        1     3     2  services   \n",
              "\n",
              "     ... famrel freetime goout  Dalc  Walc  health absences  G1  G2  G3  \n",
              "0    ...      4        3     4     1     1       3        4   0  11   0  \n",
              "1    ...      5        3     3     1     1       3        2   9  11   0  \n",
              "2    ...      4        3     2     2     3       3        6  12  13   1  \n",
              "3    ...      3        2     2     1     1       5        0  14  14   1  \n",
              "4    ...      4        3     2     1     2       5        0  11  13   1  \n",
              "..   ...    ...      ...   ...   ...   ...     ...      ...  ..  ..  ..  \n",
              "631  ...      5        4     2     1     2       5        4  10  11   0  \n",
              "632  ...      4        3     4     1     1       1        4  15  15   1  \n",
              "633  ...      1        1     1     1     1       5        6  11  12   0  \n",
              "634  ...      2        4     5     3     4       2        6  10  10   0  \n",
              "635  ...      4        4     1     3     4       5        4  10  11   0  \n",
              "\n",
              "[635 rows x 34 columns]>"
            ]
          },
          "metadata": {},
          "execution_count": 152
        }
      ]
    },
    {
      "cell_type": "markdown",
      "source": [
        "###5.3 ANÁLISIS EXPLORATORIO"
      ],
      "metadata": {
        "id": "zEKd6ArKcM4d"
      }
    },
    {
      "cell_type": "code",
      "source": [
        "# Heatmap matriz de correlaciones\n",
        "portugues1_int = portugues1[['age','absences','G1','G2']]\n",
        "cor =pd.DataFrame(round(portugues1_int.corr(),2))\n",
        "fig, ax = plt.subplots(nrows=1, ncols=1, figsize=(5, 5))\n",
        "\n",
        "sns.heatmap(\n",
        "    cor,\n",
        "    annot     = True,\n",
        "    cbar      = False,\n",
        "    annot_kws = {\"size\": 8},\n",
        "    vmin      = -1,\n",
        "    vmax      = 1,\n",
        "    center    = 0,\n",
        "    cmap      = sns.diverging_palette(20, 220, n=200),\n",
        "    square    = True,\n",
        "    ax        = ax\n",
        ")\n",
        "\n",
        "ax.set_xticklabels(\n",
        "    ax.get_xticklabels(),\n",
        "    rotation = 45,\n",
        "    horizontalalignment = 'right',\n",
        ")\n",
        "\n",
        "ax.tick_params(labelsize = 10)"
      ],
      "metadata": {
        "colab": {
          "base_uri": "https://localhost:8080/",
          "height": 350
        },
        "id": "t_EMCFvpo-ou",
        "outputId": "8e23d514-fcbd-43fb-a8bf-b0530184335b"
      },
      "execution_count": null,
      "outputs": [
        {
          "output_type": "display_data",
          "data": {
            "text/plain": [
              "<Figure size 360x360 with 1 Axes>"
            ],
            "image/png": "[encoded data removed]"
          },
          "metadata": {
            "needs_background": "light"
          }
        }
      ]
    },
    {
      "cell_type": "code",
      "source": [
        "tab1 = pd.crosstab(df1['G3'], df1['sex'])\n",
        "stats.chi2_contingency(tab1) #no es significativa al 5%"
      ],
      "metadata": {
        "colab": {
          "base_uri": "https://localhost:8080/"
        },
        "id": "1USMs5bn2tr3",
        "outputId": "50f982e7-aeac-43d9-875d-0adde9220fbd"
      },
      "execution_count": null,
      "outputs": [
        {
          "output_type": "execute_result",
          "data": {
            "text/plain": [
              "(10.985978660712199,\n",
              " 0.0009180379106236535,\n",
              " 1,\n",
              " array([[171.98110236, 120.01889764],\n",
              "        [202.01889764, 140.98110236]]))"
            ]
          },
          "metadata": {},
          "execution_count": 154
        }
      ]
    },
    {
      "cell_type": "code",
      "source": [
        "tab2 = pd.crosstab(df1['G3'], df1['school'])\n",
        "stats.chi2_contingency(tab2) #no es significativa al 5%"
      ],
      "metadata": {
        "colab": {
          "base_uri": "https://localhost:8080/"
        },
        "id": "HSz3o6Zy-S0V",
        "outputId": "c8697951-e344-4c4f-dc0c-787d3f941500"
      },
      "execution_count": null,
      "outputs": [
        {
          "output_type": "execute_result",
          "data": {
            "text/plain": [
              "(44.420860058373144,\n",
              " 2.6484994695237456e-11,\n",
              " 1,\n",
              " array([[189.45511811, 102.54488189],\n",
              "        [222.54488189, 120.45511811]]))"
            ]
          },
          "metadata": {},
          "execution_count": 155
        }
      ]
    },
    {
      "cell_type": "code",
      "source": [
        "tab3 = pd.crosstab(df1['G3'], df1['address'])\n",
        "stats.chi2_contingency(tab3) #no es significativa al 5%"
      ],
      "metadata": {
        "colab": {
          "base_uri": "https://localhost:8080/"
        },
        "id": "Dq5TQi7n-f2y",
        "outputId": "4bbbc616-e839-4385-ced5-93c82e9d1f71"
      },
      "execution_count": null,
      "outputs": [
        {
          "output_type": "execute_result",
          "data": {
            "text/plain": [
              "(19.12468103716061,\n",
              " 1.2245110997075645e-05,\n",
              " 1,\n",
              " array([[ 90.12913386, 201.87086614],\n",
              "        [105.87086614, 237.12913386]]))"
            ]
          },
          "metadata": {},
          "execution_count": 156
        }
      ]
    },
    {
      "cell_type": "code",
      "source": [
        "tab4 = pd.crosstab(df1['G3'], df1['Pstatus'])\n",
        "stats.chi2_contingency(tab4) #es significativa al 5%"
      ],
      "metadata": {
        "colab": {
          "base_uri": "https://localhost:8080/"
        },
        "id": "7yQBcYFg-xEc",
        "outputId": "c04eb731-99d5-4c62-e36a-bc3e15bbba24"
      },
      "execution_count": null,
      "outputs": [
        {
          "output_type": "execute_result",
          "data": {
            "text/plain": [
              "(0.0, 1.0, 1, array([[ 35.40787402, 256.59212598],\n",
              "        [ 41.59212598, 301.40787402]]))"
            ]
          },
          "metadata": {},
          "execution_count": 157
        }
      ]
    },
    {
      "cell_type": "code",
      "source": [
        "tab5 = pd.crosstab(df1['G3'], df1['Medu'])\n",
        "stats.chi2_contingency(tab5) #no es significativa al 5%"
      ],
      "metadata": {
        "colab": {
          "base_uri": "https://localhost:8080/"
        },
        "id": "xjjbEkTm-_0P",
        "outputId": "185e0ee9-fbab-4482-8137-6305b1da8091"
      },
      "execution_count": null,
      "outputs": [
        {
          "output_type": "execute_result",
          "data": {
            "text/plain": [
              "(45.80975319307317,\n",
              " 2.6978946787300584e-09,\n",
              " 4,\n",
              " array([[ 2.75905512, 64.83779528, 82.77165354, 62.9984252 , 78.63307087],\n",
              "        [ 3.24094488, 76.16220472, 97.22834646, 74.0015748 , 92.36692913]]))"
            ]
          },
          "metadata": {},
          "execution_count": 158
        }
      ]
    },
    {
      "cell_type": "code",
      "source": [
        "tab6 = pd.crosstab(df1['G3'], df1['famsize'])\n",
        "stats.chi2_contingency(tab6) #es significativa al 5%\n"
      ],
      "metadata": {
        "colab": {
          "base_uri": "https://localhost:8080/"
        },
        "id": "shySrV5R_RVn",
        "outputId": "8014f272-e0ee-4f89-d6c2-95e234af1cf8"
      },
      "execution_count": null,
      "outputs": [
        {
          "output_type": "execute_result",
          "data": {
            "text/plain": [
              "(0.0, 1.0, 1, array([[204.17007874,  87.82992126],\n",
              "        [239.82992126, 103.17007874]]))"
            ]
          },
          "metadata": {},
          "execution_count": 159
        }
      ]
    },
    {
      "cell_type": "code",
      "source": [
        "tab7 = pd.crosstab(df1['G3'], df1['Fedu'])\n",
        "stats.chi2_contingency(tab7) #no es significativa al 5%"
      ],
      "metadata": {
        "colab": {
          "base_uri": "https://localhost:8080/"
        },
        "id": "58CuOmkn_i-t",
        "outputId": "2222d8d0-6c1f-42f1-f241-5709b2d2877f"
      },
      "execution_count": null,
      "outputs": [
        {
          "output_type": "execute_result",
          "data": {
            "text/plain": [
              "(32.599437455555865,\n",
              " 1.4426505379914667e-06,\n",
              " 4,\n",
              " array([[  3.21889764,  78.17322835,  95.64724409,  57.02047244,\n",
              "          57.94015748],\n",
              "        [  3.78110236,  91.82677165, 112.35275591,  66.97952756,\n",
              "          68.05984252]]))"
            ]
          },
          "metadata": {},
          "execution_count": 160
        }
      ]
    },
    {
      "cell_type": "code",
      "source": [
        "tab8 = pd.crosstab(df1['G3'], df1['Mjob'])\n",
        "stats.chi2_contingency(tab8) #no es significativa al 5%\n"
      ],
      "metadata": {
        "colab": {
          "base_uri": "https://localhost:8080/"
        },
        "id": "_LC0xwzq_953",
        "outputId": "fde8cf0a-fb4e-4726-a391-42b71e58359e"
      },
      "execution_count": null,
      "outputs": [
        {
          "output_type": "execute_result",
          "data": {
            "text/plain": [
              "(37.23481420556089,\n",
              " 1.6114039824175854e-07,\n",
              " 4,\n",
              " array([[ 60.23937008,  22.07244094, 115.88031496,  60.6992126 ,\n",
              "          33.10866142],\n",
              "        [ 70.76062992,  25.92755906, 136.11968504,  71.3007874 ,\n",
              "          38.89133858]]))"
            ]
          },
          "metadata": {},
          "execution_count": 161
        }
      ]
    },
    {
      "cell_type": "code",
      "source": [
        "tab9 = pd.crosstab(df1['G3'], df1['Fjob'])\n",
        "stats.chi2_contingency(tab9) #no es significativa al 5%"
      ],
      "metadata": {
        "colab": {
          "base_uri": "https://localhost:8080/"
        },
        "id": "ocOT7CBc_cnX",
        "outputId": "5b2b9b38-bc10-4b5f-b3b5-9461fb471db7"
      },
      "execution_count": null,
      "outputs": [
        {
          "output_type": "execute_result",
          "data": {
            "text/plain": [
              "(14.345930831097627,\n",
              " 0.006269030204850641,\n",
              " 4,\n",
              " array([[ 18.39370079,  10.57637795, 165.54330709,  81.39212598,\n",
              "          16.09448819],\n",
              "        [ 21.60629921,  12.42362205, 194.45669291,  95.60787402,\n",
              "          18.90551181]]))"
            ]
          },
          "metadata": {},
          "execution_count": 162
        }
      ]
    },
    {
      "cell_type": "code",
      "source": [
        "tab10 = pd.crosstab(df1['G3'], df1['reason'])\n",
        "stats.chi2_contingency(tab10) #no es significativa al 5%"
      ],
      "metadata": {
        "colab": {
          "base_uri": "https://localhost:8080/"
        },
        "id": "L4qCllfQAoP2",
        "outputId": "c20053e7-7833-46a7-ede8-bff67035f974"
      },
      "execution_count": null,
      "outputs": [
        {
          "output_type": "execute_result",
          "data": {
            "text/plain": [
              "(24.23378402627251,\n",
              " 2.232417808384463e-05,\n",
              " 3,\n",
              " array([[126.91653543,  67.13700787,  32.6488189 ,  65.2976378 ],\n",
              "        [149.08346457,  78.86299213,  38.3511811 ,  76.7023622 ]]))"
            ]
          },
          "metadata": {},
          "execution_count": 163
        }
      ]
    },
    {
      "cell_type": "code",
      "source": [
        "tab11 = pd.crosstab(df1['G3'], df1['guardian'])\n",
        "stats.chi2_contingency(tab11) #es significativa al 5%"
      ],
      "metadata": {
        "colab": {
          "base_uri": "https://localhost:8080/"
        },
        "id": "AhvKiG-EA25y",
        "outputId": "81d8187c-79f7-4c30-c251-7a03e961ae29"
      },
      "execution_count": null,
      "outputs": [
        {
          "output_type": "execute_result",
          "data": {
            "text/plain": [
              "(6.037743727580771,\n",
              " 0.048856303849644823,\n",
              " 2,\n",
              " array([[ 68.97637795, 205.08976378,  17.93385827],\n",
              "        [ 81.02362205, 240.91023622,  21.06614173]]))"
            ]
          },
          "metadata": {},
          "execution_count": 164
        }
      ]
    },
    {
      "cell_type": "code",
      "source": [
        "tab12 = pd.crosstab(df1['G3'], df1['traveltime'])\n",
        "stats.chi2_contingency(tab12) #no es significativa al 5%"
      ],
      "metadata": {
        "colab": {
          "base_uri": "https://localhost:8080/"
        },
        "id": "Wru-4phIBOkt",
        "outputId": "ab008773-bdde-4c38-af8a-aa4818144781"
      },
      "execution_count": null,
      "outputs": [
        {
          "output_type": "execute_result",
          "data": {
            "text/plain": [
              "(23.462599970327144,\n",
              " 3.233994013301396e-05,\n",
              " 3,\n",
              " array([[164.16377953,  95.64724409,  24.83149606,   7.35748031],\n",
              "        [192.83622047, 112.35275591,  29.16850394,   8.64251969]]))"
            ]
          },
          "metadata": {},
          "execution_count": 165
        }
      ]
    },
    {
      "cell_type": "code",
      "source": [
        "tab13 = pd.crosstab(df1['G3'], df1['studytime'])\n",
        "stats.chi2_contingency(tab13) #no es significativa al 5%"
      ],
      "metadata": {
        "colab": {
          "base_uri": "https://localhost:8080/"
        },
        "id": "4aoBgiJ1BUjp",
        "outputId": "12691c30-8a27-438c-c0c9-a96cc4cfc268"
      },
      "execution_count": null,
      "outputs": [
        {
          "output_type": "execute_result",
          "data": {
            "text/plain": [
              "(46.19584776503614,\n",
              " 5.152926833825964e-10,\n",
              " 3,\n",
              " array([[ 95.64724409, 138.41259843,  42.30551181,  15.63464567],\n",
              "        [112.35275591, 162.58740157,  49.69448819,  18.36535433]]))"
            ]
          },
          "metadata": {},
          "execution_count": 166
        }
      ]
    },
    {
      "cell_type": "code",
      "source": [
        "tab14 = pd.crosstab(df1['G3'], df1['failures'])\n",
        "stats.chi2_contingency(tab14) #no es significativa al 5%"
      ],
      "metadata": {
        "colab": {
          "base_uri": "https://localhost:8080/"
        },
        "id": "KJncqLm6Cs1g",
        "outputId": "5b5f5043-b987-4297-ad11-416cca292e5a"
      },
      "execution_count": null,
      "outputs": [
        {
          "output_type": "execute_result",
          "data": {
            "text/plain": [
              "(105.921589505773,\n",
              " 8.277420035191331e-23,\n",
              " 3,\n",
              " array([[247.39527559,  30.80944882,   7.35748031,   6.43779528],\n",
              "        [290.60472441,  36.19055118,   8.64251969,   7.56220472]]))"
            ]
          },
          "metadata": {},
          "execution_count": 167
        }
      ]
    },
    {
      "cell_type": "code",
      "source": [
        "tab15 = pd.crosstab(df1['G3'], df1['schoolsup'])\n",
        "stats.chi2_contingency(tab15) #no es significativa al 5%"
      ],
      "metadata": {
        "colab": {
          "base_uri": "https://localhost:8080/"
        },
        "outputId": "e511a80e-e6ed-4b03-da2d-ade680cc190c",
        "id": "O9BjMm-vC-ez"
      },
      "execution_count": null,
      "outputs": [
        {
          "output_type": "execute_result",
          "data": {
            "text/plain": [
              "(3.8272041438246873,\n",
              " 0.28073765024829966,\n",
              " 3,\n",
              " array([[  0.45984252,   0.45984252, 262.11023622,  28.97007874],\n",
              "        [  0.54015748,   0.54015748, 307.88976378,  34.02992126]]))"
            ]
          },
          "metadata": {},
          "execution_count": 168
        }
      ]
    },
    {
      "cell_type": "code",
      "source": [
        "tab16 = pd.crosstab(df1['G3'], df1['famsup'])\n",
        "stats.chi2_contingency(tab16) #es significativa al 5%"
      ],
      "metadata": {
        "colab": {
          "base_uri": "https://localhost:8080/"
        },
        "outputId": "ad2d66ca-18dc-4a50-9c14-dd93c631f8a5",
        "id": "B6ncB7uDC-uW"
      },
      "execution_count": null,
      "outputs": [
        {
          "output_type": "execute_result",
          "data": {
            "text/plain": [
              "(0.14155928771053364, 0.706735763857929, 1, array([[112.2015748, 179.7984252],\n",
              "        [131.7984252, 211.2015748]]))"
            ]
          },
          "metadata": {},
          "execution_count": 169
        }
      ]
    },
    {
      "cell_type": "code",
      "source": [
        "tab17 = pd.crosstab(df1['G3'], df1['paid'])\n",
        "stats.chi2_contingency(tab17) #no es significativa al 5%"
      ],
      "metadata": {
        "colab": {
          "base_uri": "https://localhost:8080/"
        },
        "outputId": "c18c1645-e923-481a-de5e-0125266a6767",
        "id": "9xv22DyCC-6Y"
      },
      "execution_count": null,
      "outputs": [
        {
          "output_type": "execute_result",
          "data": {
            "text/plain": [
              "(0.044783156851163186,\n",
              " 0.9778572522689193,\n",
              " 2,\n",
              " array([[  0.91968504, 273.60629921,  17.47401575],\n",
              "        [  1.08031496, 321.39370079,  20.52598425]]))"
            ]
          },
          "metadata": {},
          "execution_count": 170
        }
      ]
    },
    {
      "cell_type": "code",
      "source": [
        "tab18 = pd.crosstab(df1['G3'], df1['activities'])\n",
        "stats.chi2_contingency(tab18) #es significativa al 5%"
      ],
      "metadata": {
        "colab": {
          "base_uri": "https://localhost:8080/"
        },
        "outputId": "1701b74a-69f7-4738-ee00-fd915e5b8b2d",
        "id": "MurqYXYNDeYt"
      },
      "execution_count": null,
      "outputs": [
        {
          "output_type": "execute_result",
          "data": {
            "text/plain": [
              "(9.209646496750416, 0.00240743175767072, 1, array([[149.4488189, 142.5511811],\n",
              "        [175.5511811, 167.4488189]]))"
            ]
          },
          "metadata": {},
          "execution_count": 171
        }
      ]
    },
    {
      "cell_type": "code",
      "source": [
        "tab19 = pd.crosstab(df1['G3'], df1['nursery'])\n",
        "stats.chi2_contingency(tab19) #es significativa al 5%"
      ],
      "metadata": {
        "colab": {
          "base_uri": "https://localhost:8080/"
        },
        "outputId": "8d4790ac-0eed-4597-e121-45028901791c",
        "id": "KhygeRSuDepA"
      },
      "execution_count": null,
      "outputs": [
        {
          "output_type": "execute_result",
          "data": {
            "text/plain": [
              "(2.278145061295673,\n",
              " 0.13120871709588203,\n",
              " 1,\n",
              " array([[ 57.94015748, 234.05984252],\n",
              "        [ 68.05984252, 274.94015748]]))"
            ]
          },
          "metadata": {},
          "execution_count": 172
        }
      ]
    },
    {
      "cell_type": "code",
      "source": [
        "tab20 = pd.crosstab(df1['G3'], df1['higher'])\n",
        "stats.chi2_contingency(tab20) #no es significativa al 5%"
      ],
      "metadata": {
        "colab": {
          "base_uri": "https://localhost:8080/"
        },
        "outputId": "da26004e-f1c6-4adb-c08e-00adc815a308",
        "id": "5Aazb1_dDeww"
      },
      "execution_count": null,
      "outputs": [
        {
          "output_type": "execute_result",
          "data": {
            "text/plain": [
              "(63.2747506277085,\n",
              " 1.7979426018480287e-15,\n",
              " 1,\n",
              " array([[ 30.80944882, 261.19055118],\n",
              "        [ 36.19055118, 306.80944882]]))"
            ]
          },
          "metadata": {},
          "execution_count": 173
        }
      ]
    },
    {
      "cell_type": "code",
      "source": [
        "tab21 = pd.crosstab(df1['G3'], df1['internet'])\n",
        "stats.chi2_contingency(tab21) #no es significativa al 5%"
      ],
      "metadata": {
        "colab": {
          "base_uri": "https://localhost:8080/"
        },
        "outputId": "e027862f-8b91-4328-e5b4-64460473c4d7",
        "id": "vRhsY0HvD5xJ"
      },
      "execution_count": null,
      "outputs": [
        {
          "output_type": "execute_result",
          "data": {
            "text/plain": [
              "(16.18043916943107,\n",
              " 0.000306522442099484,\n",
              " 2,\n",
              " array([[  0.45984252,  68.51653543, 223.02362205],\n",
              "        [  0.54015748,  80.48346457, 261.97637795]]))"
            ]
          },
          "metadata": {},
          "execution_count": 174
        }
      ]
    },
    {
      "cell_type": "code",
      "source": [
        "tab22 = pd.crosstab(df1['G3'], df1['romantic'])\n",
        "stats.chi2_contingency(tab22) #es significativa al 5%"
      ],
      "metadata": {
        "colab": {
          "base_uri": "https://localhost:8080/"
        },
        "outputId": "1586d950-e957-4fdb-c436-e47dec656d77",
        "id": "6Drmp6dFD54t"
      },
      "execution_count": null,
      "outputs": [
        {
          "output_type": "execute_result",
          "data": {
            "text/plain": [
              "(1.295942059818446, 0.2549557855699134, 1, array([[184.39685039, 107.60314961],\n",
              "        [216.60314961, 126.39685039]]))"
            ]
          },
          "metadata": {},
          "execution_count": 175
        }
      ]
    },
    {
      "cell_type": "code",
      "source": [
        "tab23 = pd.crosstab(df1['G3'], df1['famrel'])\n",
        "stats.chi2_contingency(tab23) #es significativa al 5%"
      ],
      "metadata": {
        "colab": {
          "base_uri": "https://localhost:8080/"
        },
        "outputId": "aa210e8c-c452-4757-bf6d-39f595a7c8ff",
        "id": "29Rg23_eD5_l"
      },
      "execution_count": null,
      "outputs": [
        {
          "output_type": "execute_result",
          "data": {
            "text/plain": [
              "(7.801327385533804,\n",
              " 0.09913298481139508,\n",
              " 4,\n",
              " array([[ 10.11653543,  12.87559055,  46.44409449, 142.5511811 ,\n",
              "          80.01259843],\n",
              "        [ 11.88346457,  15.12440945,  54.55590551, 167.4488189 ,\n",
              "          93.98740157]]))"
            ]
          },
          "metadata": {},
          "execution_count": 176
        }
      ]
    },
    {
      "cell_type": "code",
      "source": [
        "tab24 = pd.crosstab(df1['G3'], df1['freetime'])\n",
        "stats.chi2_contingency(tab24) #no es significativa al 5%"
      ],
      "metadata": {
        "colab": {
          "base_uri": "https://localhost:8080/"
        },
        "outputId": "70c20125-99c2-4b9d-a1b6-717732eaeb71",
        "id": "A5hDgAeeD6Gh"
      },
      "execution_count": null,
      "outputs": [
        {
          "output_type": "execute_result",
          "data": {
            "text/plain": [
              "(13.919823890431157,\n",
              " 0.007555390419835671,\n",
              " 4,\n",
              " array([[ 20.69291339,  46.44409449, 113.12125984,  80.47244094,\n",
              "          31.26929134],\n",
              "        [ 24.30708661,  54.55590551, 132.87874016,  94.52755906,\n",
              "          36.73070866]]))"
            ]
          },
          "metadata": {},
          "execution_count": 177
        }
      ]
    },
    {
      "cell_type": "code",
      "source": [
        "tab25 = pd.crosstab(df1['G3'], df1['goout'])\n",
        "stats.chi2_contingency(tab25) #es significativa al 5%"
      ],
      "metadata": {
        "colab": {
          "base_uri": "https://localhost:8080/"
        },
        "outputId": "4003dedf-275a-4963-fa2f-6670a64dd942",
        "id": "iN_CtQAaD6Nw"
      },
      "execution_count": null,
      "outputs": [
        {
          "output_type": "execute_result",
          "data": {
            "text/plain": [
              "(14.025571823451852,\n",
              " 0.007213886666033975,\n",
              " 4,\n",
              " array([[ 21.61259843,  65.75748031,  91.96850394,  62.53858268,\n",
              "          50.12283465],\n",
              "        [ 25.38740157,  77.24251969, 108.03149606,  73.46141732,\n",
              "          58.87716535]]))"
            ]
          },
          "metadata": {},
          "execution_count": 178
        }
      ]
    },
    {
      "cell_type": "code",
      "source": [
        "tab26 = pd.crosstab(df1['G3'], df1['Dalc'])\n",
        "stats.chi2_contingency(tab26) #no es significativa al 5%"
      ],
      "metadata": {
        "colab": {
          "base_uri": "https://localhost:8080/"
        },
        "outputId": "0941844a-bd23-4aa9-a63a-dfe4453163ca",
        "id": "Dp-wURR4D6i3"
      },
      "execution_count": null,
      "outputs": [
        {
          "output_type": "execute_result",
          "data": {
            "text/plain": [
              "(31.81683768579529,\n",
              " 2.0852804807429268e-06,\n",
              " 4,\n",
              " array([[201.87086614,  55.18110236,  19.31338583,   7.81732283,\n",
              "           7.81732283],\n",
              "        [237.12913386,  64.81889764,  22.68661417,   9.18267717,\n",
              "           9.18267717]]))"
            ]
          },
          "metadata": {},
          "execution_count": 179
        }
      ]
    },
    {
      "cell_type": "code",
      "source": [
        "tab27 = pd.crosstab(df1['G3'], df1['Walc'])\n",
        "stats.chi2_contingency(tab27) #no es significativa al 5%"
      ],
      "metadata": {
        "colab": {
          "base_uri": "https://localhost:8080/"
        },
        "outputId": "35bd0543-c79f-470c-e28a-b1b8ab747cd6",
        "id": "VQp4MgqnD6xc"
      },
      "execution_count": null,
      "outputs": [
        {
          "output_type": "execute_result",
          "data": {
            "text/plain": [
              "(25.188887466139075,\n",
              " 4.60960832852526e-05,\n",
              " 4,\n",
              " array([[110.36220472,  67.13700787,  54.72125984,  39.08661417,\n",
              "          20.69291339],\n",
              "        [129.63779528,  78.86299213,  64.27874016,  45.91338583,\n",
              "          24.30708661]]))"
            ]
          },
          "metadata": {},
          "execution_count": 180
        }
      ]
    },
    {
      "cell_type": "code",
      "source": [
        "tab28 = pd.crosstab(df1['G3'], df1['health'])\n",
        "stats.chi2_contingency(tab28) #no es significativa al 5%"
      ],
      "metadata": {
        "colab": {
          "base_uri": "https://localhost:8080/"
        },
        "id": "bihqO0uyFoDr",
        "outputId": "9ad3f17d-2b14-4edd-9980-d87da3409772"
      },
      "execution_count": null,
      "outputs": [
        {
          "output_type": "execute_result",
          "data": {
            "text/plain": [
              "(9.52284925169549,\n",
              " 0.04927985752739095,\n",
              " 4,\n",
              " array([[ 40.92598425,  34.9480315 ,  55.64094488,  48.28346457,\n",
              "         112.2015748 ],\n",
              "        [ 48.07401575,  41.0519685 ,  65.35905512,  56.71653543,\n",
              "         131.7984252 ]]))"
            ]
          },
          "metadata": {},
          "execution_count": 181
        }
      ]
    },
    {
      "cell_type": "code",
      "source": [
        "seaborn.boxplot(x='G3', y='age', data=df1)"
      ],
      "metadata": {
        "colab": {
          "base_uri": "https://localhost:8080/",
          "height": 296
        },
        "id": "QY3--oDfIfRZ",
        "outputId": "b09cfedf-e441-40f2-97c5-aba72389b9b0"
      },
      "execution_count": null,
      "outputs": [
        {
          "output_type": "execute_result",
          "data": {
            "text/plain": [
              "<matplotlib.axes._subplots.AxesSubplot at 0x7ff4ebc0e850>"
            ]
          },
          "metadata": {},
          "execution_count": 182
        },
        {
          "output_type": "display_data",
          "data": {
            "text/plain": [
              "<Figure size 432x288 with 1 Axes>"
            ],
            "image/png": "[encoded data removed]"
          },
          "metadata": {
            "needs_background": "light"
          }
        }
      ]
    },
    {
      "cell_type": "code",
      "source": [
        "seaborn.boxplot(x='G3', y='absences', data=df1)"
      ],
      "metadata": {
        "colab": {
          "base_uri": "https://localhost:8080/",
          "height": 296
        },
        "id": "_IFs_l55KWBs",
        "outputId": "bc0de3f9-f8a6-4992-9f33-f74d2499ea3a"
      },
      "execution_count": null,
      "outputs": [
        {
          "output_type": "execute_result",
          "data": {
            "text/plain": [
              "<matplotlib.axes._subplots.AxesSubplot at 0x7ff4ebef0cd0>"
            ]
          },
          "metadata": {},
          "execution_count": 183
        },
        {
          "output_type": "display_data",
          "data": {
            "text/plain": [
              "<Figure size 432x288 with 1 Axes>"
            ],
            "image/png": "[encoded data removed]"
          },
          "metadata": {
            "needs_background": "light"
          }
        }
      ]
    },
    {
      "cell_type": "markdown",
      "source": [
        "### 5.4 MODELAMIENTO DE LA VARIABLE RESPUESTA"
      ],
      "metadata": {
        "id": "FNMkOKxS6i7C"
      }
    },
    {
      "cell_type": "code",
      "source": [
        "df1[feature_cols].reset_index(drop=True)"
      ],
      "metadata": {
        "colab": {
          "base_uri": "https://localhost:8080/",
          "height": 424
        },
        "id": "in7iZ1z1jFfN",
        "outputId": "d029a1f0-cf9e-4246-a69a-f68c0694c844"
      },
      "execution_count": null,
      "outputs": [
        {
          "output_type": "execute_result",
          "data": {
            "text/plain": [
              "     romantic  Pstatus  nursery  famsup  activities\n",
              "0           0        0        1       0           0\n",
              "1           0        1        0       1           0\n",
              "2           0        1        1       0           0\n",
              "3           1        1        1       1           1\n",
              "4           0        1        1       1           0\n",
              "..        ...      ...      ...     ...         ...\n",
              "630         0        1        0       0           1\n",
              "631         0        1        1       1           0\n",
              "632         0        1        1       0           1\n",
              "633         0        1        0       0           0\n",
              "634         0        1        0       0           0\n",
              "\n",
              "[635 rows x 5 columns]"
            ],
            "text/html": [
              "\n",
              "  <div id=\"df-9288869f-6781-491b-82a8-faad065fa7f1\">\n",
              "    <div class=\"colab-df-container\">\n",
              "      <div>\n",
              "<style scoped>\n",
              "    .dataframe tbody tr th:only-of-type {\n",
              "        vertical-align: middle;\n",
              "    }\n",
              "\n",
              "    .dataframe tbody tr th {\n",
              "        vertical-align: top;\n",
              "    }\n",
              "\n",
              "    .dataframe thead th {\n",
              "        text-align: right;\n",
              "    }\n",
              "</style>\n",
              "<table border=\"1\" class=\"dataframe\">\n",
              "  <thead>\n",
              "    <tr style=\"text-align: right;\">\n",
              "      <th></th>\n",
              "      <th>romantic</th>\n",
              "      <th>Pstatus</th>\n",
              "      <th>nursery</th>\n",
              "      <th>famsup</th>\n",
              "      <th>activities</th>\n",
              "    </tr>\n",
              "  </thead>\n",
              "  <tbody>\n",
              "    <tr>\n",
              "      <th>0</th>\n",
              "      <td>0</td>\n",
              "      <td>0</td>\n",
              "      <td>1</td>\n",
              "      <td>0</td>\n",
              "      <td>0</td>\n",
              "    </tr>\n",
              "    <tr>\n",
              "      <th>1</th>\n",
              "      <td>0</td>\n",
              "      <td>1</td>\n",
              "      <td>0</td>\n",
              "      <td>1</td>\n",
              "      <td>0</td>\n",
              "    </tr>\n",
              "    <tr>\n",
              "      <th>2</th>\n",
              "      <td>0</td>\n",
              "      <td>1</td>\n",
              "      <td>1</td>\n",
              "      <td>0</td>\n",
              "      <td>0</td>\n",
              "    </tr>\n",
              "    <tr>\n",
              "      <th>3</th>\n",
              "      <td>1</td>\n",
              "      <td>1</td>\n",
              "      <td>1</td>\n",
              "      <td>1</td>\n",
              "      <td>1</td>\n",
              "    </tr>\n",
              "    <tr>\n",
              "      <th>4</th>\n",
              "      <td>0</td>\n",
              "      <td>1</td>\n",
              "      <td>1</td>\n",
              "      <td>1</td>\n",
              "      <td>0</td>\n",
              "    </tr>\n",
              "    <tr>\n",
              "      <th>...</th>\n",
              "      <td>...</td>\n",
              "      <td>...</td>\n",
              "      <td>...</td>\n",
              "      <td>...</td>\n",
              "      <td>...</td>\n",
              "    </tr>\n",
              "    <tr>\n",
              "      <th>630</th>\n",
              "      <td>0</td>\n",
              "      <td>1</td>\n",
              "      <td>0</td>\n",
              "      <td>0</td>\n",
              "      <td>1</td>\n",
              "    </tr>\n",
              "    <tr>\n",
              "      <th>631</th>\n",
              "      <td>0</td>\n",
              "      <td>1</td>\n",
              "      <td>1</td>\n",
              "      <td>1</td>\n",
              "      <td>0</td>\n",
              "    </tr>\n",
              "    <tr>\n",
              "      <th>632</th>\n",
              "      <td>0</td>\n",
              "      <td>1</td>\n",
              "      <td>1</td>\n",
              "      <td>0</td>\n",
              "      <td>1</td>\n",
              "    </tr>\n",
              "    <tr>\n",
              "      <th>633</th>\n",
              "      <td>0</td>\n",
              "      <td>1</td>\n",
              "      <td>0</td>\n",
              "      <td>0</td>\n",
              "      <td>0</td>\n",
              "    </tr>\n",
              "    <tr>\n",
              "      <th>634</th>\n",
              "      <td>0</td>\n",
              "      <td>1</td>\n",
              "      <td>0</td>\n",
              "      <td>0</td>\n",
              "      <td>0</td>\n",
              "    </tr>\n",
              "  </tbody>\n",
              "</table>\n",
              "<p>635 rows × 5 columns</p>\n",
              "</div>\n",
              "      <button class=\"colab-df-convert\" onclick=\"convertToInteractive('df-9288869f-6781-491b-82a8-faad065fa7f1')\"\n",
              "              title=\"Convert this dataframe to an interactive table.\"\n",
              "              style=\"display:none;\">\n",
              "        \n",
              "  <svg xmlns=\"http://www.w3.org/2000/svg\" height=\"24px\"viewBox=\"0 0 24 24\"\n",
              "       width=\"24px\">\n",
              "    <path d=\"M0 0h24v24H0V0z\" fill=\"none\"/>\n",
              "    <path d=\"M18.56 5.44l.94 2.06.94-2.06 2.06-.94-2.06-.94-.94-2.06-.94 2.06-2.06.94zm-11 1L8.5 8.5l.94-2.06 2.06-.94-2.06-.94L8.5 2.5l-.94 2.06-2.06.94zm10 10l.94 2.06.94-2.06 2.06-.94-2.06-.94-.94-2.06-.94 2.06-2.06.94z\"/><path d=\"M17.41 7.96l-1.37-1.37c-.4-.4-.92-.59-1.43-.59-.52 0-1.04.2-1.43.59L10.3 9.45l-7.72 7.72c-.78.78-.78 2.05 0 2.83L4 21.41c.39.39.9.59 1.41.59.51 0 1.02-.2 1.41-.59l7.78-7.78 2.81-2.81c.8-.78.8-2.07 0-2.86zM5.41 20L4 18.59l7.72-7.72 1.47 1.35L5.41 20z\"/>\n",
              "  </svg>\n",
              "      </button>\n",
              "      \n",
              "  <style>\n",
              "    .colab-df-container {\n",
              "      display:flex;\n",
              "      flex-wrap:wrap;\n",
              "      gap: 12px;\n",
              "    }\n",
              "\n",
              "    .colab-df-convert {\n",
              "      background-color: #E8F0FE;\n",
              "      border: none;\n",
              "      border-radius: 50%;\n",
              "      cursor: pointer;\n",
              "      display: none;\n",
              "      fill: #1967D2;\n",
              "      height: 32px;\n",
              "      padding: 0 0 0 0;\n",
              "      width: 32px;\n",
              "    }\n",
              "\n",
              "    .colab-df-convert:hover {\n",
              "      background-color: #E2EBFA;\n",
              "      box-shadow: 0px 1px 2px rgba(60, 64, 67, 0.3), 0px 1px 3px 1px rgba(60, 64, 67, 0.15);\n",
              "      fill: #174EA6;\n",
              "    }\n",
              "\n",
              "    [theme=dark] .colab-df-convert {\n",
              "      background-color: #3B4455;\n",
              "      fill: #D2E3FC;\n",
              "    }\n",
              "\n",
              "    [theme=dark] .colab-df-convert:hover {\n",
              "      background-color: #434B5C;\n",
              "      box-shadow: 0px 1px 3px 1px rgba(0, 0, 0, 0.15);\n",
              "      filter: drop-shadow(0px 1px 2px rgba(0, 0, 0, 0.3));\n",
              "      fill: #FFFFFF;\n",
              "    }\n",
              "  </style>\n",
              "\n",
              "      <script>\n",
              "        const buttonEl =\n",
              "          document.querySelector('#df-9288869f-6781-491b-82a8-faad065fa7f1 button.colab-df-convert');\n",
              "        buttonEl.style.display =\n",
              "          google.colab.kernel.accessAllowed ? 'block' : 'none';\n",
              "\n",
              "        async function convertToInteractive(key) {\n",
              "          const element = document.querySelector('#df-9288869f-6781-491b-82a8-faad065fa7f1');\n",
              "          const dataTable =\n",
              "            await google.colab.kernel.invokeFunction('convertToInteractive',\n",
              "                                                     [key], {});\n",
              "          if (!dataTable) return;\n",
              "\n",
              "          const docLinkHtml = 'Like what you see? Visit the ' +\n",
              "            '<a target=\"_blank\" href=https://colab.research.google.com/notebooks/data_table.ipynb>data table notebook</a>'\n",
              "            + ' to learn more about interactive tables.';\n",
              "          element.innerHTML = '';\n",
              "          dataTable['output_type'] = 'display_data';\n",
              "          await google.colab.output.renderOutput(dataTable, element);\n",
              "          const docLink = document.createElement('div');\n",
              "          docLink.innerHTML = docLinkHtml;\n",
              "          element.appendChild(docLink);\n",
              "        }\n",
              "      </script>\n",
              "    </div>\n",
              "  </div>\n",
              "  "
            ]
          },
          "metadata": {},
          "execution_count": 184
        }
      ]
    },
    {
      "cell_type": "code",
      "source": [
        "#PUNTO A\n",
        "from sklearn.linear_model import LogisticRegression\n",
        "feature_cols = ['romantic', 'Pstatus','nursery','famsup','activities']\n",
        "X = df1[feature_cols]\n",
        "y = df1['G3']\n",
        "logreg = LogisticRegression(C=0.001, penalty='l1',solver='liblinear')\n",
        "logreg.fit(X, y)\n",
        "yp = logreg.predict_proba(X)\n",
        "print('1. Exactitud con C = 0.0001 y liblinear:', metrics.log_loss(y, yp))\n",
        "logreg2 = LogisticRegression(C=0.5, penalty='l2',solver='newton-cg')\n",
        "logreg2.fit(X, y)\n",
        "yp2 = logreg2.predict_proba(X)\n",
        "print('2. Exactitud con C = 0.5 y newton-cg:', metrics.log_loss(y, yp2))\n",
        "logreg3 = LogisticRegression(C=1, penalty='none',solver='sag')\n",
        "logreg3.fit(X, y)\n",
        "yp3 = logreg3.predict_proba(X)\n",
        "print('3. Exactitud con C = 0.8 y sag:', metrics.log_loss(y, yp3))"
      ],
      "metadata": {
        "colab": {
          "base_uri": "https://localhost:8080/"
        },
        "id": "fyOQUey3lkdI",
        "outputId": "343e3a66-ad6b-4124-cf53-996839da0052"
      },
      "execution_count": null,
      "outputs": [
        {
          "output_type": "stream",
          "name": "stdout",
          "text": [
            "1. Exactitud con C = 0.0001 y liblinear: 0.6931471805599453\n",
            "2. Exactitud con C = 0.5 y newton-cg: 0.678806643333078\n",
            "3. Exactitud con C = 0.8 y sag: 0.6787705648151169\n"
          ]
        }
      ]
    },
    {
      "cell_type": "code",
      "source": [
        "#PUNTO A\n",
        "from sklearn.linear_model import LogisticRegression\n",
        "feature_cols = ['romantic', 'Pstatus','nursery','famsup','activities']\n",
        "X = df1[feature_cols]\n",
        "y = df1['G3']\n",
        "logreg = LogisticRegression(C=0.001,solver='liblinear', penalty='l1')\n",
        "logreg.fit(X, y)\n",
        "yp = logreg.predict(X)\n",
        "print('1. Exactitud con C = 0.0001, liblinear y por regresión lazzo:', metrics.recall_score(y, yp))\n",
        "print('1. Precision con C = 0.0001 y liblinear y por regresión lazzo:',metrics.precision_score(y, yp))\n",
        "logreg2 = LogisticRegression(C=0.5,solver='newton-cg',penalty='l2')\n",
        "logreg2.fit(X, y)\n",
        "yp2 = logreg2.predict(X)\n",
        "print('2. Exactitud con C = 0.5 y newton-cg y por regresión rigde:', metrics.recall_score(y, yp2))\n",
        "print('2. Precision con C = 0.5 y newton-cg y por regresión rigde:',metrics.precision_score(y, yp2))\n",
        "logreg3 = LogisticRegression(C=1,solver='sag',penalty='none')\n",
        "logreg3.fit(X, y)\n",
        "yp3 = logreg3.predict(X)\n",
        "print('3. Exactitud con C = 0.8 y sag:', metrics.recall_score(y, yp3))\n",
        "print('3. Precision con 0.8 y sag:', metrics.precision_score(y, yp3))\n"
      ],
      "metadata": {
        "id": "UCH6VVlA6s3g",
        "outputId": "2d58df39-267f-4b92-8784-f400a01a1d97",
        "colab": {
          "base_uri": "https://localhost:8080/"
        }
      },
      "execution_count": null,
      "outputs": [
        {
          "output_type": "stream",
          "name": "stdout",
          "text": [
            "1. Exactitud con C = 0.0001, liblinear y por regresión lazzo: 0.45984251968503936\n",
            "1. Precision con C = 0.0001 y liblinear y por regresión lazzo: 0.0\n",
            "2. Exactitud con C = 0.5 y newton-cg y por regresión rigde: 0.5559055118110237\n",
            "2. Precision con C = 0.5 y newton-cg y por regresión rigde: 0.5634095634095634\n",
            "3. Exactitud con C = 0.8 y sag: 0.552755905511811\n",
            "3. Precision con 0.8 y sag: 0.5621052631578948\n"
          ]
        },
        {
          "output_type": "stream",
          "name": "stderr",
          "text": [
            "/usr/local/lib/python3.7/dist-packages/sklearn/metrics/_classification.py:1318: UndefinedMetricWarning: Precision is ill-defined and being set to 0.0 due to no predicted samples. Use `zero_division` parameter to control this behavior.\n",
            "  _warn_prf(average, modifier, msg_start, len(result))\n"
          ]
        }
      ]
    },
    {
      "cell_type": "code",
      "source": [
        "#PUNTO B\n",
        "# Train-validation\n",
        "X_train, X_test, y_train, y_test = train_test_split(X, y, test_size=0.2, random_state=123)\n",
        "logreg4 = LogisticRegression(C=0.001,solver='liblinear', penalty='l1')\n",
        "logreg4.fit(X_train, y_train)\n",
        "yp4 = logreg4.predict(X_test)\n",
        "print('1. Exactitud con C = 0.0001, liblinear y por regresión lazzo:', metrics.recall_score(y_test, yp4))\n",
        "print('1. Precision con C = 0.0001, liblinear y por regresión lazzo:', metrics.precision_score(y_test, yp4))\n",
        "logreg5 = LogisticRegression(C=0.5,solver='newton-cg',penalty='l2')\n",
        "logreg5.fit(X_train, y_train)\n",
        "yp5 = logreg5.predict(X_test)\n",
        "print('2. Exactitud con C = 0.5 y newton-cg y por regresión rigde:', metrics.recall_score(y_test, yp5))\n",
        "print('2. Precision con C = 0.5 y newton-cg y por regresión rigde:', metrics.precision_score(y_test, yp5))\n",
        "logreg6 = LogisticRegression(C=1,solver='sag',penalty='none')\n",
        "logreg6.fit(X_train, y_train)\n",
        "yp6 = logreg6.predict(X_test)\n",
        "print('3. Exactitud con C = 0.8 y sag:', metrics.recall_score(y_test, yp6))\n",
        "print('3. Precision con C = 0.8 y sag:', metrics.precision_score(y_test, yp6))"
      ],
      "metadata": {
        "id": "bwS7FZrtBoDm",
        "colab": {
          "base_uri": "https://localhost:8080/"
        },
        "outputId": "c6f91e19-b819-493b-bb9d-abd0e7511ed1"
      },
      "execution_count": null,
      "outputs": [
        {
          "output_type": "stream",
          "name": "stdout",
          "text": [
            "1. Exactitud con C = 0.0001, liblinear y por regresión lazzo: 0.0\n",
            "1. Precision con C = 0.0001, liblinear y por regresión lazzo: 0.0\n",
            "2. Exactitud con C = 0.5 y newton-cg y por regresión rigde: 0.8055555555555556\n",
            "2. Precision con C = 0.5 y newton-cg y por regresión rigde: 0.5918367346938775\n",
            "3. Exactitud con C = 0.8 y sag: 0.8055555555555556\n",
            "3. Precision con C = 0.8 y sag: 0.5918367346938775\n"
          ]
        },
        {
          "output_type": "stream",
          "name": "stderr",
          "text": [
            "/usr/local/lib/python3.7/dist-packages/sklearn/metrics/_classification.py:1318: UndefinedMetricWarning: Precision is ill-defined and being set to 0.0 due to no predicted samples. Use `zero_division` parameter to control this behavior.\n",
            "  _warn_prf(average, modifier, msg_start, len(result))\n"
          ]
        }
      ]
    },
    {
      "cell_type": "code",
      "source": [
        "#PUNTO C\n",
        "#K fold cross entrenamiento k=2\n",
        "logreg7 = LogisticRegression()\n",
        "cv = KFold(n_splits=5, random_state= 123456789, shuffle=True)\n",
        "scores = cross_val_score(logreg7, X_train, y_train, scoring='precision', cv=cv, n_jobs=-1)# le paso mi modelo, mis x y y, toca meter que parametro quiero usar con el scorin\n",
        "logreg7.fit(X_train, y_train)\n",
        "y_predict = logreg7.predict(X_test)\n",
        "print('Precisión:', metrics.precision_score(y_test, y_predict))\n",
        "print('Recall:', metrics.recall_score(y_test, y_predict))\n",
        "logreg8 = LogisticRegression()\n",
        "cv1 = KFold(n_splits=10, random_state= 123456789, shuffle=True)\n",
        "scores = cross_val_score(logreg8, X_train, y_train, scoring='precision', cv=cv1, n_jobs=-1)# le paso mi modelo, mis x y y, toca meter que parametro quiero usar con el scorin\n",
        "logreg8.fit(X_train, y_train)\n",
        "y_predict8 = logreg8.predict(X_test)\n",
        "print('Precisión:', metrics.precision_score(y_test, y_predict8))\n",
        "print('Recall:', metrics.recall_score(y_test, y_predict8))"
      ],
      "metadata": {
        "id": "GrgM3x4XSUo9",
        "colab": {
          "base_uri": "https://localhost:8080/"
        },
        "outputId": "7e025522-df10-4f9a-9c07-89a7c4b9948c"
      },
      "execution_count": null,
      "outputs": [
        {
          "output_type": "stream",
          "name": "stdout",
          "text": [
            "Precisión: 0.5918367346938775\n",
            "Eficacia: 0.8055555555555556\n",
            "Precisión: 0.5918367346938775\n",
            "Eficacia: 0.8055555555555556\n"
          ]
        }
      ]
    },
    {
      "cell_type": "markdown",
      "source": [
        "# REFERENCIAS\n",
        "\n",
        "\n",
        "---\n",
        "\n",
        "\n",
        "\n",
        "https://realpython.com/logistic-regression-python/#logistic-regression-in-python-with-scikit-learn-example-1\n",
        "https://pandas.pydata.org/docs/reference/api/pandas.concat.html\n",
        "https://scikit-learn.org/stable/modules/generated/sklearn.linear_model.LogisticRegression.html\n",
        "\n",
        "\n"
      ],
      "metadata": {
        "id": "iC__YH0qOOjK"
      }
    }
  ]
}