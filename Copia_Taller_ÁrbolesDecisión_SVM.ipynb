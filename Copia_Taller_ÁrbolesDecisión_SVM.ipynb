{
  "nbformat": 4,
  "nbformat_minor": 0,
  "metadata": {
    "kernelspec": {
      "display_name": "Python 3",
      "language": "python",
      "name": "python3"
    },
    "language_info": {
      "codemirror_mode": {
        "name": "ipython",
        "version": 3
      },
      "file_extension": ".py",
      "mimetype": "text/x-python",
      "name": "python",
      "nbconvert_exporter": "python",
      "pygments_lexer": "ipython3",
      "version": "3.7.0"
    },
    "colab": {
      "provenance": [],
      "collapsed_sections": []
    }
  },
  "cells": [
    {
      "cell_type": "markdown",
      "source": [
        "# Árbol de decisión\n",
        "\n",
        "Según el siguiente árbol de decisión, analice y responda:\n",
        "\n",
        "![Obama-Clinton decision tree](https://github.com/justmarkham/DAT8/raw/226791169b1cc6df8e8845c12e34e748d5ffaa85/notebooks/images/obama_clinton_tree.jpg)"
      ],
      "metadata": {
        "id": "gqDPEMhZyKFy"
      }
    },
    {
      "cell_type": "markdown",
      "source": [
        "## 1.1 ¿Qué son las observaciones? ¿Cuántas observaciones hay?\n"
      ],
      "metadata": {
        "id": "3dk2ih2FyT8i"
      }
    },
    {
      "cell_type": "markdown",
      "source": [
        "Las observaciones en este arbol de decisión son los condados de Estados unidos excluyendo los condados de los estados Alaska, Hawaii, Kansas, Nebraska, New Mexico, North Dakota, Texas por ende son solo 2.241 condados."
      ],
      "metadata": {
        "id": "L0-G6k0f1rBw"
      }
    },
    {
      "cell_type": "markdown",
      "source": [
        "## 1.2 ¿Cuál es la variable de respuesta?\n"
      ],
      "metadata": {
        "id": "bl0Y4beuyaie"
      }
    },
    {
      "cell_type": "markdown",
      "source": [
        "Según el arbol de decisión, la variable respuesta es quien va a ganar las elecciones : Obama o Clinton"
      ],
      "metadata": {
        "id": "SGhpIhmDy4eS"
      }
    },
    {
      "cell_type": "markdown",
      "source": [
        "## 1.3 ¿Cuáles son las características?¿Cuál es la característica más predictiva?\n"
      ],
      "metadata": {
        "id": "eZD45NjhydqE"
      }
    },
    {
      "cell_type": "markdown",
      "source": [
        "La característica más predictiva es si el condado tiene más del 20% población negra, otras características son :\n",
        "\n",
        "\n",
        "1.   Si la tasa de graduación de la escuela secundaria es superior al 78%\n",
        "2.   Si la tasa de graduación de la escuela secundaria es superior al 87%\n",
        "3.   Donde esta ubicado el condado, si en el noroeste - sur o en el oeste - medio oeste \n",
        "4.   Porcentaje de hogares pobres en el año 2000\n",
        "5.   La densidad de la población\n",
        "6.   Si en las votaciones del 2004 en ese condado gano Bush o Kerry Badly\n",
        "\n"
      ],
      "metadata": {
        "id": "lnLygKaty48_"
      }
    },
    {
      "cell_type": "markdown",
      "source": [
        "## 1.4 ¿Cuál es la predicción de clase para el siguiente condado con los siguientes datos: 15% de afroamericanos, 90% de tasa de graduación en la escuela secundaria, ubicado en el Sur, alta pobreza, alta densidad de población?\n"
      ],
      "metadata": {
        "id": "XdVVxJvTymo1"
      }
    },
    {
      "cell_type": "markdown",
      "source": [
        "La predicción de clase para dicho condado es que gana Omaba 185 a 36."
      ],
      "metadata": {
        "id": "VrCCs9WRy5pM"
      }
    },
    {
      "cell_type": "markdown",
      "source": [
        "## 1.5 ¿Cuál es el chance predicha para ese mismo condado anteriormente descrito?"
      ],
      "metadata": {
        "id": "a3U8yhpFyoXH"
      }
    },
    {
      "cell_type": "markdown",
      "source": [
        "Dado que el chance o el odds es la razón entre un resultado y todos los demás resultados, para dicho condado es 5.1 más probable que gane Obama en vez de Clinton."
      ],
      "metadata": {
        "id": "DH6TO61ky6SL"
      }
    },
    {
      "cell_type": "markdown",
      "metadata": {
        "id": "goh8XqyWQwHS"
      },
      "source": [
        "## SVM\n",
        "\n",
        "\n",
        "Para esta tarea consideramos un conjunto de observaciones sobre una serie de variedades de vino tinto y blanco que implican sus propiedades químicas y su clasificación por parte de los catadores. La industria del vino ha experimentado un gran crecimiento en los últimos tiempos debido al aumento del consumo social. El precio del vino depende de un concepto bastante abstracto de apreciación del vino por parte de los catadores, cuya opinión puede tener un alto grado de variabilidad. El precio del vino depende en cierta medida de este factor tan volátil. Otro factor clave en la certificación y evaluación de la calidad del vino son las pruebas fisicoquímicas, que se realizan en laboratorio y tienen en cuenta factores como la acidez, el nivel de pH, la presencia de azúcar y otras propiedades químicas. Para el mercado del vino, sería interesante que la calidad humana de la cata pudiera relacionarse con las propiedades químicas del vino para que el proceso de certificación y evaluación de la calidad estuviera más controlado.\n",
        "\n",
        "Se dispone de dos conjuntos de datos, uno de los cuales se refiere al vino tinto y cuenta con 1.599 variedades diferentes, y el otro, al vino blanco, con 4.898 variedades. Todos los vinos se producen en una zona concreta de Portugal. Se recogen datos sobre 12 propiedades diferentes de los vinos, una de las cuales es la calidad, basada en datos sensoriales, y el resto son propiedades químicas de los vinos, como la densidad, la acidez, el contenido de alcohol, etc. Todas las propiedades químicas de los vinos son variables continuas. La calidad es una variable ordinal con una clasificación posible de 1 (peor) a 10 (mejor). Cada variedad de vino es catada por tres catadores independientes y la clasificación final asignada es la mediana de la clasificación dada por los catadores.\n",
        "\n",
        "Se espera que un modelo predictivo desarrollado a partir de estos datos sirva de orientación a los viñedos en cuanto a la calidad y el precio que se espera obtener de sus productos sin depender en gran medida de la volatilidad de los catadores.\n"
      ]
    },
    {
      "cell_type": "code",
      "metadata": {
        "id": "m4dAFqRiQwHd"
      },
      "source": [
        "import pandas as pd\n",
        "import numpy as np"
      ],
      "execution_count": null,
      "outputs": []
    },
    {
      "cell_type": "code",
      "metadata": {
        "id": "j0S8ZSeuQwHh"
      },
      "source": [
        "data_r = pd.read_csv('https://raw.githubusercontent.com/prof-tatiana-gutierrez/DatosMD/master/Wine_data_red.csv')\n",
        "data_w = pd.read_csv('https://raw.githubusercontent.com/prof-tatiana-gutierrez/DatosMD/master/Wine_data_white.csv')"
      ],
      "execution_count": null,
      "outputs": []
    },
    {
      "cell_type": "code",
      "metadata": {
        "colab": {
          "base_uri": "https://localhost:8080/",
          "height": 206
        },
        "id": "zL6G49RMQwHl",
        "outputId": "7ea54111-4004-48f4-fa70-0fa580e52a86"
      },
      "source": [
        "data = data_w.assign(type = 'white')\n",
        "\n",
        "data = data.append(data_r.assign(type = 'red'), ignore_index=True)\n",
        "data.sample(5)"
      ],
      "execution_count": null,
      "outputs": [
        {
          "output_type": "execute_result",
          "data": {
            "text/plain": [
              "      fixed acidity  volatile acidity  citric acid  residual sugar  chlorides  \\\n",
              "2174            7.4              0.19         0.30           12.80      0.053   \n",
              "1391            6.2              0.16         0.47            1.40      0.029   \n",
              "786             7.7              0.34         0.28           11.00      0.040   \n",
              "2625            4.5              0.19         0.21            0.95      0.033   \n",
              "3175            7.8              0.21         0.34           11.90      0.039   \n",
              "\n",
              "      free sulfur dioxide  total sulfur dioxide  density    pH  sulphates  \\\n",
              "2174                 48.5                 229.0  0.99860  3.14       0.49   \n",
              "1391                 23.0                  81.0  0.99000  3.26       0.42   \n",
              "786                  31.0                 117.0  0.99815  3.27       0.29   \n",
              "2625                 89.0                 159.0  0.99332  3.34       0.42   \n",
              "3175                 55.0                 140.0  0.99590  3.02       0.31   \n",
              "\n",
              "      alcohol  quality   type  \n",
              "2174      9.1        7  white  \n",
              "1391     12.2        6  white  \n",
              "786       9.2        6  white  \n",
              "2625      8.0        5  white  \n",
              "3175     10.3        6  white  "
            ],
            "text/html": [
              "\n",
              "  <div id=\"df-6251bf34-563f-4198-b7df-a2c06eaf1479\">\n",
              "    <div class=\"colab-df-container\">\n",
              "      <div>\n",
              "<style scoped>\n",
              "    .dataframe tbody tr th:only-of-type {\n",
              "        vertical-align: middle;\n",
              "    }\n",
              "\n",
              "    .dataframe tbody tr th {\n",
              "        vertical-align: top;\n",
              "    }\n",
              "\n",
              "    .dataframe thead th {\n",
              "        text-align: right;\n",
              "    }\n",
              "</style>\n",
              "<table border=\"1\" class=\"dataframe\">\n",
              "  <thead>\n",
              "    <tr style=\"text-align: right;\">\n",
              "      <th></th>\n",
              "      <th>fixed acidity</th>\n",
              "      <th>volatile acidity</th>\n",
              "      <th>citric acid</th>\n",
              "      <th>residual sugar</th>\n",
              "      <th>chlorides</th>\n",
              "      <th>free sulfur dioxide</th>\n",
              "      <th>total sulfur dioxide</th>\n",
              "      <th>density</th>\n",
              "      <th>pH</th>\n",
              "      <th>sulphates</th>\n",
              "      <th>alcohol</th>\n",
              "      <th>quality</th>\n",
              "      <th>type</th>\n",
              "    </tr>\n",
              "  </thead>\n",
              "  <tbody>\n",
              "    <tr>\n",
              "      <th>2174</th>\n",
              "      <td>7.4</td>\n",
              "      <td>0.19</td>\n",
              "      <td>0.30</td>\n",
              "      <td>12.80</td>\n",
              "      <td>0.053</td>\n",
              "      <td>48.5</td>\n",
              "      <td>229.0</td>\n",
              "      <td>0.99860</td>\n",
              "      <td>3.14</td>\n",
              "      <td>0.49</td>\n",
              "      <td>9.1</td>\n",
              "      <td>7</td>\n",
              "      <td>white</td>\n",
              "    </tr>\n",
              "    <tr>\n",
              "      <th>1391</th>\n",
              "      <td>6.2</td>\n",
              "      <td>0.16</td>\n",
              "      <td>0.47</td>\n",
              "      <td>1.40</td>\n",
              "      <td>0.029</td>\n",
              "      <td>23.0</td>\n",
              "      <td>81.0</td>\n",
              "      <td>0.99000</td>\n",
              "      <td>3.26</td>\n",
              "      <td>0.42</td>\n",
              "      <td>12.2</td>\n",
              "      <td>6</td>\n",
              "      <td>white</td>\n",
              "    </tr>\n",
              "    <tr>\n",
              "      <th>786</th>\n",
              "      <td>7.7</td>\n",
              "      <td>0.34</td>\n",
              "      <td>0.28</td>\n",
              "      <td>11.00</td>\n",
              "      <td>0.040</td>\n",
              "      <td>31.0</td>\n",
              "      <td>117.0</td>\n",
              "      <td>0.99815</td>\n",
              "      <td>3.27</td>\n",
              "      <td>0.29</td>\n",
              "      <td>9.2</td>\n",
              "      <td>6</td>\n",
              "      <td>white</td>\n",
              "    </tr>\n",
              "    <tr>\n",
              "      <th>2625</th>\n",
              "      <td>4.5</td>\n",
              "      <td>0.19</td>\n",
              "      <td>0.21</td>\n",
              "      <td>0.95</td>\n",
              "      <td>0.033</td>\n",
              "      <td>89.0</td>\n",
              "      <td>159.0</td>\n",
              "      <td>0.99332</td>\n",
              "      <td>3.34</td>\n",
              "      <td>0.42</td>\n",
              "      <td>8.0</td>\n",
              "      <td>5</td>\n",
              "      <td>white</td>\n",
              "    </tr>\n",
              "    <tr>\n",
              "      <th>3175</th>\n",
              "      <td>7.8</td>\n",
              "      <td>0.21</td>\n",
              "      <td>0.34</td>\n",
              "      <td>11.90</td>\n",
              "      <td>0.039</td>\n",
              "      <td>55.0</td>\n",
              "      <td>140.0</td>\n",
              "      <td>0.99590</td>\n",
              "      <td>3.02</td>\n",
              "      <td>0.31</td>\n",
              "      <td>10.3</td>\n",
              "      <td>6</td>\n",
              "      <td>white</td>\n",
              "    </tr>\n",
              "  </tbody>\n",
              "</table>\n",
              "</div>\n",
              "      <button class=\"colab-df-convert\" onclick=\"convertToInteractive('df-6251bf34-563f-4198-b7df-a2c06eaf1479')\"\n",
              "              title=\"Convert this dataframe to an interactive table.\"\n",
              "              style=\"display:none;\">\n",
              "        \n",
              "  <svg xmlns=\"http://www.w3.org/2000/svg\" height=\"24px\"viewBox=\"0 0 24 24\"\n",
              "       width=\"24px\">\n",
              "    <path d=\"M0 0h24v24H0V0z\" fill=\"none\"/>\n",
              "    <path d=\"M18.56 5.44l.94 2.06.94-2.06 2.06-.94-2.06-.94-.94-2.06-.94 2.06-2.06.94zm-11 1L8.5 8.5l.94-2.06 2.06-.94-2.06-.94L8.5 2.5l-.94 2.06-2.06.94zm10 10l.94 2.06.94-2.06 2.06-.94-2.06-.94-.94-2.06-.94 2.06-2.06.94z\"/><path d=\"M17.41 7.96l-1.37-1.37c-.4-.4-.92-.59-1.43-.59-.52 0-1.04.2-1.43.59L10.3 9.45l-7.72 7.72c-.78.78-.78 2.05 0 2.83L4 21.41c.39.39.9.59 1.41.59.51 0 1.02-.2 1.41-.59l7.78-7.78 2.81-2.81c.8-.78.8-2.07 0-2.86zM5.41 20L4 18.59l7.72-7.72 1.47 1.35L5.41 20z\"/>\n",
              "  </svg>\n",
              "      </button>\n",
              "      \n",
              "  <style>\n",
              "    .colab-df-container {\n",
              "      display:flex;\n",
              "      flex-wrap:wrap;\n",
              "      gap: 12px;\n",
              "    }\n",
              "\n",
              "    .colab-df-convert {\n",
              "      background-color: #E8F0FE;\n",
              "      border: none;\n",
              "      border-radius: 50%;\n",
              "      cursor: pointer;\n",
              "      display: none;\n",
              "      fill: #1967D2;\n",
              "      height: 32px;\n",
              "      padding: 0 0 0 0;\n",
              "      width: 32px;\n",
              "    }\n",
              "\n",
              "    .colab-df-convert:hover {\n",
              "      background-color: #E2EBFA;\n",
              "      box-shadow: 0px 1px 2px rgba(60, 64, 67, 0.3), 0px 1px 3px 1px rgba(60, 64, 67, 0.15);\n",
              "      fill: #174EA6;\n",
              "    }\n",
              "\n",
              "    [theme=dark] .colab-df-convert {\n",
              "      background-color: #3B4455;\n",
              "      fill: #D2E3FC;\n",
              "    }\n",
              "\n",
              "    [theme=dark] .colab-df-convert:hover {\n",
              "      background-color: #434B5C;\n",
              "      box-shadow: 0px 1px 3px 1px rgba(0, 0, 0, 0.15);\n",
              "      filter: drop-shadow(0px 1px 2px rgba(0, 0, 0, 0.3));\n",
              "      fill: #FFFFFF;\n",
              "    }\n",
              "  </style>\n",
              "\n",
              "      <script>\n",
              "        const buttonEl =\n",
              "          document.querySelector('#df-6251bf34-563f-4198-b7df-a2c06eaf1479 button.colab-df-convert');\n",
              "        buttonEl.style.display =\n",
              "          google.colab.kernel.accessAllowed ? 'block' : 'none';\n",
              "\n",
              "        async function convertToInteractive(key) {\n",
              "          const element = document.querySelector('#df-6251bf34-563f-4198-b7df-a2c06eaf1479');\n",
              "          const dataTable =\n",
              "            await google.colab.kernel.invokeFunction('convertToInteractive',\n",
              "                                                     [key], {});\n",
              "          if (!dataTable) return;\n",
              "\n",
              "          const docLinkHtml = 'Like what you see? Visit the ' +\n",
              "            '<a target=\"_blank\" href=https://colab.research.google.com/notebooks/data_table.ipynb>data table notebook</a>'\n",
              "            + ' to learn more about interactive tables.';\n",
              "          element.innerHTML = '';\n",
              "          dataTable['output_type'] = 'display_data';\n",
              "          await google.colab.output.renderOutput(dataTable, element);\n",
              "          const docLink = document.createElement('div');\n",
              "          docLink.innerHTML = docLinkHtml;\n",
              "          element.appendChild(docLink);\n",
              "        }\n",
              "      </script>\n",
              "    </div>\n",
              "  </div>\n",
              "  "
            ]
          },
          "metadata": {},
          "execution_count": 3
        }
      ]
    },
    {
      "cell_type": "code",
      "metadata": {
        "colab": {
          "base_uri": "https://localhost:8080/"
        },
        "id": "v4tG3aszSHwx",
        "outputId": "8c3bf65a-362b-43c4-bf75-d422a110baed"
      },
      "source": [
        "data.quality.value_counts()"
      ],
      "execution_count": null,
      "outputs": [
        {
          "output_type": "execute_result",
          "data": {
            "text/plain": [
              "6    2836\n",
              "5    2138\n",
              "7    1079\n",
              "4     216\n",
              "8     193\n",
              "3      30\n",
              "9       5\n",
              "Name: quality, dtype: int64"
            ]
          },
          "metadata": {},
          "execution_count": 4
        }
      ]
    },
    {
      "cell_type": "code",
      "metadata": {
        "colab": {
          "base_uri": "https://localhost:8080/"
        },
        "id": "Aulg4Pz5SIDO",
        "outputId": "892b55ba-c650-462a-bd05-c993f33c9754"
      },
      "source": [
        "data.type.value_counts()"
      ],
      "execution_count": null,
      "outputs": [
        {
          "output_type": "execute_result",
          "data": {
            "text/plain": [
              "white    4898\n",
              "red      1599\n",
              "Name: type, dtype: int64"
            ]
          },
          "metadata": {},
          "execution_count": 5
        }
      ]
    },
    {
      "cell_type": "markdown",
      "metadata": {
        "id": "ijwzlA_FQwHq"
      },
      "source": [
        "# Ejercicio 2.1\n",
        "\n",
        "Mostrar la tabla de frecuencias de la calidad por tipo de vino."
      ]
    },
    {
      "cell_type": "code",
      "metadata": {
        "id": "4s07Ier6QwHs",
        "colab": {
          "base_uri": "https://localhost:8080/",
          "height": 300
        },
        "outputId": "df6affc4-8c15-4c61-b563-0cc679f6a9aa"
      },
      "source": [
        "tab1 = pd.crosstab(data['quality'], data['type'])\n",
        "tab1"
      ],
      "execution_count": null,
      "outputs": [
        {
          "output_type": "execute_result",
          "data": {
            "text/plain": [
              "type     red  white\n",
              "quality            \n",
              "3         10     20\n",
              "4         53    163\n",
              "5        681   1457\n",
              "6        638   2198\n",
              "7        199    880\n",
              "8         18    175\n",
              "9          0      5"
            ],
            "text/html": [
              "\n",
              "  <div id=\"df-cd76fdb3-63e4-46fd-989f-06ea98a22d59\">\n",
              "    <div class=\"colab-df-container\">\n",
              "      <div>\n",
              "<style scoped>\n",
              "    .dataframe tbody tr th:only-of-type {\n",
              "        vertical-align: middle;\n",
              "    }\n",
              "\n",
              "    .dataframe tbody tr th {\n",
              "        vertical-align: top;\n",
              "    }\n",
              "\n",
              "    .dataframe thead th {\n",
              "        text-align: right;\n",
              "    }\n",
              "</style>\n",
              "<table border=\"1\" class=\"dataframe\">\n",
              "  <thead>\n",
              "    <tr style=\"text-align: right;\">\n",
              "      <th>type</th>\n",
              "      <th>red</th>\n",
              "      <th>white</th>\n",
              "    </tr>\n",
              "    <tr>\n",
              "      <th>quality</th>\n",
              "      <th></th>\n",
              "      <th></th>\n",
              "    </tr>\n",
              "  </thead>\n",
              "  <tbody>\n",
              "    <tr>\n",
              "      <th>3</th>\n",
              "      <td>10</td>\n",
              "      <td>20</td>\n",
              "    </tr>\n",
              "    <tr>\n",
              "      <th>4</th>\n",
              "      <td>53</td>\n",
              "      <td>163</td>\n",
              "    </tr>\n",
              "    <tr>\n",
              "      <th>5</th>\n",
              "      <td>681</td>\n",
              "      <td>1457</td>\n",
              "    </tr>\n",
              "    <tr>\n",
              "      <th>6</th>\n",
              "      <td>638</td>\n",
              "      <td>2198</td>\n",
              "    </tr>\n",
              "    <tr>\n",
              "      <th>7</th>\n",
              "      <td>199</td>\n",
              "      <td>880</td>\n",
              "    </tr>\n",
              "    <tr>\n",
              "      <th>8</th>\n",
              "      <td>18</td>\n",
              "      <td>175</td>\n",
              "    </tr>\n",
              "    <tr>\n",
              "      <th>9</th>\n",
              "      <td>0</td>\n",
              "      <td>5</td>\n",
              "    </tr>\n",
              "  </tbody>\n",
              "</table>\n",
              "</div>\n",
              "      <button class=\"colab-df-convert\" onclick=\"convertToInteractive('df-cd76fdb3-63e4-46fd-989f-06ea98a22d59')\"\n",
              "              title=\"Convert this dataframe to an interactive table.\"\n",
              "              style=\"display:none;\">\n",
              "        \n",
              "  <svg xmlns=\"http://www.w3.org/2000/svg\" height=\"24px\"viewBox=\"0 0 24 24\"\n",
              "       width=\"24px\">\n",
              "    <path d=\"M0 0h24v24H0V0z\" fill=\"none\"/>\n",
              "    <path d=\"M18.56 5.44l.94 2.06.94-2.06 2.06-.94-2.06-.94-.94-2.06-.94 2.06-2.06.94zm-11 1L8.5 8.5l.94-2.06 2.06-.94-2.06-.94L8.5 2.5l-.94 2.06-2.06.94zm10 10l.94 2.06.94-2.06 2.06-.94-2.06-.94-.94-2.06-.94 2.06-2.06.94z\"/><path d=\"M17.41 7.96l-1.37-1.37c-.4-.4-.92-.59-1.43-.59-.52 0-1.04.2-1.43.59L10.3 9.45l-7.72 7.72c-.78.78-.78 2.05 0 2.83L4 21.41c.39.39.9.59 1.41.59.51 0 1.02-.2 1.41-.59l7.78-7.78 2.81-2.81c.8-.78.8-2.07 0-2.86zM5.41 20L4 18.59l7.72-7.72 1.47 1.35L5.41 20z\"/>\n",
              "  </svg>\n",
              "      </button>\n",
              "      \n",
              "  <style>\n",
              "    .colab-df-container {\n",
              "      display:flex;\n",
              "      flex-wrap:wrap;\n",
              "      gap: 12px;\n",
              "    }\n",
              "\n",
              "    .colab-df-convert {\n",
              "      background-color: #E8F0FE;\n",
              "      border: none;\n",
              "      border-radius: 50%;\n",
              "      cursor: pointer;\n",
              "      display: none;\n",
              "      fill: #1967D2;\n",
              "      height: 32px;\n",
              "      padding: 0 0 0 0;\n",
              "      width: 32px;\n",
              "    }\n",
              "\n",
              "    .colab-df-convert:hover {\n",
              "      background-color: #E2EBFA;\n",
              "      box-shadow: 0px 1px 2px rgba(60, 64, 67, 0.3), 0px 1px 3px 1px rgba(60, 64, 67, 0.15);\n",
              "      fill: #174EA6;\n",
              "    }\n",
              "\n",
              "    [theme=dark] .colab-df-convert {\n",
              "      background-color: #3B4455;\n",
              "      fill: #D2E3FC;\n",
              "    }\n",
              "\n",
              "    [theme=dark] .colab-df-convert:hover {\n",
              "      background-color: #434B5C;\n",
              "      box-shadow: 0px 1px 3px 1px rgba(0, 0, 0, 0.15);\n",
              "      filter: drop-shadow(0px 1px 2px rgba(0, 0, 0, 0.3));\n",
              "      fill: #FFFFFF;\n",
              "    }\n",
              "  </style>\n",
              "\n",
              "      <script>\n",
              "        const buttonEl =\n",
              "          document.querySelector('#df-cd76fdb3-63e4-46fd-989f-06ea98a22d59 button.colab-df-convert');\n",
              "        buttonEl.style.display =\n",
              "          google.colab.kernel.accessAllowed ? 'block' : 'none';\n",
              "\n",
              "        async function convertToInteractive(key) {\n",
              "          const element = document.querySelector('#df-cd76fdb3-63e4-46fd-989f-06ea98a22d59');\n",
              "          const dataTable =\n",
              "            await google.colab.kernel.invokeFunction('convertToInteractive',\n",
              "                                                     [key], {});\n",
              "          if (!dataTable) return;\n",
              "\n",
              "          const docLinkHtml = 'Like what you see? Visit the ' +\n",
              "            '<a target=\"_blank\" href=https://colab.research.google.com/notebooks/data_table.ipynb>data table notebook</a>'\n",
              "            + ' to learn more about interactive tables.';\n",
              "          element.innerHTML = '';\n",
              "          dataTable['output_type'] = 'display_data';\n",
              "          await google.colab.output.renderOutput(dataTable, element);\n",
              "          const docLink = document.createElement('div');\n",
              "          docLink.innerHTML = docLinkHtml;\n",
              "          element.appendChild(docLink);\n",
              "        }\n",
              "      </script>\n",
              "    </div>\n",
              "  </div>\n",
              "  "
            ]
          },
          "metadata": {},
          "execution_count": 6
        }
      ]
    },
    {
      "cell_type": "markdown",
      "metadata": {
        "id": "0kggmI76QwHv"
      },
      "source": [
        "# Ejercicio 2.2\n",
        "\n",
        "Teniendo en cuenta todas las variables:\n",
        "\n",
        "* Crear un objetivo binario para cada tipo de vino, haciendo la transformación necesaria para ingresar la información al modelo.\n",
        "* Crear una SVM que prediga el tipo de vino\n",
        "* Evalúe con F1, AUC-ROC y log-loss\n"
      ]
    },
    {
      "cell_type": "code",
      "source": [
        "from sklearn.datasets import make_blobs\n",
        "from sklearn.svm import SVC\n",
        "from sklearn.model_selection import train_test_split\n",
        "from sklearn import metrics\n",
        "import pandas as pd\n",
        "data['type'] = data['type'].map({'white':0, 'red':1}).astype(np.int)\n",
        "X = data.drop(['type'], axis = 1)\n",
        "y = data['type']\n",
        "X_train, X_test, y_train, y_test = train_test_split(X, y, test_size=0.20, random_state=2022)"
      ],
      "metadata": {
        "colab": {
          "base_uri": "https://localhost:8080/"
        },
        "id": "qg8vKpZOpnGd",
        "outputId": "433853ca-2416-483b-8b88-d7e8c9dedb15"
      },
      "execution_count": null,
      "outputs": [
        {
          "output_type": "stream",
          "name": "stderr",
          "text": [
            "/usr/local/lib/python3.7/dist-packages/ipykernel_launcher.py:6: DeprecationWarning: `np.int` is a deprecated alias for the builtin `int`. To silence this warning, use `int` by itself. Doing this will not modify any behavior and is safe. When replacing `np.int`, you may wish to use e.g. `np.int64` or `np.int32` to specify the precision. If you wish to review your current use, check the release note link for additional information.\n",
            "Deprecated in NumPy 1.20; for more details and guidance: https://numpy.org/devdocs/release/1.20.0-notes.html#deprecations\n",
            "  \n"
          ]
        }
      ]
    },
    {
      "cell_type": "code",
      "metadata": {
        "id": "lsL5zSQmQwHz"
      },
      "source": [
        "modSVC = SVC()\n",
        "modSVC.fit(X_train, y_train)\n",
        "scv_pred = modSVC.predict(X_test)\n",
        "\n",
        "AUC = metrics.roc_auc_score(y_test, scv_pred)\n",
        "F1 = metrics.f1_score(y_test, scv_pred)\n",
        "LOG = metrics.log_loss(y_test, scv_pred)"
      ],
      "execution_count": null,
      "outputs": []
    },
    {
      "cell_type": "code",
      "source": [
        "\n",
        "datos = [AUC,F1,LOG]\n",
        "columnas = ['MÉTRICA'] # definimos los nombres de las columnas\n",
        "filas = ['AUC', 'F1', 'Log_loss'] # definimos los nombres de las filas\n",
        "\n",
        "df = pd.DataFrame(datos, columns=columnas, index=filas)\n",
        "\n",
        "\n"
      ],
      "metadata": {
        "id": "4Q4A6reDkU1B"
      },
      "execution_count": null,
      "outputs": []
    },
    {
      "cell_type": "markdown",
      "metadata": {
        "id": "auNsSHtsQwH1"
      },
      "source": [
        "# Ejercicio 2.3\n",
        "\n",
        "* Probar la SVM utilizando los diferentes kernels ('poly', 'rbf', 'sigmoid')\n",
        "* Evalúe con F1, AUC-ROC y log-loss\n"
      ]
    },
    {
      "cell_type": "code",
      "metadata": {
        "id": "f6adIqmAQwH4",
        "colab": {
          "base_uri": "https://localhost:8080/"
        },
        "outputId": "07bb4aa1-bd3f-45ae-eb93-ce5fec8e4a9f"
      },
      "source": [
        "kernels = ['poly','rbf','sigmoid']\n",
        "AUC2 = []\n",
        "F12 = []\n",
        "log2 = []\n",
        "for f in kernels:\n",
        "    modSVC2 = SVC(kernel=f)\n",
        "    modSVC2.fit(X_train,y_train)\n",
        "    scv_pred2 = modSVC2.predict(X_test)\n",
        "    AUC2.append(metrics.roc_auc_score(y_test, scv_pred2))\n",
        "    F12.append(np.sqrt(metrics.f1_score(y_test, scv_pred2)))\n",
        "    log2.append(np.sqrt(metrics.log_loss(y_test, scv_pred2)))\n",
        "print(AUC2)\n",
        "print(F12)\n",
        "print(log2)"
      ],
      "execution_count": null,
      "outputs": [
        {
          "output_type": "stream",
          "name": "stdout",
          "text": [
            "[0.8883168581962583, 0.8784676979547317, 0.6927182833201074]\n",
            "[0.9074852129730301, 0.9158719836679894, 0.7291121574130556]\n",
            "[1.7172995248081817, 1.5718991439215957, 2.770978932845982]\n"
          ]
        }
      ]
    },
    {
      "cell_type": "code",
      "source": [
        "final2 = pd.DataFrame()\n",
        "final2['AUC'] = AUC2\n",
        "final2['F1'] = F12\n",
        "final2['Log_loss'] = log2\n",
        "final2.index = kernels"
      ],
      "metadata": {
        "id": "5q3yd4ht2S2w"
      },
      "execution_count": null,
      "outputs": []
    },
    {
      "cell_type": "markdown",
      "metadata": {
        "id": "DHBmMhtYQwH6"
      },
      "source": [
        "# Ejercicio 2.4\n",
        "* Utilizando el mejor SVM del punto anterior encontrar los parámetros que da el mejor rendimiento teniendo en cuenta los siguientes hiperparámetros\n",
        "'C': [0.1, 1, 10, 100, 1000], 'gamma': [0.01, 0.001, 0.0001]\n",
        "* Evalúe cada modelo con F1, AUC-ROC y log-loss\n",
        "\n",
        "Nota: Para los valores de C y gamma, deben realizar todas las posibles combinaciones entre estas dos variables."
      ]
    },
    {
      "cell_type": "code",
      "metadata": {
        "collapsed": true,
        "id": "3d6wqybPQwH8",
        "colab": {
          "base_uri": "https://localhost:8080/"
        },
        "outputId": "f311b12b-dfe6-46e9-e810-7ce3fe872247"
      },
      "source": [
        "\n",
        "Ci = [0.1, 1, 10, 100, 1000]\n",
        "Ga = [0.01, 0.001, 0.0001]\n",
        "AUC3 = []\n",
        "F13 = []\n",
        "log3 = []\n",
        "for f in Ci:\n",
        "  for k in Ga:\n",
        "      modSVC3 = SVC(kernel= 'rbf', C = f, gamma = k)\n",
        "      modSVC3.fit(X_train,y_train)\n",
        "      scv_pred3 = modSVC3.predict(X_test)\n",
        "      AUC3.append(metrics.roc_auc_score(y_test, scv_pred3))\n",
        "      F13.append(np.sqrt(metrics.f1_score(y_test, scv_pred3)))\n",
        "      log3.append(np.sqrt(metrics.log_loss(y_test, scv_pred3)))\n",
        "print(AUC3)\n",
        "print(F13)\n",
        "print(log3)"
      ],
      "execution_count": 26,
      "outputs": [
        {
          "output_type": "stream",
          "name": "stdout",
          "text": [
            "[0.8762405337356597, 0.8758404932417648, 0.8628955094229946, 0.9101166158860162, 0.8897945587961557, 0.8838266077545809, 0.946724403123255, 0.9256888044177534, 0.9031395831088208, 0.9665419193453052, 0.970682746661703, 0.9341794597983797, 0.9692736244321873, 0.9915093446193738, 0.9812960658874859]\n",
            "[0.9152575239125511, 0.9131867468388248, 0.904181320117333, 0.9388055880763546, 0.9234390754280422, 0.9199384225093443, 0.9615561158530614, 0.949301074113599, 0.9339334486684465, 0.9745547127629919, 0.9793962251010829, 0.9563330300275151, 0.9755064854862865, 0.9935064248313796, 0.987689313218155]\n",
            "[1.5718987526273926, 1.5970513509010844, 1.662263316593178, 1.363742345163536, 1.5115848940498244, 1.5377233644086679, 1.1055102916812343, 1.252014684004239, 1.411607327389533, 0.9075385400604994, 0.8149928767253924, 1.1640412331125027, 0.8927813434629681, 0.46103012545403105, 0.6312902806102219]\n"
          ]
        }
      ]
    },
    {
      "cell_type": "code",
      "source": [
        "import itertools \n",
        "Combinaciones = list(itertools.product(Ci,Ga)) \n",
        "Combinaciones"
      ],
      "metadata": {
        "colab": {
          "base_uri": "https://localhost:8080/"
        },
        "id": "vQyOq0vJ2vGO",
        "outputId": "9cbed625-8bbd-44e0-a60d-7b920279baf4"
      },
      "execution_count": 27,
      "outputs": [
        {
          "output_type": "execute_result",
          "data": {
            "text/plain": [
              "[(0.1, 0.01),\n",
              " (0.1, 0.001),\n",
              " (0.1, 0.0001),\n",
              " (1, 0.01),\n",
              " (1, 0.001),\n",
              " (1, 0.0001),\n",
              " (10, 0.01),\n",
              " (10, 0.001),\n",
              " (10, 0.0001),\n",
              " (100, 0.01),\n",
              " (100, 0.001),\n",
              " (100, 0.0001),\n",
              " (1000, 0.01),\n",
              " (1000, 0.001),\n",
              " (1000, 0.0001)]"
            ]
          },
          "metadata": {},
          "execution_count": 27
        }
      ]
    },
    {
      "cell_type": "code",
      "source": [
        "final = pd.DataFrame()\n",
        "final['AUC'] = AUC3\n",
        "final['F1'] = F13\n",
        "final['Log_loss'] = log3\n",
        "final.index = Combinaciones\n"
      ],
      "metadata": {
        "id": "qDU60bXJ0vdc"
      },
      "execution_count": 28,
      "outputs": []
    },
    {
      "cell_type": "markdown",
      "metadata": {
        "id": "XjgVQ_WTQwH9"
      },
      "source": [
        "# Ejercicio 2.5\n",
        "\n",
        "Compare los resultados con todos los anteriores modelos y eliga ¿Cuál algoritmo con cuáles hiperparámetros es el que tiene mejor rendimiento según la puntuación F1, AUC-ROC y log-loss?"
      ]
    },
    {
      "cell_type": "code",
      "source": [
        "df"
      ],
      "metadata": {
        "colab": {
          "base_uri": "https://localhost:8080/",
          "height": 143
        },
        "id": "URR5Ukg_looQ",
        "outputId": "c611041b-5655-4259-d7aa-ca9b6b475acd"
      },
      "execution_count": null,
      "outputs": [
        {
          "output_type": "execute_result",
          "data": {
            "text/plain": [
              "           MÉTRICA\n",
              "AUC       0.878468\n",
              "F1        0.838821\n",
              "Log_loss  2.470867"
            ],
            "text/html": [
              "\n",
              "  <div id=\"df-9a54fed9-5b8a-4cca-8c29-f7cf800b713c\">\n",
              "    <div class=\"colab-df-container\">\n",
              "      <div>\n",
              "<style scoped>\n",
              "    .dataframe tbody tr th:only-of-type {\n",
              "        vertical-align: middle;\n",
              "    }\n",
              "\n",
              "    .dataframe tbody tr th {\n",
              "        vertical-align: top;\n",
              "    }\n",
              "\n",
              "    .dataframe thead th {\n",
              "        text-align: right;\n",
              "    }\n",
              "</style>\n",
              "<table border=\"1\" class=\"dataframe\">\n",
              "  <thead>\n",
              "    <tr style=\"text-align: right;\">\n",
              "      <th></th>\n",
              "      <th>MÉTRICA</th>\n",
              "    </tr>\n",
              "  </thead>\n",
              "  <tbody>\n",
              "    <tr>\n",
              "      <th>AUC</th>\n",
              "      <td>0.878468</td>\n",
              "    </tr>\n",
              "    <tr>\n",
              "      <th>F1</th>\n",
              "      <td>0.838821</td>\n",
              "    </tr>\n",
              "    <tr>\n",
              "      <th>Log_loss</th>\n",
              "      <td>2.470867</td>\n",
              "    </tr>\n",
              "  </tbody>\n",
              "</table>\n",
              "</div>\n",
              "      <button class=\"colab-df-convert\" onclick=\"convertToInteractive('df-9a54fed9-5b8a-4cca-8c29-f7cf800b713c')\"\n",
              "              title=\"Convert this dataframe to an interactive table.\"\n",
              "              style=\"display:none;\">\n",
              "        \n",
              "  <svg xmlns=\"http://www.w3.org/2000/svg\" height=\"24px\"viewBox=\"0 0 24 24\"\n",
              "       width=\"24px\">\n",
              "    <path d=\"M0 0h24v24H0V0z\" fill=\"none\"/>\n",
              "    <path d=\"M18.56 5.44l.94 2.06.94-2.06 2.06-.94-2.06-.94-.94-2.06-.94 2.06-2.06.94zm-11 1L8.5 8.5l.94-2.06 2.06-.94-2.06-.94L8.5 2.5l-.94 2.06-2.06.94zm10 10l.94 2.06.94-2.06 2.06-.94-2.06-.94-.94-2.06-.94 2.06-2.06.94z\"/><path d=\"M17.41 7.96l-1.37-1.37c-.4-.4-.92-.59-1.43-.59-.52 0-1.04.2-1.43.59L10.3 9.45l-7.72 7.72c-.78.78-.78 2.05 0 2.83L4 21.41c.39.39.9.59 1.41.59.51 0 1.02-.2 1.41-.59l7.78-7.78 2.81-2.81c.8-.78.8-2.07 0-2.86zM5.41 20L4 18.59l7.72-7.72 1.47 1.35L5.41 20z\"/>\n",
              "  </svg>\n",
              "      </button>\n",
              "      \n",
              "  <style>\n",
              "    .colab-df-container {\n",
              "      display:flex;\n",
              "      flex-wrap:wrap;\n",
              "      gap: 12px;\n",
              "    }\n",
              "\n",
              "    .colab-df-convert {\n",
              "      background-color: #E8F0FE;\n",
              "      border: none;\n",
              "      border-radius: 50%;\n",
              "      cursor: pointer;\n",
              "      display: none;\n",
              "      fill: #1967D2;\n",
              "      height: 32px;\n",
              "      padding: 0 0 0 0;\n",
              "      width: 32px;\n",
              "    }\n",
              "\n",
              "    .colab-df-convert:hover {\n",
              "      background-color: #E2EBFA;\n",
              "      box-shadow: 0px 1px 2px rgba(60, 64, 67, 0.3), 0px 1px 3px 1px rgba(60, 64, 67, 0.15);\n",
              "      fill: #174EA6;\n",
              "    }\n",
              "\n",
              "    [theme=dark] .colab-df-convert {\n",
              "      background-color: #3B4455;\n",
              "      fill: #D2E3FC;\n",
              "    }\n",
              "\n",
              "    [theme=dark] .colab-df-convert:hover {\n",
              "      background-color: #434B5C;\n",
              "      box-shadow: 0px 1px 3px 1px rgba(0, 0, 0, 0.15);\n",
              "      filter: drop-shadow(0px 1px 2px rgba(0, 0, 0, 0.3));\n",
              "      fill: #FFFFFF;\n",
              "    }\n",
              "  </style>\n",
              "\n",
              "      <script>\n",
              "        const buttonEl =\n",
              "          document.querySelector('#df-9a54fed9-5b8a-4cca-8c29-f7cf800b713c button.colab-df-convert');\n",
              "        buttonEl.style.display =\n",
              "          google.colab.kernel.accessAllowed ? 'block' : 'none';\n",
              "\n",
              "        async function convertToInteractive(key) {\n",
              "          const element = document.querySelector('#df-9a54fed9-5b8a-4cca-8c29-f7cf800b713c');\n",
              "          const dataTable =\n",
              "            await google.colab.kernel.invokeFunction('convertToInteractive',\n",
              "                                                     [key], {});\n",
              "          if (!dataTable) return;\n",
              "\n",
              "          const docLinkHtml = 'Like what you see? Visit the ' +\n",
              "            '<a target=\"_blank\" href=https://colab.research.google.com/notebooks/data_table.ipynb>data table notebook</a>'\n",
              "            + ' to learn more about interactive tables.';\n",
              "          element.innerHTML = '';\n",
              "          dataTable['output_type'] = 'display_data';\n",
              "          await google.colab.output.renderOutput(dataTable, element);\n",
              "          const docLink = document.createElement('div');\n",
              "          docLink.innerHTML = docLinkHtml;\n",
              "          element.appendChild(docLink);\n",
              "        }\n",
              "      </script>\n",
              "    </div>\n",
              "  </div>\n",
              "  "
            ]
          },
          "metadata": {},
          "execution_count": 21
        }
      ]
    },
    {
      "cell_type": "code",
      "source": [
        "final2"
      ],
      "metadata": {
        "colab": {
          "base_uri": "https://localhost:8080/",
          "height": 143
        },
        "id": "hjpWhvD-lYzd",
        "outputId": "5cf1cd11-0b1e-4b4b-8d18-923c9fd6bc8e"
      },
      "execution_count": null,
      "outputs": [
        {
          "output_type": "execute_result",
          "data": {
            "text/plain": [
              "              AUC        F1  Log_loss\n",
              "poly     0.888317  0.907485  1.717300\n",
              "rbf      0.878468  0.915872  1.571899\n",
              "sigmoid  0.692718  0.729112  2.770979"
            ],
            "text/html": [
              "\n",
              "  <div id=\"df-9eaff28a-e81b-4ae4-9242-c488e4ca3963\">\n",
              "    <div class=\"colab-df-container\">\n",
              "      <div>\n",
              "<style scoped>\n",
              "    .dataframe tbody tr th:only-of-type {\n",
              "        vertical-align: middle;\n",
              "    }\n",
              "\n",
              "    .dataframe tbody tr th {\n",
              "        vertical-align: top;\n",
              "    }\n",
              "\n",
              "    .dataframe thead th {\n",
              "        text-align: right;\n",
              "    }\n",
              "</style>\n",
              "<table border=\"1\" class=\"dataframe\">\n",
              "  <thead>\n",
              "    <tr style=\"text-align: right;\">\n",
              "      <th></th>\n",
              "      <th>AUC</th>\n",
              "      <th>F1</th>\n",
              "      <th>Log_loss</th>\n",
              "    </tr>\n",
              "  </thead>\n",
              "  <tbody>\n",
              "    <tr>\n",
              "      <th>poly</th>\n",
              "      <td>0.888317</td>\n",
              "      <td>0.907485</td>\n",
              "      <td>1.717300</td>\n",
              "    </tr>\n",
              "    <tr>\n",
              "      <th>rbf</th>\n",
              "      <td>0.878468</td>\n",
              "      <td>0.915872</td>\n",
              "      <td>1.571899</td>\n",
              "    </tr>\n",
              "    <tr>\n",
              "      <th>sigmoid</th>\n",
              "      <td>0.692718</td>\n",
              "      <td>0.729112</td>\n",
              "      <td>2.770979</td>\n",
              "    </tr>\n",
              "  </tbody>\n",
              "</table>\n",
              "</div>\n",
              "      <button class=\"colab-df-convert\" onclick=\"convertToInteractive('df-9eaff28a-e81b-4ae4-9242-c488e4ca3963')\"\n",
              "              title=\"Convert this dataframe to an interactive table.\"\n",
              "              style=\"display:none;\">\n",
              "        \n",
              "  <svg xmlns=\"http://www.w3.org/2000/svg\" height=\"24px\"viewBox=\"0 0 24 24\"\n",
              "       width=\"24px\">\n",
              "    <path d=\"M0 0h24v24H0V0z\" fill=\"none\"/>\n",
              "    <path d=\"M18.56 5.44l.94 2.06.94-2.06 2.06-.94-2.06-.94-.94-2.06-.94 2.06-2.06.94zm-11 1L8.5 8.5l.94-2.06 2.06-.94-2.06-.94L8.5 2.5l-.94 2.06-2.06.94zm10 10l.94 2.06.94-2.06 2.06-.94-2.06-.94-.94-2.06-.94 2.06-2.06.94z\"/><path d=\"M17.41 7.96l-1.37-1.37c-.4-.4-.92-.59-1.43-.59-.52 0-1.04.2-1.43.59L10.3 9.45l-7.72 7.72c-.78.78-.78 2.05 0 2.83L4 21.41c.39.39.9.59 1.41.59.51 0 1.02-.2 1.41-.59l7.78-7.78 2.81-2.81c.8-.78.8-2.07 0-2.86zM5.41 20L4 18.59l7.72-7.72 1.47 1.35L5.41 20z\"/>\n",
              "  </svg>\n",
              "      </button>\n",
              "      \n",
              "  <style>\n",
              "    .colab-df-container {\n",
              "      display:flex;\n",
              "      flex-wrap:wrap;\n",
              "      gap: 12px;\n",
              "    }\n",
              "\n",
              "    .colab-df-convert {\n",
              "      background-color: #E8F0FE;\n",
              "      border: none;\n",
              "      border-radius: 50%;\n",
              "      cursor: pointer;\n",
              "      display: none;\n",
              "      fill: #1967D2;\n",
              "      height: 32px;\n",
              "      padding: 0 0 0 0;\n",
              "      width: 32px;\n",
              "    }\n",
              "\n",
              "    .colab-df-convert:hover {\n",
              "      background-color: #E2EBFA;\n",
              "      box-shadow: 0px 1px 2px rgba(60, 64, 67, 0.3), 0px 1px 3px 1px rgba(60, 64, 67, 0.15);\n",
              "      fill: #174EA6;\n",
              "    }\n",
              "\n",
              "    [theme=dark] .colab-df-convert {\n",
              "      background-color: #3B4455;\n",
              "      fill: #D2E3FC;\n",
              "    }\n",
              "\n",
              "    [theme=dark] .colab-df-convert:hover {\n",
              "      background-color: #434B5C;\n",
              "      box-shadow: 0px 1px 3px 1px rgba(0, 0, 0, 0.15);\n",
              "      filter: drop-shadow(0px 1px 2px rgba(0, 0, 0, 0.3));\n",
              "      fill: #FFFFFF;\n",
              "    }\n",
              "  </style>\n",
              "\n",
              "      <script>\n",
              "        const buttonEl =\n",
              "          document.querySelector('#df-9eaff28a-e81b-4ae4-9242-c488e4ca3963 button.colab-df-convert');\n",
              "        buttonEl.style.display =\n",
              "          google.colab.kernel.accessAllowed ? 'block' : 'none';\n",
              "\n",
              "        async function convertToInteractive(key) {\n",
              "          const element = document.querySelector('#df-9eaff28a-e81b-4ae4-9242-c488e4ca3963');\n",
              "          const dataTable =\n",
              "            await google.colab.kernel.invokeFunction('convertToInteractive',\n",
              "                                                     [key], {});\n",
              "          if (!dataTable) return;\n",
              "\n",
              "          const docLinkHtml = 'Like what you see? Visit the ' +\n",
              "            '<a target=\"_blank\" href=https://colab.research.google.com/notebooks/data_table.ipynb>data table notebook</a>'\n",
              "            + ' to learn more about interactive tables.';\n",
              "          element.innerHTML = '';\n",
              "          dataTable['output_type'] = 'display_data';\n",
              "          await google.colab.output.renderOutput(dataTable, element);\n",
              "          const docLink = document.createElement('div');\n",
              "          docLink.innerHTML = docLinkHtml;\n",
              "          element.appendChild(docLink);\n",
              "        }\n",
              "      </script>\n",
              "    </div>\n",
              "  </div>\n",
              "  "
            ]
          },
          "metadata": {},
          "execution_count": 22
        }
      ]
    },
    {
      "cell_type": "code",
      "source": [
        "final"
      ],
      "metadata": {
        "colab": {
          "base_uri": "https://localhost:8080/",
          "height": 520
        },
        "id": "w9e6qq7ElnFM",
        "outputId": "176f49e0-50e2-41ed-a04e-feb9b4280b41"
      },
      "execution_count": 29,
      "outputs": [
        {
          "output_type": "execute_result",
          "data": {
            "text/plain": [
              "                     AUC        F1  Log_loss\n",
              "(0.1, 0.01)     0.876241  0.915258  1.571899\n",
              "(0.1, 0.001)    0.875840  0.913187  1.597051\n",
              "(0.1, 0.0001)   0.862896  0.904181  1.662263\n",
              "(1, 0.01)       0.910117  0.938806  1.363742\n",
              "(1, 0.001)      0.889795  0.923439  1.511585\n",
              "(1, 0.0001)     0.883827  0.919938  1.537723\n",
              "(10, 0.01)      0.946724  0.961556  1.105510\n",
              "(10, 0.001)     0.925689  0.949301  1.252015\n",
              "(10, 0.0001)    0.903140  0.933933  1.411607\n",
              "(100, 0.01)     0.966542  0.974555  0.907539\n",
              "(100, 0.001)    0.970683  0.979396  0.814993\n",
              "(100, 0.0001)   0.934179  0.956333  1.164041\n",
              "(1000, 0.01)    0.969274  0.975506  0.892781\n",
              "(1000, 0.001)   0.991509  0.993506  0.461030\n",
              "(1000, 0.0001)  0.981296  0.987689  0.631290"
            ],
            "text/html": [
              "\n",
              "  <div id=\"df-94fad7ea-9a47-49bb-b789-803f08400ee9\">\n",
              "    <div class=\"colab-df-container\">\n",
              "      <div>\n",
              "<style scoped>\n",
              "    .dataframe tbody tr th:only-of-type {\n",
              "        vertical-align: middle;\n",
              "    }\n",
              "\n",
              "    .dataframe tbody tr th {\n",
              "        vertical-align: top;\n",
              "    }\n",
              "\n",
              "    .dataframe thead th {\n",
              "        text-align: right;\n",
              "    }\n",
              "</style>\n",
              "<table border=\"1\" class=\"dataframe\">\n",
              "  <thead>\n",
              "    <tr style=\"text-align: right;\">\n",
              "      <th></th>\n",
              "      <th>AUC</th>\n",
              "      <th>F1</th>\n",
              "      <th>Log_loss</th>\n",
              "    </tr>\n",
              "  </thead>\n",
              "  <tbody>\n",
              "    <tr>\n",
              "      <th>(0.1, 0.01)</th>\n",
              "      <td>0.876241</td>\n",
              "      <td>0.915258</td>\n",
              "      <td>1.571899</td>\n",
              "    </tr>\n",
              "    <tr>\n",
              "      <th>(0.1, 0.001)</th>\n",
              "      <td>0.875840</td>\n",
              "      <td>0.913187</td>\n",
              "      <td>1.597051</td>\n",
              "    </tr>\n",
              "    <tr>\n",
              "      <th>(0.1, 0.0001)</th>\n",
              "      <td>0.862896</td>\n",
              "      <td>0.904181</td>\n",
              "      <td>1.662263</td>\n",
              "    </tr>\n",
              "    <tr>\n",
              "      <th>(1, 0.01)</th>\n",
              "      <td>0.910117</td>\n",
              "      <td>0.938806</td>\n",
              "      <td>1.363742</td>\n",
              "    </tr>\n",
              "    <tr>\n",
              "      <th>(1, 0.001)</th>\n",
              "      <td>0.889795</td>\n",
              "      <td>0.923439</td>\n",
              "      <td>1.511585</td>\n",
              "    </tr>\n",
              "    <tr>\n",
              "      <th>(1, 0.0001)</th>\n",
              "      <td>0.883827</td>\n",
              "      <td>0.919938</td>\n",
              "      <td>1.537723</td>\n",
              "    </tr>\n",
              "    <tr>\n",
              "      <th>(10, 0.01)</th>\n",
              "      <td>0.946724</td>\n",
              "      <td>0.961556</td>\n",
              "      <td>1.105510</td>\n",
              "    </tr>\n",
              "    <tr>\n",
              "      <th>(10, 0.001)</th>\n",
              "      <td>0.925689</td>\n",
              "      <td>0.949301</td>\n",
              "      <td>1.252015</td>\n",
              "    </tr>\n",
              "    <tr>\n",
              "      <th>(10, 0.0001)</th>\n",
              "      <td>0.903140</td>\n",
              "      <td>0.933933</td>\n",
              "      <td>1.411607</td>\n",
              "    </tr>\n",
              "    <tr>\n",
              "      <th>(100, 0.01)</th>\n",
              "      <td>0.966542</td>\n",
              "      <td>0.974555</td>\n",
              "      <td>0.907539</td>\n",
              "    </tr>\n",
              "    <tr>\n",
              "      <th>(100, 0.001)</th>\n",
              "      <td>0.970683</td>\n",
              "      <td>0.979396</td>\n",
              "      <td>0.814993</td>\n",
              "    </tr>\n",
              "    <tr>\n",
              "      <th>(100, 0.0001)</th>\n",
              "      <td>0.934179</td>\n",
              "      <td>0.956333</td>\n",
              "      <td>1.164041</td>\n",
              "    </tr>\n",
              "    <tr>\n",
              "      <th>(1000, 0.01)</th>\n",
              "      <td>0.969274</td>\n",
              "      <td>0.975506</td>\n",
              "      <td>0.892781</td>\n",
              "    </tr>\n",
              "    <tr>\n",
              "      <th>(1000, 0.001)</th>\n",
              "      <td>0.991509</td>\n",
              "      <td>0.993506</td>\n",
              "      <td>0.461030</td>\n",
              "    </tr>\n",
              "    <tr>\n",
              "      <th>(1000, 0.0001)</th>\n",
              "      <td>0.981296</td>\n",
              "      <td>0.987689</td>\n",
              "      <td>0.631290</td>\n",
              "    </tr>\n",
              "  </tbody>\n",
              "</table>\n",
              "</div>\n",
              "      <button class=\"colab-df-convert\" onclick=\"convertToInteractive('df-94fad7ea-9a47-49bb-b789-803f08400ee9')\"\n",
              "              title=\"Convert this dataframe to an interactive table.\"\n",
              "              style=\"display:none;\">\n",
              "        \n",
              "  <svg xmlns=\"http://www.w3.org/2000/svg\" height=\"24px\"viewBox=\"0 0 24 24\"\n",
              "       width=\"24px\">\n",
              "    <path d=\"M0 0h24v24H0V0z\" fill=\"none\"/>\n",
              "    <path d=\"M18.56 5.44l.94 2.06.94-2.06 2.06-.94-2.06-.94-.94-2.06-.94 2.06-2.06.94zm-11 1L8.5 8.5l.94-2.06 2.06-.94-2.06-.94L8.5 2.5l-.94 2.06-2.06.94zm10 10l.94 2.06.94-2.06 2.06-.94-2.06-.94-.94-2.06-.94 2.06-2.06.94z\"/><path d=\"M17.41 7.96l-1.37-1.37c-.4-.4-.92-.59-1.43-.59-.52 0-1.04.2-1.43.59L10.3 9.45l-7.72 7.72c-.78.78-.78 2.05 0 2.83L4 21.41c.39.39.9.59 1.41.59.51 0 1.02-.2 1.41-.59l7.78-7.78 2.81-2.81c.8-.78.8-2.07 0-2.86zM5.41 20L4 18.59l7.72-7.72 1.47 1.35L5.41 20z\"/>\n",
              "  </svg>\n",
              "      </button>\n",
              "      \n",
              "  <style>\n",
              "    .colab-df-container {\n",
              "      display:flex;\n",
              "      flex-wrap:wrap;\n",
              "      gap: 12px;\n",
              "    }\n",
              "\n",
              "    .colab-df-convert {\n",
              "      background-color: #E8F0FE;\n",
              "      border: none;\n",
              "      border-radius: 50%;\n",
              "      cursor: pointer;\n",
              "      display: none;\n",
              "      fill: #1967D2;\n",
              "      height: 32px;\n",
              "      padding: 0 0 0 0;\n",
              "      width: 32px;\n",
              "    }\n",
              "\n",
              "    .colab-df-convert:hover {\n",
              "      background-color: #E2EBFA;\n",
              "      box-shadow: 0px 1px 2px rgba(60, 64, 67, 0.3), 0px 1px 3px 1px rgba(60, 64, 67, 0.15);\n",
              "      fill: #174EA6;\n",
              "    }\n",
              "\n",
              "    [theme=dark] .colab-df-convert {\n",
              "      background-color: #3B4455;\n",
              "      fill: #D2E3FC;\n",
              "    }\n",
              "\n",
              "    [theme=dark] .colab-df-convert:hover {\n",
              "      background-color: #434B5C;\n",
              "      box-shadow: 0px 1px 3px 1px rgba(0, 0, 0, 0.15);\n",
              "      filter: drop-shadow(0px 1px 2px rgba(0, 0, 0, 0.3));\n",
              "      fill: #FFFFFF;\n",
              "    }\n",
              "  </style>\n",
              "\n",
              "      <script>\n",
              "        const buttonEl =\n",
              "          document.querySelector('#df-94fad7ea-9a47-49bb-b789-803f08400ee9 button.colab-df-convert');\n",
              "        buttonEl.style.display =\n",
              "          google.colab.kernel.accessAllowed ? 'block' : 'none';\n",
              "\n",
              "        async function convertToInteractive(key) {\n",
              "          const element = document.querySelector('#df-94fad7ea-9a47-49bb-b789-803f08400ee9');\n",
              "          const dataTable =\n",
              "            await google.colab.kernel.invokeFunction('convertToInteractive',\n",
              "                                                     [key], {});\n",
              "          if (!dataTable) return;\n",
              "\n",
              "          const docLinkHtml = 'Like what you see? Visit the ' +\n",
              "            '<a target=\"_blank\" href=https://colab.research.google.com/notebooks/data_table.ipynb>data table notebook</a>'\n",
              "            + ' to learn more about interactive tables.';\n",
              "          element.innerHTML = '';\n",
              "          dataTable['output_type'] = 'display_data';\n",
              "          await google.colab.output.renderOutput(dataTable, element);\n",
              "          const docLink = document.createElement('div');\n",
              "          docLink.innerHTML = docLinkHtml;\n",
              "          element.appendChild(docLink);\n",
              "        }\n",
              "      </script>\n",
              "    </div>\n",
              "  </div>\n",
              "  "
            ]
          },
          "metadata": {},
          "execution_count": 29
        }
      ]
    },
    {
      "cell_type": "markdown",
      "source": [
        "Teniendo en cuenta la métrica \"AUC\" que indica cuánto es capaz el modelo de distinguir entre clases. Cuanto mayor sea el AUC, mejor será el modelo para predecir 0 clases como 0 y 1 clases como 1. Por ende, el mejor modelo según el AUC es cuando se utiliza el kernels 'rbf' con C = 1000 y Gamma = 0.001 con una probabilidad del 88.83%.\n",
        "Además, teniendo en cuenta la métrica \"F1\" que es la media armónica de la precisión y la recuperación dado que F1 alcanza su mejor valor en 1 y la peor puntuación en 0 el mejor modelo según \"F1\" es cuando se utiliza el kernels 'rbf' con C = 1000 y Gamma = 0.001 con una puntuación del 0.915872.\n",
        "Asimismo, si revisamos la métrica \"Log loss\" que indica la pérdida logarítmica también indica que el mejor modelo es cuando se utiliza el kernels 'rbf' con C = 1000 y Gamma = 0.001 con un valor de 0.461030."
      ],
      "metadata": {
        "id": "2EMQHHhUyG_-"
      }
    },
    {
      "cell_type": "markdown",
      "source": [
        "Por ende, se puede concluir que el mejor modelo es cuando se  ejecuta usando el kernels 'rbf ',  con C = 1000 y Gamma = 0.001.\n",
        "\n"
      ],
      "metadata": {
        "id": "KqyAQX6ceHd3"
      }
    },
    {
      "cell_type": "code",
      "source": [
        "import matplotlib.pyplot as plt\n",
        "from sklearn.metrics import plot_roc_curve\n",
        "modSVCf = SVC(kernel='rbf', C = 1000,  gamma = 0.001 )\n",
        "modSVCf.fit(X_train,y_train)\n",
        "plot_roc_curve(modSVCf, X_test, y_test) "
      ],
      "metadata": {
        "colab": {
          "base_uri": "https://localhost:8080/",
          "height": 351
        },
        "id": "7myWgoCdcpGq",
        "outputId": "6671078e-bd0a-47e2-98ac-8f1182f530d4"
      },
      "execution_count": 30,
      "outputs": [
        {
          "output_type": "stream",
          "name": "stderr",
          "text": [
            "/usr/local/lib/python3.7/dist-packages/sklearn/utils/deprecation.py:87: FutureWarning: Function plot_roc_curve is deprecated; Function :func:`plot_roc_curve` is deprecated in 1.0 and will be removed in 1.2. Use one of the class methods: :meth:`sklearn.metric.RocCurveDisplay.from_predictions` or :meth:`sklearn.metric.RocCurveDisplay.from_estimator`.\n",
            "  warnings.warn(msg, category=FutureWarning)\n"
          ]
        },
        {
          "output_type": "execute_result",
          "data": {
            "text/plain": [
              "<sklearn.metrics._plot.roc_curve.RocCurveDisplay at 0x7f92c2dd0490>"
            ]
          },
          "metadata": {},
          "execution_count": 30
        },
        {
          "output_type": "display_data",
          "data": {
            "text/plain": [
              "<Figure size 432x288 with 1 Axes>"
            ],
            "image/png": "[encoded data removed]"
          },
          "metadata": {
            "needs_background": "light"
          }
        }
      ]
    }
  ]
}